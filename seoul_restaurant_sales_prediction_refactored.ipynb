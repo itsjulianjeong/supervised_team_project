{
  "cells": [
    {
      "cell_type": "code",
      "execution_count": null,
      "id": "2c55183e",
      "metadata": {},
      "outputs": [],
      "source": [
        "﻿#!/usr/bin/env python\n",
        "# coding: utf-8"
      ]
    },
    {
      "cell_type": "code",
      "execution_count": null,
      "id": "f7a9ddb3",
      "metadata": {},
      "outputs": [],
      "source": []
    },
    {
      "cell_type": "markdown",
      "id": "6b5d2eb5",
      "metadata": {},
      "source": [
        "# 서울시 요식업 평균 매출 예측 모델\n",
        "서울시 요식업 매출 데이터 분석 및 예측 모델 구축"
      ],
      "outputs": [],
      "execution_count": null
    },
    {
      "cell_type": "markdown",
      "id": "e2610d3c",
      "metadata": {},
      "source": [
        "## 1. 데이터 로딩과 전처리"
      ],
      "outputs": [],
      "execution_count": null
    },
    {
      "cell_type": "markdown",
      "id": "5cac3d7a",
      "metadata": {},
      "source": [
        "### 1.1 라이브러리 임포트"
      ],
      "outputs": [],
      "execution_count": null
    },
    {
      "cell_type": "code",
      "execution_count": null,
      "id": "59d9c0df",
      "metadata": {},
      "outputs": [],
      "source": [
        "# 기본 라이브러리\n",
        "import numpy as np\n",
        "import pandas as pd\n",
        "import matplotlib.pyplot as plt\n",
        "import seaborn as sns\n",
        "import os, gc, joblib\n",
        "from pathlib import Path\n",
        "\n",
        "# 한글 폰트 설정\n",
        "plt.rc('font', family='Malgun Gothic')\n",
        "plt.rcParams['axes.unicode_minus'] = False\n",
        "\n",
        "# 머신러닝 라이브러리\n",
        "from sklearn.model_selection import train_test_split, GridSearchCV, cross_val_score\n",
        "from sklearn.preprocessing import StandardScaler, OneHotEncoder, PolynomialFeatures\n",
        "from sklearn.metrics import r2_score, mean_squared_error, mean_absolute_error, root_mean_squared_error\n",
        "from sklearn.linear_model import LinearRegression, Ridge, Lasso\n",
        "from sklearn.ensemble import RandomForestRegressor, GradientBoostingRegressor\n",
        "from sklearn.pipeline import Pipeline\n",
        "from sklearn.compose import ColumnTransformer\n",
        "from sklearn.impute import SimpleImputer\n",
        "\n",
        "# 결과 저장 디렉토리 생성\n",
        "Path('plots').mkdir(exist_ok=True)\n",
        "Path('models').mkdir(exist_ok=True)"
      ]
    },
    {
      "cell_type": "markdown",
      "id": "24a42a76",
      "metadata": {},
      "source": [
        "### 1.2 데이터 로드"
      ],
      "outputs": [],
      "execution_count": null
    },
    {
      "cell_type": "code",
      "execution_count": null,
      "id": "3ca6a856",
      "metadata": {},
      "outputs": [],
      "source": [
        "# 원본 데이터 파일 로드\n",
        "sales_df = pd.read_csv(\"data/서울시 상권분석서비스(추정매출-상권).csv\", encoding=\"cp949\")\n",
        "work_df = pd.read_csv(\"data/서울시 상권분석서비스(직장인구-상권).csv\", encoding=\"cp949\")\n",
        "street_df = pd.read_csv(\"data/서울시 상권분석서비스(길단위인구-상권).csv\", encoding=\"cp949\")"
      ]
    },
    {
      "cell_type": "markdown",
      "id": "5f5b9997",
      "metadata": {},
      "source": [
        "### 1.3 데이터 기본 정보 확인"
      ],
      "outputs": [],
      "execution_count": null
    },
    {
      "cell_type": "code",
      "execution_count": null,
      "id": "92446f56",
      "metadata": {},
      "outputs": [],
      "source": [
        "# 데이터셋 크기 출력\n",
        "print(\"\\n=== 데이터셋 기본 정보 ===\")\n",
        "print(f\"매출 데이터: {sales_df.shape[0]}행, {sales_df.shape[1]}열\")\n",
        "print(f\"직장인구 데이터: {work_df.shape[0]}행, {work_df.shape[1]}열\")\n",
        "print(f\"유동인구 데이터: {street_df.shape[0]}행, {street_df.shape[1]}열\")"
      ]
    },
    {
      "cell_type": "markdown",
      "id": "5b321f85",
      "metadata": {},
      "source": [
        "### 1.4 매출 데이터 확인"
      ],
      "outputs": [],
      "execution_count": null
    },
    {
      "cell_type": "code",
      "execution_count": null,
      "id": "39ec4c25",
      "metadata": {},
      "outputs": [],
      "source": [
        "# 데이터 샘플 및 컬럼 확인\n",
        "print(\"\\n=== 매출 데이터 샘플 ===\")\n",
        "print(sales_df.head(3))\n",
        "print(\"\\n=== 매출 데이터 컬럼 목록 ===\")\n",
        "print(sales_df.columns.tolist())"
      ]
    },
    {
      "cell_type": "markdown",
      "id": "3dd9bb52",
      "metadata": {},
      "source": [
        "### 1.5 결측치 및 요식업 코드 확인"
      ],
      "outputs": [],
      "execution_count": null
    },
    {
      "cell_type": "code",
      "execution_count": null,
      "id": "286c45ae",
      "metadata": {},
      "outputs": [],
      "source": [
        "# 결측치 확인\n",
        "print(\"\\n=== 결측치 확인 ===\")\n",
        "missing_sales = sales_df.isnull().sum()\n",
        "missing_sales = missing_sales[missing_sales > 0]\n",
        "if len(missing_sales) > 0:\n",
        "    print(\"매출 데이터 결측치:\")\n",
        "    print(missing_sales)\n",
        "else:\n",
        "    print(\"매출 데이터에 결측치가 없습니다.\")\n",
        "\n",
        "# 요식업 코드 분포 확인\n",
        "print(\"\\n=== 요식업 서비스 코드 분포 ===\")\n",
        "cs_codes = sales_df[\"서비스_업종_코드\"].str.startswith(\"CS\").value_counts()\n",
        "print(f\"CS로 시작하는 코드 수: {cs_codes.get(True, 0)}/{len(sales_df)}\")"
      ]
    },
    {
      "cell_type": "markdown",
      "id": "9b9813a9",
      "metadata": {},
      "source": [
        "### 1.6 요식업 데이터 필터링"
      ],
      "outputs": [],
      "execution_count": null
    },
    {
      "cell_type": "code",
      "execution_count": null,
      "id": "3a1fbf43",
      "metadata": {},
      "outputs": [],
      "source": [
        "# 요식업(CS1) 데이터만 추출\n",
        "restaurant_sales = sales_df[sales_df[\"서비스_업종_코드\"].str.startswith(\"CS1\")].copy()\n",
        "print(f\"\\n요식업(CS1) 데이터 추출: {len(restaurant_sales)}행\")\n",
        "\n",
        "# 업종 분포 확인\n",
        "if '서비스_업종_코드_명' in restaurant_sales.columns:\n",
        "    print(\"\\n=== 요식업 유형 분포 (상위 10개) ===\")\n",
        "    print(restaurant_sales['서비스_업종_코드_명'].value_counts().head(10))"
      ]
    },
    {
      "cell_type": "markdown",
      "id": "b3837e0d",
      "metadata": {},
      "source": [
        "### 1.7 데이터 전처리 함수 정의"
      ],
      "outputs": [],
      "execution_count": null
    },
    {
      "cell_type": "code",
      "execution_count": null,
      "id": "f6d766ee",
      "metadata": {},
      "outputs": [],
      "source": [
        "# 문자열을 숫자로 변환하는 함수 제거 (불필요)"
      ]
    },
    {
      "cell_type": "markdown",
      "id": "4aa0ed3c",
      "metadata": {},
      "source": [
        "### 1.8 데이터 전처리 적용"
      ],
      "outputs": [],
      "execution_count": null
    },
    {
      "cell_type": "code",
      "execution_count": null,
      "id": "0c0be26a",
      "metadata": {},
      "outputs": [],
      "source": [
        "# 데이터셋 이름 지정 코드 제거 (불필요)"
      ]
    },
    {
      "cell_type": "markdown",
      "id": "b4ab758b",
      "metadata": {},
      "source": [
        "### 1.9 상권별 평균 매출 계산"
      ],
      "outputs": [],
      "execution_count": null
    },
    {
      "cell_type": "code",
      "execution_count": null,
      "id": "7d77e7c3",
      "metadata": {},
      "outputs": [],
      "source": [
        "# 상권별, 분기별 평균매출 계산\n",
        "grouped = restaurant_sales.groupby([\"상권_코드_명\", \"기준_년분기_코드\"])[[\"당월_매출_금액\"]].mean().reset_index()\n",
        "grouped.rename(columns={\"당월_매출_금액\": \"평균매출\"}, inplace=True)\n",
        "\n",
        "# 상권 구분 코드 추출 (상권별로 고유한 값)\n",
        "commercial_type = sales_df[[\"상권_코드_명\", \"상권_구분_코드_명\"]].drop_duplicates()\n",
        "\n",
        "# 평균매출 데이터에 상권 구분 코드 병합\n",
        "grouped = pd.merge(grouped, commercial_type, on=\"상권_코드_명\", how=\"left\")\n",
        "\n",
        "# 평균매출 통계 확인\n",
        "print(\"\\n=== 평균매출 기본 통계량 ===\")\n",
        "print(grouped[\"평균매출\"].describe())"
      ]
    },
    {
      "cell_type": "markdown",
      "id": "764c3e57",
      "metadata": {},
      "source": [
        "### 1.10 매출 분포 시각화"
      ],
      "outputs": [],
      "execution_count": null
    },
    {
      "cell_type": "code",
      "execution_count": null,
      "id": "0316b9d7",
      "metadata": {},
      "outputs": [],
      "source": [
        "# 평균매출 분포 시각화\n",
        "plt.figure(figsize=(10, 5))\n",
        "\n",
        "# 원본 매출 분포\n",
        "plt.subplot(1, 2, 1)\n",
        "sns.histplot(grouped[\"평균매출\"], kde=True)\n",
        "plt.title(\"평균매출 분포\")\n",
        "plt.xlabel(\"평균매출\")\n",
        "\n",
        "# 로그 변환 매출 분포\n",
        "plt.subplot(1, 2, 2)\n",
        "sns.histplot(np.log1p(grouped[\"평균매출\"]), kde=True)\n",
        "plt.title(\"로그 변환 평균매출 분포\")\n",
        "plt.xlabel(\"log(평균매출+1)\")\n",
        "\n",
        "plt.tight_layout()\n",
        "plt.show()"
      ]
    },
    {
      "cell_type": "markdown",
      "id": "94800515",
      "metadata": {},
      "source": [
        "### 1.11 데이터 병합"
      ],
      "outputs": [],
      "execution_count": null
    },
    {
      "cell_type": "code",
      "execution_count": null,
      "id": "1cff4bcb",
      "metadata": {},
      "outputs": [],
      "source": [
        "# 매출, 유동인구, 직장인구 데이터 병합\n",
        "# 먼저 매출데이터(grouped)와 유동인구 데이터(street_df) 병합\n",
        "restaurant_data = pd.merge(grouped, street_df, on=[\"상권_코드_명\", \"기준_년분기_코드\"], how=\"left\")\n",
        "\n",
        "# 그 다음 직장인구 데이터(work_df) 병합\n",
        "restaurant_data = pd.merge(restaurant_data, work_df, on=[\"상권_코드_명\", \"기준_년분기_코드\"], how=\"left\")\n",
        "\n",
        "# 병합 결과 확인\n",
        "print(\"\\n=== 병합 결과 확인 ===\")\n",
        "print(f\"병합 후 데이터: {restaurant_data.shape[0]}행, {restaurant_data.shape[1]}열\")\n",
        "print(f\"원본 평균매출 데이터: {grouped.shape[0]}행, {grouped.shape[1]}열\")\n",
        "\n",
        "# 결측치 확인\n",
        "missing_after_merge = restaurant_data.isnull().sum().sum()\n",
        "missing_percent = (missing_after_merge / (restaurant_data.shape[0] * restaurant_data.shape[1])) * 100\n",
        "print(f\"병합 후 총 결측치: {missing_after_merge}개 ({missing_percent:.2f}%)\")"
      ]
    },
    {
      "cell_type": "markdown",
      "id": "839324fb",
      "metadata": {},
      "source": [
        "### 1.12 병합 결과 확인"
      ],
      "outputs": [],
      "execution_count": null
    },
    {
      "cell_type": "code",
      "execution_count": null,
      "id": "da2ee772",
      "metadata": {},
      "outputs": [],
      "source": [
        "# 병합 결과 샘플 출력\n",
        "print(\"\\n=== 병합 결과 샘플 ===\")\n",
        "sample_cols = ['상권_코드_명', '기준_년분기_코드', '상권_구분_코드_명', '평균매출']\n",
        "if '총_유동인구_수' in restaurant_data.columns:\n",
        "    sample_cols.append('총_유동인구_수')\n",
        "if '총_직장_인구_수' in restaurant_data.columns:\n",
        "    sample_cols.append('총_직장_인구_수')\n",
        "print(restaurant_data[sample_cols].head(3))"
      ]
    },
    {
      "cell_type": "markdown",
      "id": "39bfce93",
      "metadata": {},
      "source": [
        "### 1.13 결측치 처리"
      ],
      "outputs": [],
      "execution_count": null
    },
    {
      "cell_type": "code",
      "execution_count": null,
      "id": "3001266f",
      "metadata": {},
      "outputs": [],
      "source": [
        "# 결측치 처리\n",
        "# 수치형 컬럼 - 중앙값으로 대체\n",
        "numeric_cols = restaurant_data.select_dtypes(include=['number']).columns\n",
        "for col in numeric_cols:\n",
        "    if restaurant_data[col].isnull().any():\n",
        "        restaurant_data[col] = restaurant_data[col].fillna(restaurant_data[col].median())\n",
        "\n",
        "# 문자열 컬럼 - 최빈값으로 대체\n",
        "object_cols = restaurant_data.select_dtypes(include=['object']).columns\n",
        "for col in object_cols:\n",
        "    if restaurant_data[col].isnull().any():\n",
        "        restaurant_data[col] = restaurant_data[col].fillna(restaurant_data[col].mode().iloc[0] if not restaurant_data[col].mode().empty else \"알수없음\")"
      ]
    },
    {
      "cell_type": "markdown",
      "id": "da26ef19",
      "metadata": {},
      "source": [
        "## 2. 특성 엔지니어링"
      ],
      "outputs": [],
      "execution_count": null
    },
    {
      "cell_type": "markdown",
      "id": "0891c2fa",
      "metadata": {},
      "source": [
        "### 2.0 특성 정의"
      ],
      "outputs": [],
      "execution_count": null
    },
    {
      "cell_type": "code",
      "execution_count": null,
      "id": "8eaa6b30",
      "metadata": {},
      "outputs": [],
      "source": [
        "# 모델링에 사용할 특성 정의\n",
        "numeric_features = [\n",
        "    \"총_유동인구_수\", \"남성_유동인구_수\", \"여성_유동인구_수\", \n",
        "    \"총_직장_인구_수\", \"남성_직장_인구_수\", \"여성_직장_인구_수\", \n",
        "    \"초년_유동인구_수\", \"중년_유동인구_수\", \"노년_유동인구_수\", \n",
        "    \"초년_직장_인구_수\", \"중년_직장_인구_수\", \"노년_직장_인구_수\"\n",
        "]\n",
        "\n",
        "categorical_features = [\"상권_구분_코드_명\", \"기준_년분기_코드\"]"
      ]
    },
    {
      "cell_type": "markdown",
      "id": "9f7decfa",
      "metadata": {},
      "source": [
        "### 2.1 연령대별 인구 통합 특성"
      ],
      "outputs": [],
      "execution_count": null
    },
    {
      "cell_type": "code",
      "execution_count": null,
      "id": "e6039c20",
      "metadata": {},
      "outputs": [],
      "source": [
        "# 연령대 그룹핑 (초년/중년/노년)\n",
        "restaurant_data[\"초년_유동인구_수\"] = restaurant_data[\"연령대_10_유동인구_수\"] + restaurant_data[\"연령대_20_유동인구_수\"]\n",
        "restaurant_data[\"중년_유동인구_수\"] = restaurant_data[\"연령대_30_유동인구_수\"] + restaurant_data[\"연령대_40_유동인구_수\"]\n",
        "restaurant_data[\"노년_유동인구_수\"] = restaurant_data[\"연령대_50_유동인구_수\"] + restaurant_data[\"연령대_60_이상_유동인구_수\"]\n",
        "restaurant_data[\"초년_직장_인구_수\"] = restaurant_data[\"연령대_10_직장_인구_수\"] + restaurant_data[\"연령대_20_직장_인구_수\"]\n",
        "restaurant_data[\"중년_직장_인구_수\"] = restaurant_data[\"연령대_30_직장_인구_수\"] + restaurant_data[\"연령대_40_직장_인구_수\"]\n",
        "restaurant_data[\"노년_직장_인구_수\"] = restaurant_data[\"연령대_50_직장_인구_수\"] + restaurant_data[\"연령대_60_이상_직장_인구_수\"]"
      ]
    },
    {
      "cell_type": "markdown",
      "id": "1d2ac93d",
      "metadata": {},
      "source": [
        "### 2.2 성별 인구 비율 계산"
      ],
      "outputs": [],
      "execution_count": null
    },
    {
      "cell_type": "code",
      "execution_count": null,
      "id": "31d0f132",
      "metadata": {},
      "outputs": [],
      "source": [
        "# 성별 인구 비율 계산\n",
        "restaurant_data['남성_유동인구_비율'] = restaurant_data['남성_유동인구_수'] / restaurant_data['총_유동인구_수']\n",
        "restaurant_data['여성_유동인구_비율'] = restaurant_data['여성_유동인구_수'] / restaurant_data['총_유동인구_수']\n",
        "restaurant_data['남성_직장인구_비율'] = restaurant_data['남성_직장_인구_수'] / restaurant_data['총_직장_인구_수']\n",
        "restaurant_data['여성_직장인구_비율'] = restaurant_data['여성_직장_인구_수'] / restaurant_data['총_직장_인구_수']\n",
        "\n",
        "# 0으로 나누는 경우 처리\n",
        "for col in ['남성_유동인구_비율', '여성_유동인구_비율', '남성_직장인구_비율', '여성_직장인구_비율']:\n",
        "    restaurant_data[col] = restaurant_data[col].fillna(0)"
      ]
    },
    {
      "cell_type": "markdown",
      "id": "6703488e",
      "metadata": {},
      "source": [
        "### 2.3 성별 분포 시각화"
      ],
      "outputs": [],
      "execution_count": null
    },
    {
      "cell_type": "code",
      "execution_count": null,
      "id": "bad4cfb1",
      "metadata": {},
      "outputs": [],
      "source": [
        "# 성별 인구 분포 시각화\n",
        "plt.figure(figsize=(16, 10))\n",
        "\n",
        "# 1. 성별 인구 분포 (절대값)\n",
        "plt.subplot(2, 2, 1)\n",
        "gender_data = restaurant_data[['남성_유동인구_수', '여성_유동인구_수', '남성_직장_인구_수', '여성_직장_인구_수']].mean()\n",
        "sns.barplot(x=gender_data.index, y=gender_data.values)\n",
        "plt.title('평균 성별 인구 분포')\n",
        "plt.ylabel('평균 인구 수')\n",
        "plt.xticks(rotation=45)\n",
        "\n",
        "# 2. 성별 비율 분포\n",
        "plt.subplot(2, 2, 2)\n",
        "gender_ratio = restaurant_data[['남성_유동인구_비율', '여성_유동인구_비율', '남성_직장인구_비율', '여성_직장인구_비율']]\n",
        "sns.boxplot(data=gender_ratio)\n",
        "plt.title('성별 인구 비율 분포')\n",
        "plt.ylabel('비율')\n",
        "plt.xticks(rotation=45)\n",
        "\n",
        "# 3. 성별 유동인구 비율과 매출 관계\n",
        "plt.subplot(2, 2, 3)\n",
        "sns.scatterplot(x='남성_유동인구_비율', y='평균매출', data=restaurant_data, alpha=0.5, label='남성')\n",
        "sns.scatterplot(x='여성_유동인구_비율', y='평균매출', data=restaurant_data, alpha=0.5, label='여성')\n",
        "plt.title('성별 유동인구 비율과 평균매출')\n",
        "plt.xlabel('성별 유동인구 비율')\n",
        "plt.ylabel('평균매출')\n",
        "plt.legend()\n",
        "\n",
        "# 4. 성별 직장인구 비율과 매출 관계\n",
        "plt.subplot(2, 2, 4)\n",
        "sns.scatterplot(x='남성_직장인구_비율', y='평균매출', data=restaurant_data, alpha=0.5, label='남성')\n",
        "sns.scatterplot(x='여성_직장인구_비율', y='평균매출', data=restaurant_data, alpha=0.5, label='여성')\n",
        "plt.title('성별 직장인구 비율과 평균매출')\n",
        "plt.xlabel('성별 직장인구 비율')\n",
        "plt.ylabel('평균매출')\n",
        "plt.legend()\n",
        "\n",
        "plt.tight_layout()\n",
        "plt.show()"
      ]
    },
    {
      "cell_type": "markdown",
      "id": "daf9fc7e",
      "metadata": {},
      "source": [
        "### 2.4 상권 유형 및 인구 분석"
      ],
      "outputs": [],
      "execution_count": null
    },
    {
      "cell_type": "code",
      "execution_count": null,
      "id": "46e9451c",
      "metadata": {},
      "outputs": [],
      "source": [
        "# 상권 유형별 인구 및 매출 분석과 인구 비율 분석 통합\n",
        "plt.figure(figsize=(16, 15))\n",
        "\n",
        "# 1. 상권 구분별 평균 매출\n",
        "plt.subplot(3, 2, 1)\n",
        "commercial_sales = restaurant_data.groupby('상권_구분_코드_명')['평균매출'].mean().sort_values(ascending=False).reset_index()\n",
        "sns.barplot(x='상권_구분_코드_명', y='평균매출', data=commercial_sales)\n",
        "plt.title('상권 유형별 평균 매출')\n",
        "plt.xlabel('상권 구분')\n",
        "plt.ylabel('평균 매출')\n",
        "plt.xticks(rotation=45)\n",
        "\n",
        "# 2. 상권 구분별 평균 유동인구\n",
        "plt.subplot(3, 2, 2)\n",
        "commercial_floating = restaurant_data.groupby('상권_구분_코드_명')['총_유동인구_수'].mean().sort_values(ascending=False).reset_index()\n",
        "sns.barplot(x='상권_구분_코드_명', y='총_유동인구_수', data=commercial_floating)\n",
        "plt.title('상권 유형별 평균 유동인구')\n",
        "plt.xlabel('상권 구분')\n",
        "plt.ylabel('평균 유동인구 수')\n",
        "plt.xticks(rotation=45)\n",
        "\n",
        "# 3. 상권 구분별 평균 직장인구\n",
        "plt.subplot(3, 2, 3)\n",
        "commercial_working = restaurant_data.groupby('상권_구분_코드_명')['총_직장_인구_수'].mean().sort_values(ascending=False).reset_index()\n",
        "sns.barplot(x='상권_구분_코드_명', y='총_직장_인구_수', data=commercial_working)\n",
        "plt.title('상권 유형별 평균 직장인구')\n",
        "plt.xlabel('상권 구분')\n",
        "plt.ylabel('평균 직장인구 수')\n",
        "plt.xticks(rotation=45)\n",
        "\n",
        "# 4. 유동인구/직장인구 비율과 매출 관계\n",
        "plt.subplot(3, 2, 4)\n",
        "# 유동인구/직장인구 비율 계산\n",
        "restaurant_data['유동인구_직장인구_비율'] = restaurant_data['총_유동인구_수'] / restaurant_data['총_직장_인구_수']\n",
        "restaurant_data['유동인구_직장인구_비율'] = restaurant_data['유동인구_직장인구_비율'].replace([np.inf, -np.inf], np.nan).fillna(0)\n",
        "sns.scatterplot(x='유동인구_직장인구_비율', y='평균매출', \n",
        "                data=restaurant_data[restaurant_data['유동인구_직장인구_비율'] < 10])\n",
        "plt.title('유동인구/직장인구 비율과 평균매출')\n",
        "plt.xlabel('유동인구/직장인구 비율')\n",
        "plt.ylabel('평균매출')\n",
        "\n",
        "# 5. 유동인구와 매출 (로그 스케일)\n",
        "plt.subplot(3, 2, 5)\n",
        "non_zero_data = restaurant_data[(restaurant_data['총_유동인구_수'] > 0) & (restaurant_data['평균매출'] > 0)]\n",
        "sns.scatterplot(x=np.log1p(non_zero_data['총_유동인구_수']), y=np.log1p(non_zero_data['평균매출']))\n",
        "plt.title('유동인구와 매출 (로그-로그 스케일)')\n",
        "plt.xlabel('log(총 유동인구 수 + 1)')\n",
        "plt.ylabel('log(평균매출 + 1)')\n",
        "\n",
        "# 6. 직장인구와 매출 (로그 스케일)\n",
        "plt.subplot(3, 2, 6)\n",
        "non_zero_data = restaurant_data[(restaurant_data['총_직장_인구_수'] > 0) & (restaurant_data['평균매출'] > 0)]\n",
        "sns.scatterplot(x=np.log1p(non_zero_data['총_직장_인구_수']), y=np.log1p(non_zero_data['평균매출']))\n",
        "plt.title('직장인구와 매출 (로그-로그 스케일)')\n",
        "plt.xlabel('log(총 직장인구 수 + 1)')\n",
        "plt.ylabel('log(평균매출 + 1)')\n",
        "\n",
        "plt.tight_layout()\n",
        "plt.show()"
      ]
    },
    {
      "cell_type": "markdown",
      "id": "41afb61a",
      "metadata": {},
      "source": [
        "### 2.5 복합 특성 생성"
      ],
      "outputs": [],
      "execution_count": null
    },
    {
      "cell_type": "code",
      "execution_count": null,
      "id": "ba768cec",
      "metadata": {},
      "outputs": [],
      "source": [
        "# 복합 특성 생성\n",
        "# 1. 총 인구 수\n",
        "restaurant_data['총_인구_수'] = restaurant_data['총_유동인구_수'] + restaurant_data['총_직장_인구_수']\n",
        "\n",
        "# 2. 젊은층 비율\n",
        "restaurant_data['초년_인구_비율'] = (restaurant_data['초년_유동인구_수'] + restaurant_data['초년_직장_인구_수']) / restaurant_data['총_인구_수']\n",
        "restaurant_data['초년_인구_비율'] = restaurant_data['초년_인구_비율'].replace([np.inf, -np.inf], np.nan).fillna(0)\n",
        "\n",
        "# 3. 여성 비율\n",
        "restaurant_data['여성_인구_비율'] = (restaurant_data['여성_유동인구_수'] + restaurant_data['여성_직장_인구_수']) / restaurant_data['총_인구_수']\n",
        "restaurant_data['여성_인구_비율'] = restaurant_data['여성_인구_비율'].replace([np.inf, -np.inf], np.nan).fillna(0)\n",
        "\n",
        "# 복합 특성 시각화\n",
        "plt.figure(figsize=(16, 10))\n",
        "\n",
        "# 1. 총 인구수와 매출 관계\n",
        "plt.subplot(2, 2, 1)\n",
        "sns.scatterplot(x='총_인구_수', y='평균매출', data=restaurant_data, alpha=0.5)\n",
        "plt.title('총 인구수와 평균매출')\n",
        "plt.xlabel('총 인구수 (유동+직장)')\n",
        "plt.ylabel('평균매출')\n",
        "\n",
        "# 2. 초년 인구 비율과 매출\n",
        "plt.subplot(2, 2, 2)\n",
        "sns.scatterplot(x='초년_인구_비율', y='평균매출', data=restaurant_data, alpha=0.5)\n",
        "plt.title('초년 인구 비율과 평균매출')\n",
        "plt.xlabel('초년 인구 비율')\n",
        "plt.ylabel('평균매출')\n",
        "\n",
        "# 3. 여성 인구 비율과 매출\n",
        "plt.subplot(2, 2, 3)\n",
        "sns.scatterplot(x='여성_인구_비율', y='평균매출', data=restaurant_data, alpha=0.5)\n",
        "plt.title('여성 인구 비율과 평균매출')\n",
        "plt.xlabel('여성 인구 비율')\n",
        "plt.ylabel('평균매출')\n",
        "\n",
        "# 4. 초년 인구 비율과 여성 인구 비율 관계\n",
        "plt.subplot(2, 2, 4)\n",
        "h = plt.scatter(restaurant_data['초년_인구_비율'], restaurant_data['여성_인구_비율'], \n",
        "                c=restaurant_data['평균매출'], cmap='viridis', alpha=0.6, s=50)\n",
        "plt.colorbar(h, label='평균매출')\n",
        "plt.title('초년 인구 비율과 여성 인구 비율')\n",
        "plt.xlabel('초년 인구 비율')\n",
        "plt.ylabel('여성 인구 비율')\n",
        "\n",
        "plt.tight_layout()\n",
        "plt.show()"
      ]
    },
    {
      "cell_type": "markdown",
      "id": "84c4526b",
      "metadata": {},
      "source": [
        "### 2.6 수치형 특성 분포 확인"
      ],
      "outputs": [],
      "execution_count": null
    },
    {
      "cell_type": "code",
      "execution_count": null,
      "id": "bef74848",
      "metadata": {},
      "outputs": [],
      "source": [
        "# 주요 수치형 특성 분포\n",
        "plt.figure(figsize=(20, 15))\n",
        "for i, feature in enumerate(numeric_features[:9]):  # 상위 9개 특성\n",
        "    plt.subplot(3, 3, i+1)\n",
        "    # 원본 분포\n",
        "    sns.histplot(restaurant_data[feature], kde=True, color='blue', alpha=0.4, label='원본')\n",
        "    # 로그 변환 분포\n",
        "    if (restaurant_data[feature] > 0).any():\n",
        "        log_data = np.log1p(restaurant_data[feature].replace(0, np.nan).dropna())\n",
        "        sns.histplot(log_data, kde=True, color='red', alpha=0.4, label='로그변환')\n",
        "    plt.title(f'{feature} 분포')\n",
        "    plt.legend()\n",
        "plt.tight_layout()\n",
        "plt.show()"
      ]
    },
    {
      "cell_type": "markdown",
      "id": "9e30dfd4",
      "metadata": {},
      "source": [
        "### 2.7 타겟-특성 관계 시각화"
      ],
      "outputs": [],
      "execution_count": null
    },
    {
      "cell_type": "code",
      "execution_count": null,
      "id": "c80732dc",
      "metadata": {},
      "outputs": [],
      "source": [
        "# 특성-타겟 관계 시각화\n",
        "plt.figure(figsize=(20, 15))\n",
        "for i, feature in enumerate(numeric_features[:9]):  # 상위 9개 특성\n",
        "    plt.subplot(3, 3, i+1)\n",
        "    sns.scatterplot(x=restaurant_data[feature], y=restaurant_data['평균매출'], alpha=0.5)\n",
        "    # 회귀선 추가\n",
        "    sns.regplot(x=restaurant_data[feature], y=restaurant_data['평균매출'], \n",
        "                scatter=False, line_kws={\"color\":\"red\"})\n",
        "    plt.title(f'{feature} vs 평균매출')\n",
        "plt.tight_layout()\n",
        "plt.show()"
      ]
    },
    {
      "cell_type": "markdown",
      "id": "2c6f17ac",
      "metadata": {},
      "source": [
        "### 2.8 범주형 특성 분석"
      ],
      "outputs": [],
      "execution_count": null
    },
    {
      "cell_type": "code",
      "execution_count": null,
      "id": "b7280e3b",
      "metadata": {},
      "outputs": [],
      "source": [
        "# 상권 구분별 매출 분포\n",
        "plt.figure(figsize=(12, 8))\n",
        "sns.boxplot(x='상권_구분_코드_명', y='평균매출', data=restaurant_data)\n",
        "plt.title('상권 구분별 평균매출 분포')\n",
        "plt.xlabel('상권 구분')\n",
        "plt.ylabel('평균매출')\n",
        "plt.xticks(rotation=45)\n",
        "plt.tight_layout()\n",
        "plt.show()"
      ]
    },
    {
      "cell_type": "markdown",
      "id": "e09b76f7",
      "metadata": {},
      "source": [
        "### 2.9 특성 간 관계 (페어플롯)"
      ],
      "outputs": [],
      "execution_count": null
    },
    {
      "cell_type": "code",
      "execution_count": null,
      "id": "4ad9ed1e",
      "metadata": {},
      "outputs": [],
      "source": [
        "# 주요 특성 간 페어플롯\n",
        "top_features = ['평균매출', '총_유동인구_수', '총_직장_인구_수', \n",
        "               '초년_유동인구_수', '중년_직장_인구_수']\n",
        "sns.pairplot(restaurant_data[top_features], height=2.5)\n",
        "plt.suptitle('주요 특성 간 페어플롯', y=1.02)\n",
        "plt.tight_layout()\n",
        "plt.show()"
      ]
    },
    {
      "cell_type": "markdown",
      "id": "d6b7d6d6",
      "metadata": {},
      "source": [
        "### 2.10 특성 간 상호작용"
      ],
      "outputs": [],
      "execution_count": null
    },
    {
      "cell_type": "code",
      "execution_count": null,
      "id": "e6f66970",
      "metadata": {},
      "outputs": [],
      "source": [
        "# 유동인구와 직장인구의 상호작용 시각화\n",
        "plt.figure(figsize=(10, 8))\n",
        "sns.scatterplot(\n",
        "    x='총_유동인구_수',\n",
        "    y='총_직장_인구_수',\n",
        "    size='평균매출',\n",
        "    sizes=(20, 500),\n",
        "    hue='평균매출',\n",
        "    palette='viridis',\n",
        "    data=restaurant_data\n",
        ")\n",
        "plt.title('유동인구와 직장인구의 상호작용이 매출에 미치는 영향')\n",
        "plt.tight_layout()\n",
        "plt.show()"
      ]
    },
    {
      "cell_type": "markdown",
      "id": "0333f61f",
      "metadata": {},
      "source": [
        "### 2.11 특성 엔지니어링 검증"
      ],
      "outputs": [],
      "execution_count": null
    },
    {
      "cell_type": "code",
      "execution_count": null,
      "id": "2de37503",
      "metadata": {},
      "outputs": [],
      "source": [
        "# 생성된 특성 검증\n",
        "print(\"\\n=== 특성 엔지니어링 검증 ===\")\n",
        "# 무작위 샘플로 검증\n",
        "sample_idx = np.random.randint(0, len(restaurant_data), size=3)\n",
        "sample_data = restaurant_data.iloc[sample_idx]\n",
        "\n",
        "print(\"초년 유동인구 계산 검증:\")\n",
        "for idx in sample_idx:\n",
        "    row = restaurant_data.iloc[idx]\n",
        "    original_sum = row[\"연령대_10_유동인구_수\"] + row[\"연령대_20_유동인구_수\"]\n",
        "    calculated = row[\"초년_유동인구_수\"]\n",
        "    match = np.isclose(original_sum, calculated)\n",
        "    print(f\"인덱스 {idx}: 원본합({original_sum}) vs 계산값({calculated}) - 일치: {match}\")"
      ]
    },
    {
      "cell_type": "markdown",
      "id": "237e7858",
      "metadata": {},
      "source": [
        "### 2.12 연령대별 인구 분포"
      ],
      "outputs": [],
      "execution_count": null
    },
    {
      "cell_type": "code",
      "execution_count": null,
      "id": "d9aef3e3",
      "metadata": {},
      "outputs": [],
      "source": [
        "# 연령대별 인구 분포 \n",
        "age_cols = [\"초년_유동인구_수\", \"중년_유동인구_수\", \"노년_유동인구_수\"]\n",
        "plt.figure(figsize=(12, 6))\n",
        "\n",
        "# 연령대별 유동인구 분포\n",
        "plt.subplot(1, 2, 1)\n",
        "sns.boxplot(data=restaurant_data[age_cols])\n",
        "plt.title(\"연령대별 유동인구 분포\")\n",
        "plt.ylabel(\"인구 수\")\n",
        "\n",
        "# 연령대별 직장인구 분포\n",
        "age_work_cols = [\"초년_직장_인구_수\", \"중년_직장_인구_수\", \"노년_직장_인구_수\"]\n",
        "plt.subplot(1, 2, 2)\n",
        "sns.boxplot(data=restaurant_data[age_work_cols])\n",
        "plt.title(\"연령대별 직장인구 분포\")\n",
        "plt.ylabel(\"인구 수\")\n",
        "\n",
        "plt.tight_layout()\n",
        "plt.show()"
      ]
    },
    {
      "cell_type": "markdown",
      "id": "fcf03ef7",
      "metadata": {},
      "source": [
        "### 2.13 최종 특성 선택"
      ],
      "outputs": [],
      "execution_count": null
    },
    {
      "cell_type": "code",
      "execution_count": null,
      "id": "8735be16",
      "metadata": {},
      "outputs": [],
      "source": [
        "# 모델링을 위해 필요한 기본 특성(numeric_features + categorical_features + 타겟변수) 유지\n",
        "# 추가로 생성된 특성(engineered_features)은 사용하지 않음\n",
        "\n",
        "# 타겟 변수 추가\n",
        "target_variable = [\"평균매출\"]\n",
        "\n",
        "# 필요한 열만 선택 (추가 생성 특성 제외)\n",
        "required_cols = numeric_features + categorical_features + target_variable\n",
        "restaurant_data = restaurant_data[required_cols]"
      ]
    },
    {
      "cell_type": "markdown",
      "id": "29fc15c7",
      "metadata": {},
      "source": [
        "## 3. 전처리 파이프라인 구성"
      ],
      "outputs": [],
      "execution_count": null
    },
    {
      "cell_type": "markdown",
      "id": "52dbc38f",
      "metadata": {},
      "source": [
        "### 3.1 전처리 파이프라인 정의"
      ],
      "outputs": [],
      "execution_count": null
    },
    {
      "cell_type": "code",
      "execution_count": null,
      "id": "e6eb7667",
      "metadata": {},
      "outputs": [],
      "source": [
        "# 수치형/범주형 특성 전처리 파이프라인\n",
        "preprocessor = ColumnTransformer(\n",
        "    transformers=[\n",
        "        ('num', Pipeline([\n",
        "            ('imputer', SimpleImputer(strategy='median')),\n",
        "            ('scaler', StandardScaler())\n",
        "        ]), numeric_features),\n",
        "        ('cat', Pipeline([\n",
        "            ('imputer', SimpleImputer(strategy='most_frequent')),\n",
        "            ('onehot', OneHotEncoder(sparse_output=False, handle_unknown='ignore'))\n",
        "        ]), categorical_features)\n",
        "    ])"
      ]
    },
    {
      "cell_type": "markdown",
      "id": "26165a36",
      "metadata": {},
      "source": [
        "### 3.2 데이터 준비 및 변환"
      ],
      "outputs": [],
      "execution_count": null
    },
    {
      "cell_type": "code",
      "execution_count": null,
      "id": "484a0e5b",
      "metadata": {},
      "outputs": [],
      "source": [
        "# 특성과 타겟 분리\n",
        "X = restaurant_data[numeric_features + categorical_features]\n",
        "y = restaurant_data[\"평균매출\"]\n",
        "\n",
        "# 파이프라인으로 데이터 변환\n",
        "preprocessor.fit(X)\n",
        "X_transformed = preprocessor.transform(X)"
      ]
    },
    {
      "cell_type": "markdown",
      "id": "fc2e7a0c",
      "metadata": {},
      "source": [
        "### 3.3 변환된 특성 이름 추출"
      ],
      "outputs": [],
      "execution_count": null
    },
    {
      "cell_type": "code",
      "execution_count": null,
      "id": "abc363fe",
      "metadata": {},
      "outputs": [],
      "source": [
        "# 변환된 특성 이름 추출\n",
        "transformed_feature_names = numeric_features.copy()\n",
        "\n",
        "# 범주형 특성의 원핫인코딩 이름 추가\n",
        "cat_encoder = preprocessor.named_transformers_['cat'].named_steps['onehot']\n",
        "categorical_feature_names = cat_encoder.get_feature_names_out(categorical_features)\n",
        "transformed_feature_names.extend(categorical_feature_names)\n",
        "\n",
        "# 변환된 데이터프레임 생성\n",
        "transformed_df = pd.DataFrame(X_transformed, columns=transformed_feature_names)\n",
        "transformed_df[\"평균매출\"] = y  # 타겟 변수 추가"
      ]
    },
    {
      "cell_type": "markdown",
      "id": "33c2fdfc",
      "metadata": {},
      "source": [
        "## 4. 특성 간 상관관계 분석"
      ],
      "outputs": [],
      "execution_count": null
    },
    {
      "cell_type": "markdown",
      "id": "4b59e1a6",
      "metadata": {},
      "source": [
        "### 4.1 상관계수 계산 및 분석"
      ],
      "outputs": [],
      "execution_count": null
    },
    {
      "cell_type": "code",
      "execution_count": null,
      "id": "3678366a",
      "metadata": {},
      "outputs": [],
      "source": [
        "# 상관계수 계산\n",
        "correlation_matrix = transformed_df.corr()\n",
        "correlation_with_target = correlation_matrix['평균매출'].abs().sort_values(ascending=False)"
      ]
    },
    {
      "cell_type": "markdown",
      "id": "09573c62",
      "metadata": {},
      "source": [
        "### 4.2 매출과의 상관관계 출력"
      ],
      "outputs": [],
      "execution_count": null
    },
    {
      "cell_type": "code",
      "execution_count": null,
      "id": "ef495d8e",
      "metadata": {},
      "outputs": [],
      "source": [
        "# 상관계수 출력\n",
        "print(\"\\n평균 매출과 상관관계가 강한 특성 (상위 15개, 절대값 기준):\")\n",
        "print(correlation_with_target.head(15))"
      ]
    },
    {
      "cell_type": "markdown",
      "id": "760d9d3a",
      "metadata": {},
      "source": [
        "### 4.3 상관계수 히트맵"
      ],
      "outputs": [],
      "execution_count": null
    },
    {
      "cell_type": "code",
      "execution_count": null,
      "id": "1189a0f9",
      "metadata": {},
      "outputs": [],
      "source": [
        "# 상관계수 히트맵 (상위 15개 특성)\n",
        "top_features = correlation_with_target.index[:15]\n",
        "plt.figure(figsize=(15, 12))\n",
        "sns.heatmap(correlation_matrix.loc[top_features, top_features], \n",
        "            annot=True, cmap='coolwarm', fmt='.2f', linewidths=0.5)\n",
        "plt.title('특성 간 상관계수 히트맵 (상위 15개)')\n",
        "plt.tight_layout()\n",
        "plt.show()"
      ]
    },
    {
      "cell_type": "markdown",
      "id": "f2947ea5",
      "metadata": {},
      "source": [
        "## 5. 모델 훈련 및 평가"
      ],
      "outputs": [],
      "execution_count": null
    },
    {
      "cell_type": "markdown",
      "id": "0e672f07",
      "metadata": {},
      "source": [
        "### 5.1 데이터 분할 및 모델 정의"
      ],
      "outputs": [],
      "execution_count": null
    },
    {
      "cell_type": "code",
      "execution_count": null,
      "id": "66edb8d9",
      "metadata": {},
      "outputs": [],
      "source": [
        "# 훈련/테스트 데이터 분할\n",
        "X_train, X_test, y_train, y_test = train_test_split(X, y, test_size=0.2, random_state=42)\n",
        "\n",
        "# 모델 정의\n",
        "models = {\n",
        "    'Linear Regression': Pipeline([\n",
        "        ('preprocessor', preprocessor),\n",
        "        ('regressor', LinearRegression())\n",
        "    ]),\n",
        "    'Polynomial Regression': Pipeline([\n",
        "        ('preprocessor', preprocessor),\n",
        "        ('poly', PolynomialFeatures(degree=2, include_bias=False)),\n",
        "        ('regressor', LinearRegression())\n",
        "    ]),\n",
        "    'Ridge': Pipeline([\n",
        "        ('preprocessor', preprocessor),\n",
        "        ('regressor', Ridge(alpha=1.0))\n",
        "    ]),\n",
        "    'Lasso': Pipeline([\n",
        "        ('preprocessor', preprocessor),\n",
        "        ('regressor', Lasso(alpha=0.1))\n",
        "    ]),\n",
        "    'Random Forest': Pipeline([\n",
        "        ('preprocessor', preprocessor),\n",
        "        ('regressor', RandomForestRegressor(n_estimators=100, max_depth=None, random_state=42))\n",
        "    ]),\n",
        "    'Gradient Boosting': Pipeline([\n",
        "        ('preprocessor', preprocessor),\n",
        "        ('regressor', GradientBoostingRegressor(n_estimators=100, learning_rate=0.1, random_state=42))\n",
        "    ])\n",
        "}\n",
        "\n",
        "# 결과 저장용 리스트\n",
        "results = []"
      ]
    },
    {
      "cell_type": "markdown",
      "id": "d7200833",
      "metadata": {},
      "source": [
        "### 5.2 모델 훈련 및 평가"
      ],
      "outputs": [],
      "execution_count": null
    },
    {
      "cell_type": "code",
      "execution_count": null,
      "id": "ba29b63d",
      "metadata": {},
      "outputs": [],
      "source": [
        "# 각 모델 학습 및 평가\n",
        "for name, model in models.items():\n",
        "    print(f\"\\n{name} 모델 학습 중...\")\n",
        "    # 모델 학습\n",
        "    model.fit(X_train, y_train)\n",
        "    \n",
        "    # 교차 검증\n",
        "    print(\"교차 검증 중...\")\n",
        "    cv_rmse_scores = -cross_val_score(model, X_train, y_train, cv=5, scoring='neg_root_mean_squared_error')\n",
        "    cv_r2_scores = cross_val_score(model, X_train, y_train, cv=5, scoring='r2')\n",
        "    cv_mae_scores = -cross_val_score(model, X_train, y_train, cv=5, scoring='neg_mean_absolute_error')\n",
        "    \n",
        "    # 교차 검증 결과 출력\n",
        "    print(f\"  CV RMSE: {cv_rmse_scores.mean():.2f} ± {cv_rmse_scores.std():.2f}\")\n",
        "    print(f\"  CV R²: {cv_r2_scores.mean():.4f} ± {cv_r2_scores.std():.4f}\")\n",
        "    print(f\"  CV MAE: {cv_mae_scores.mean():.2f} ± {cv_mae_scores.std():.2f}\")\n",
        "    \n",
        "    # 훈련 세트 성능\n",
        "    y_train_pred = model.predict(X_train)\n",
        "    train_rmse = root_mean_squared_error(y_train, y_train_pred)\n",
        "    train_mae = mean_absolute_error(y_train, y_train_pred)\n",
        "    train_r2 = r2_score(y_train, y_train_pred)\n",
        "    \n",
        "    # 테스트 세트 성능\n",
        "    y_pred = model.predict(X_test)\n",
        "    test_rmse = root_mean_squared_error(y_test, y_pred)\n",
        "    test_mae = mean_absolute_error(y_test, y_pred)\n",
        "    test_r2 = r2_score(y_test, y_pred)\n",
        "    \n",
        "    # 결과 저장\n",
        "    results.append({\n",
        "        'Model': name,\n",
        "        'Train RMSE': train_rmse,\n",
        "        'CV RMSE': cv_rmse_scores.mean(),\n",
        "        'CV RMSE STD': cv_rmse_scores.std(),\n",
        "        'Test RMSE': test_rmse,\n",
        "        'Train MAE': train_mae,\n",
        "        'CV MAE': cv_mae_scores.mean(),\n",
        "        'Test MAE': test_mae,\n",
        "        'Train R2': train_r2,\n",
        "        'CV R2': cv_r2_scores.mean(),\n",
        "        'Test R2': test_r2\n",
        "    })\n",
        "    \n",
        "    print(f\"- 훈련 세트: RMSE={train_rmse:.2f}, MAE={train_mae:.2f}, R2={train_r2:.4f}\")\n",
        "    print(f\"- 테스트 세트: RMSE={test_rmse:.2f}, MAE={test_mae:.2f}, R2={test_r2:.4f}\")"
      ]
    },
    {
      "cell_type": "markdown",
      "id": "d107acab",
      "metadata": {},
      "source": [
        "### 5.3 모델 성능 비교"
      ],
      "outputs": [],
      "execution_count": null
    },
    {
      "cell_type": "code",
      "execution_count": null,
      "id": "a756b619",
      "metadata": {},
      "outputs": [],
      "source": [
        "# 모델 성능 비교 (테스트 RMSE 기준 정렬)\n",
        "results_df = pd.DataFrame(results).sort_values('Test RMSE')\n",
        "print(\"\\n모델 평가 결과 (테스트 RMSE 기준 정렬):\")\n",
        "print(results_df[['Model', 'Train RMSE', 'CV RMSE', 'Test RMSE', 'Train R2', 'CV R2', 'Test R2']])"
      ]
    },
    {
      "cell_type": "markdown",
      "id": "16ee6182",
      "metadata": {},
      "source": [
        "### 5.4 모델 성능 시각화"
      ],
      "outputs": [],
      "execution_count": null
    },
    {
      "cell_type": "code",
      "execution_count": null,
      "id": "97325bbf",
      "metadata": {},
      "outputs": [],
      "source": [
        "# 모델별 성능 시각화\n",
        "plt.figure(figsize=(15, 10))\n",
        "\n",
        "# RMSE 비교\n",
        "plt.subplot(2, 1, 1)\n",
        "models_list = results_df['Model'].tolist()\n",
        "train_rmse_list = results_df['Train RMSE'].tolist()\n",
        "cv_rmse_list = results_df['CV RMSE'].tolist()\n",
        "test_rmse_list = results_df['Test RMSE'].tolist()\n",
        "\n",
        "x = np.arange(len(models_list))\n",
        "width = 0.25\n",
        "\n",
        "plt.bar(x - width, train_rmse_list, width, label='Train RMSE')\n",
        "plt.bar(x, cv_rmse_list, width, label='CV RMSE')\n",
        "plt.bar(x + width, test_rmse_list, width, label='Test RMSE')\n",
        "\n",
        "plt.xlabel('모델')\n",
        "plt.ylabel('RMSE')\n",
        "plt.title('모델별 RMSE 비교')\n",
        "plt.xticks(x, models_list, rotation=45)\n",
        "plt.legend()\n",
        "plt.grid(axis='y', linestyle='--', alpha=0.7)\n",
        "\n",
        "# R2 비교\n",
        "plt.subplot(2, 1, 2)\n",
        "train_r2_list = results_df['Train R2'].tolist()\n",
        "cv_r2_list = results_df['CV R2'].tolist()\n",
        "test_r2_list = results_df['Test R2'].tolist()\n",
        "\n",
        "plt.bar(x - width, train_r2_list, width, label='Train R²')\n",
        "plt.bar(x, cv_r2_list, width, label='CV R²')\n",
        "plt.bar(x + width, test_r2_list, width, label='Test R²')\n",
        "\n",
        "plt.xlabel('모델')\n",
        "plt.ylabel('R²')\n",
        "plt.title('모델별 R² 비교')\n",
        "plt.xticks(x, models_list, rotation=45)\n",
        "plt.legend()\n",
        "plt.grid(axis='y', linestyle='--', alpha=0.7)\n",
        "\n",
        "plt.tight_layout()\n",
        "plt.show()"
      ]
    },
    {
      "cell_type": "markdown",
      "id": "e3950ef2",
      "metadata": {},
      "source": [
        "### 5.5 최고 성능 모델 확인"
      ],
      "outputs": [],
      "execution_count": null
    },
    {
      "cell_type": "code",
      "execution_count": null,
      "id": "68241b17",
      "metadata": {},
      "outputs": [],
      "source": [
        "# 최고 성능 모델 확인 (테스트 RMSE 기준)\n",
        "best_model_name = results_df.iloc[0]['Model']\n",
        "best_model = models[best_model_name]\n",
        "print(f\"\\n테스트 RMSE 기준 최고 성능 모델: {best_model_name}\")\n",
        "print(f\"테스트 성능: RMSE={results_df.iloc[0]['Test RMSE']:.2f}, R2={results_df.iloc[0]['Test R2']:.4f}\")"
      ]
    },
    {
      "cell_type": "markdown",
      "id": "9bb2d52c",
      "metadata": {},
      "source": [
        "RandomForest 모델이 가장 우수한 성능을 보였습니다. 다음 단계에서는 이 모델의 하이퍼파라미터 튜닝을 진행하겠습니다."
      ],
      "outputs": [],
      "execution_count": null
    },
    {
      "cell_type": "markdown",
      "id": "31bf7553",
      "metadata": {},
      "source": [
        "## 6. 최적 모델 튜닝"
      ],
      "outputs": [],
      "execution_count": null
    },
    {
      "cell_type": "markdown",
      "id": "df1b62f8",
      "metadata": {},
      "source": [
        "### 6.1 RandomForest 모델 하이퍼파라미터 탐색"
      ],
      "outputs": [],
      "execution_count": null
    },
    {
      "cell_type": "code",
      "execution_count": null,
      "id": "563da18b",
      "metadata": {},
      "outputs": [],
      "source": [
        "# RandomForest 모델 최적화 파이프라인 구성\n",
        "rf_pipeline = Pipeline([\n",
        "    ('preprocessor', preprocessor),\n",
        "    ('regressor', RandomForestRegressor(random_state=42))\n",
        "])\n",
        "\n",
        "# 하이퍼파라미터 탐색 범위\n",
        "rf_params = {\n",
        "    'regressor__n_estimators': [100, 200],\n",
        "    'regressor__max_depth': [None, 10, 20],\n",
        "    'regressor__min_samples_split': [2, 5, 10]\n",
        "}"
      ]
    },
    {
      "cell_type": "markdown",
      "id": "08648c05",
      "metadata": {},
      "source": [
        "### 6.2 그리드 서치 수행"
      ],
      "outputs": [],
      "execution_count": null
    },
    {
      "cell_type": "code",
      "execution_count": null,
      "id": "a5477121",
      "metadata": {},
      "outputs": [],
      "source": [
        "# 그리드 서치 수행\n",
        "rf_gs = GridSearchCV(rf_pipeline, rf_params, cv=5, n_jobs=-1, \n",
        "                    scoring={'rmse': 'neg_root_mean_squared_error', \n",
        "                             'mae': 'neg_mean_absolute_error',\n",
        "                             'r2': 'r2'},\n",
        "                    refit='rmse')\n",
        "rf_gs.fit(X_train, y_train)\n",
        "print(\"최적 RandomForest 파라미터:\", rf_gs.best_params_)\n",
        "best_rf = rf_gs.best_estimator_"
      ]
    },
    {
      "cell_type": "markdown",
      "id": "065e7446",
      "metadata": {},
      "source": [
        "### 6.3 하이퍼파라미터 조합별 성능 확인"
      ],
      "outputs": [],
      "execution_count": null
    },
    {
      "cell_type": "code",
      "execution_count": null,
      "id": "8d20cea6",
      "metadata": {},
      "outputs": [],
      "source": [
        "# GridSearchCV 결과를 데이터프레임으로 변환하여 출력\n",
        "cv_results_df = pd.DataFrame(rf_gs.cv_results_)\n",
        "\n",
        "# 각 하이퍼파라미터 조합과 성능 지표 출력\n",
        "print(\"\\n=== 하이퍼파라미터 조합별 성능 ===\")\n",
        "# RMSE 값은 음수로 저장되어 있으므로 양수로 변환\n",
        "cv_results_df['mean_test_rmse'] = -cv_results_df['mean_test_rmse']\n",
        "cv_results_df['mean_test_mae'] = -cv_results_df['mean_test_mae']\n",
        "\n",
        "# 필요한 열만 선택하여 RMSE 기준으로 정렬\n",
        "params_and_scores = cv_results_df[['param_regressor__n_estimators', \n",
        "                                   'param_regressor__max_depth', \n",
        "                                   'param_regressor__min_samples_split',\n",
        "                                   'mean_test_rmse', 'mean_test_mae', \n",
        "                                   'mean_test_r2', 'rank_test_rmse']]\n",
        "print(params_and_scores.sort_values('rank_test_rmse'))"
      ]
    },
    {
      "cell_type": "markdown",
      "id": "209c53b1",
      "metadata": {},
      "source": [
        "### 6.4 최적화된 모델 성능 평가"
      ],
      "outputs": [],
      "execution_count": null
    },
    {
      "cell_type": "code",
      "execution_count": null,
      "id": "2f22b16b",
      "metadata": {},
      "outputs": [],
      "source": [
        "# 최적화된 모델의 성능 평가\n",
        "# 교차 검증 성능\n",
        "cv_rmse_best = -rf_gs.cv_results_['mean_test_rmse'][rf_gs.best_index_]\n",
        "cv_mae_best = -rf_gs.cv_results_['mean_test_mae'][rf_gs.best_index_]\n",
        "cv_r2_best = rf_gs.cv_results_['mean_test_r2'][rf_gs.best_index_]\n",
        "\n",
        "# 학습 데이터 성능\n",
        "y_train_pred_best = best_rf.predict(X_train)\n",
        "train_rmse_best = root_mean_squared_error(y_train, y_train_pred_best)\n",
        "train_mae_best = mean_absolute_error(y_train, y_train_pred_best)\n",
        "train_r2_best = r2_score(y_train, y_train_pred_best)\n",
        "\n",
        "# 테스트 데이터 성능\n",
        "y_test_pred_best = best_rf.predict(X_test)\n",
        "test_rmse_best = root_mean_squared_error(y_test, y_test_pred_best)\n",
        "test_mae_best = mean_absolute_error(y_test, y_test_pred_best)\n",
        "test_r2_best = r2_score(y_test, y_test_pred_best)"
      ]
    },
    {
      "cell_type": "markdown",
      "id": "5fd7ff32",
      "metadata": {},
      "source": [
        "### 6.5 최적화 결과 분석"
      ],
      "outputs": [],
      "execution_count": null
    },
    {
      "cell_type": "code",
      "execution_count": null,
      "id": "fe0f0b65",
      "metadata": {},
      "outputs": [],
      "source": [
        "# 결과 출력\n",
        "print(\"\\n최적화된 RandomForest 모델 평가:\")\n",
        "best_model_results = pd.DataFrame({\n",
        "    'Metric': ['RMSE', 'MAE', 'R²'],\n",
        "    'Train': [train_rmse_best, train_mae_best, train_r2_best],\n",
        "    'CV': [cv_rmse_best, cv_mae_best, cv_r2_best],\n",
        "    'Test': [test_rmse_best, test_mae_best, test_r2_best]\n",
        "})\n",
        "print(best_model_results)"
      ]
    },
    {
      "cell_type": "markdown",
      "id": "4609afce",
      "metadata": {},
      "source": [
        "하이퍼파라미터 튜닝을 통해 RandomForest 모델의 성능을 최적화했습니다. 다음 단계에서는 최적화된 모델과 기본 모델의 성능을 비교하고, 특성 중요도 분석 및 예측 결과를 확인하겠습니다."
      ],
      "outputs": [],
      "execution_count": null
    },
    {
      "cell_type": "markdown",
      "id": "af2ed879",
      "metadata": {},
      "source": [
        "## 7. 최적 모델 분석 및 특성 중요도"
      ],
      "outputs": [],
      "execution_count": null
    },
    {
      "cell_type": "markdown",
      "id": "7eb2362f",
      "metadata": {},
      "source": [
        "### 7.1 최적화된 RandomForest 모델의 성능 확인"
      ],
      "outputs": [],
      "execution_count": null
    },
    {
      "cell_type": "code",
      "execution_count": null,
      "id": "2b2a4a21",
      "metadata": {},
      "outputs": [],
      "source": [
        "# 최적화된 RandomForest 모델과 기본 RandomForest 모델 비교\n",
        "print(\"\\n최적화된 RandomForest 모델과 기본 RandomForest 모델 성능 비교:\")\n",
        "\n",
        "# 기본 RandomForest 모델 성능\n",
        "base_rf_perf = results_df[results_df['Model']=='Random Forest']\n",
        "base_rf_rmse = base_rf_perf['Test RMSE'].values[0]\n",
        "base_rf_r2 = base_rf_perf['Test R2'].values[0]\n",
        "\n",
        "# 최적화된 RandomForest 모델 성능\n",
        "optimized_rf_rmse = test_rmse_best\n",
        "optimized_rf_r2 = test_r2_best\n",
        "\n",
        "print(f\"기본 RandomForest 모델: RMSE={base_rf_rmse:.2f}, R2={base_rf_r2:.4f}\")\n",
        "print(f\"최적화된 RandomForest 모델: RMSE={optimized_rf_rmse:.2f}, R2={optimized_rf_r2:.4f}\")\n",
        "\n",
        "# 성능 향상 계산\n",
        "rmse_improvement = ((base_rf_rmse - optimized_rf_rmse) / base_rf_rmse) * 100\n",
        "r2_improvement = ((optimized_rf_r2 - base_rf_r2) / base_rf_r2) * 100 if base_rf_r2 > 0 else 0\n",
        "print(f\"\\n성능 개선 수치:\")\n",
        "print(f\"- RMSE: {rmse_improvement:.2f}% 감소\")\n",
        "print(f\"- R2: {r2_improvement:.2f}% 증가\")\n",
        "\n",
        "# 최종 모델 정의\n",
        "final_model = best_rf  # 최적화된 RandomForest 모델 선택\n",
        "final_model_name = \"최적화된 RandomForest\"\n",
        "final_rmse = optimized_rf_rmse\n",
        "final_r2 = optimized_rf_r2\n",
        "final_mae = test_mae_best  # 최종 MAE 값 정의\n",
        "\n",
        "print(f\"최종 모델 성능: RMSE={final_rmse:.2f}, MAE={final_mae:.2f}, R2={final_r2:.4f}\")"
      ]
    },
    {
      "cell_type": "markdown",
      "id": "568e3510",
      "metadata": {},
      "source": [
        "### 7.2 특성 중요도 추출 및 시각화"
      ],
      "outputs": [],
      "execution_count": null
    },
    {
      "cell_type": "code",
      "execution_count": null,
      "id": "79f74fec",
      "metadata": {},
      "outputs": [],
      "source": [
        "# RandomForest 모델의 특성 중요도 분석\n",
        "# 모델에서 특성 중요도 추출\n",
        "regressor = final_model.named_steps['regressor']\n",
        "feature_importances = regressor.feature_importances_\n",
        "\n",
        "# 전처리기에서 변환된 특성 이름 가져오기\n",
        "preprocessor = final_model.named_steps['preprocessor']\n",
        "num_transformer = preprocessor.named_transformers_['num']\n",
        "cat_transformer = preprocessor.named_transformers_['cat']\n",
        "\n",
        "# 수치형 특성 이름\n",
        "feature_names = numeric_features.copy()\n",
        "\n",
        "# 범주형 특성 변환 이름 추출\n",
        "cat_feature_names = cat_transformer.named_steps['onehot'].get_feature_names_out(categorical_features)\n",
        "feature_names.extend(cat_feature_names)\n",
        "\n",
        "# 특성 중요도 데이터프레임 생성\n",
        "importance_df = pd.DataFrame({\n",
        "    'feature': feature_names[:len(feature_importances)],\n",
        "    'importance': feature_importances\n",
        "}).sort_values('importance', ascending=False)\n",
        "\n",
        "# 상위 10개 특성 시각화\n",
        "plt.figure(figsize=(12, 8))\n",
        "sns.barplot(x='importance', y='feature', data=importance_df.head(10))\n",
        "plt.title(f'{final_model_name} 모델의 상위 10개 중요 특성')\n",
        "plt.xlabel('중요도')\n",
        "plt.ylabel('특성')\n",
        "plt.tight_layout()\n",
        "plt.show()\n",
        "\n",
        "print(\"\\n상위 10개 중요 특성:\")\n",
        "for idx, row in importance_df.head(10).iterrows():\n",
        "    print(f\"- {row['feature']}: {row['importance']:.4f}\")"
      ]
    },
    {
      "cell_type": "markdown",
      "id": "622ef2f2",
      "metadata": {},
      "source": [
        "### 7.3 예측 결과 분석"
      ],
      "outputs": [],
      "execution_count": null
    },
    {
      "cell_type": "code",
      "execution_count": null,
      "id": "da44e52f",
      "metadata": {},
      "outputs": [],
      "source": [
        "# 예측 결과 분석\n",
        "print(\"\\n예측 결과 분석 중...\")\n",
        "y_pred_final = final_model.predict(X_test)\n",
        "\n",
        "# 예측 결과 데이터프레임\n",
        "prediction_df = pd.DataFrame({\n",
        "    '실제값': y_test,\n",
        "    '예측값': y_pred_final,\n",
        "    '오차': y_test - y_pred_final,\n",
        "    '절대오차': np.abs(y_test - y_pred_final),\n",
        "    '상대오차(%)': np.abs((y_test - y_pred_final) / y_test) * 100\n",
        "})\n",
        "\n",
        "# 오차 통계 출력\n",
        "print(f\"평균 절대 오차: {prediction_df['절대오차'].mean():.2f}\")\n",
        "print(f\"중간값 절대 오차: {prediction_df['절대오차'].median():.2f}\")\n",
        "print(f\"평균 상대 오차: {prediction_df['상대오차(%)'].mean():.2f}%\")"
      ]
    },
    {
      "cell_type": "markdown",
      "id": "a08c4e9d",
      "metadata": {},
      "source": [
        "### 7.4 예측 결과 시각화"
      ],
      "outputs": [],
      "execution_count": null
    },
    {
      "cell_type": "code",
      "execution_count": null,
      "id": "819b9095",
      "metadata": {},
      "outputs": [],
      "source": [
        "# 예측 결과 시각화\n",
        "plt.figure(figsize=(15, 10))\n",
        "\n",
        "# 예측값 vs 실제값 산점도\n",
        "plt.subplot(2, 2, 1)\n",
        "plt.scatter(y_test, y_pred_final, alpha=0.5)\n",
        "plt.plot([min(y_test), max(y_test)], [min(y_test), max(y_test)], 'r--')\n",
        "plt.title('실제값 vs 예측값')\n",
        "plt.xlabel('실제 평균매출')\n",
        "plt.ylabel('예측 평균매출')\n",
        "plt.grid(True, linestyle='--', alpha=0.5)\n",
        "\n",
        "# 잔차 히스토그램\n",
        "plt.subplot(2, 2, 2)\n",
        "sns.histplot(prediction_df['오차'], kde=True)\n",
        "plt.axvline(x=0, color='r', linestyle='--')\n",
        "plt.title('예측 오차 분포')\n",
        "plt.xlabel('오차')\n",
        "plt.ylabel('빈도')\n",
        "\n",
        "# 예측값 대비 잔차 산점도\n",
        "plt.subplot(2, 2, 3)\n",
        "plt.scatter(y_pred_final, prediction_df['오차'], alpha=0.5)\n",
        "plt.axhline(y=0, color='r', linestyle='--')\n",
        "plt.title('예측값 대비 잔차')\n",
        "plt.xlabel('예측값')\n",
        "plt.ylabel('잔차')\n",
        "plt.grid(True, linestyle='--', alpha=0.5)\n",
        "\n",
        "# 실제값 대비 상대오차 산점도\n",
        "plt.subplot(2, 2, 4)\n",
        "plt.scatter(y_test, prediction_df['상대오차(%)'], alpha=0.5)\n",
        "plt.title('실제값 대비 상대오차(%)')\n",
        "plt.xlabel('실제값')\n",
        "plt.ylabel('상대오차(%)')\n",
        "plt.grid(True, linestyle='--', alpha=0.5)\n",
        "\n",
        "plt.tight_layout()\n",
        "plt.show()"
      ]
    },
    {
      "cell_type": "markdown",
      "id": "97d20438",
      "metadata": {},
      "source": [
        "## 8. 예측 결과 및 결론"
      ],
      "outputs": [],
      "execution_count": null
    },
    {
      "cell_type": "markdown",
      "id": "5f621840",
      "metadata": {},
      "source": [
        "### 8.1 요식업 매출 예측 모델 결론"
      ],
      "outputs": [],
      "execution_count": null
    },
    {
      "cell_type": "markdown",
      "id": "cc50c967",
      "metadata": {},
      "source": [
        "분석 결과, 최적화된 RandomForest 모델이 가장 우수한 성능을 보여 최종 모델로 선정되었습니다. 이 모델은 하이퍼파라미터 튜닝을 통해 기본 RandomForest 모델보다 향상된 성능을 보여주었으며, 특성 중요도 분석을 통해 매출 예측에 중요한 요인들을 파악할 수 있었습니다. 예측 결과 분석에서는 평균 절대 오차와 상대 오차가 합리적인 수준으로 나타났습니다. 이 모델은 새로운 상권의 예상 매출을 예측하는 데 활용할 수 있을 것입니다."
      ],
      "outputs": [],
      "execution_count": null
    },
    {
      "cell_type": "code",
      "execution_count": null,
      "id": "da3ee46e",
      "metadata": {},
      "outputs": [],
      "source": [
        "# 모델 결론 출력\n",
        "print(\"\\n최종 모델 성능 요약:\")\n",
        "\n",
        "# 상위 5개 중요 특성 출력\n",
        "top_features_str = \", \".join([f\"{row['feature']}\" for _, row in importance_df.head(5).iterrows()])\n",
        "print(f\"모델: {final_model_name} (R²={final_r2:.4f})\")\n",
        "print(f\"상위 5개 중요 특성: {top_features_str}\")\n",
        "print(f\"평균 절대 오차: {prediction_df['절대오차'].mean():.2f}원\")\n",
        "print(f\"평균 상대 오차: {prediction_df['상대오차(%)'].mean():.2f}%\")"
      ]
    },
    {
      "cell_type": "markdown",
      "id": "10d88496",
      "metadata": {},
      "source": [
        "### 8.2 새로운 상권 예측 예시"
      ],
      "outputs": [],
      "execution_count": null
    },
    {
      "cell_type": "code",
      "execution_count": null,
      "id": "b81ed665",
      "metadata": {},
      "outputs": [],
      "source": [
        "# 새로운 상권 예측 예시\n",
        "print(\"\\n새로운 상권 매출 예측 예시:\")\n",
        "# 테스트 데이터의 첫 번째 샘플을 예시로 사용\n",
        "sample_data = X_test.iloc[0:1].copy()\n",
        "sample_prediction = final_model.predict(sample_data)[0]\n",
        "actual_value = y_test.iloc[0]\n",
        "\n",
        "print(f\"샘플 상권 정보:\")\n",
        "for col in categorical_features:\n",
        "    if col in sample_data.columns:\n",
        "        print(f\"- {col}: {sample_data[col].values[0]}\")\n",
        "        \n",
        "for col in numeric_features[:3]:  # 주요 특성 3개만 표시\n",
        "    if col in sample_data.columns:\n",
        "        print(f\"- {col}: {sample_data[col].values[0]:,.2f}\")\n",
        "\n",
        "print(f\"\\n예측 평균 매출: {sample_prediction:,.2f}원\")\n",
        "print(f\"실제 평균 매출: {actual_value:,.2f}원\")\n",
        "print(f\"예측 오차: {abs(actual_value - sample_prediction):,.2f}원 ({abs(actual_value - sample_prediction) / actual_value * 100:.2f}%)\")"
      ]
    },
    {
      "cell_type": "markdown",
      "id": "49b039df",
      "metadata": {},
      "source": [
        "### 8.3 모델 및 데이터 저장"
      ],
      "outputs": [],
      "execution_count": null
    },
    {
      "cell_type": "code",
      "execution_count": null,
      "id": "04e9aa6d",
      "metadata": {},
      "outputs": [],
      "source": [
        "# 모델 저장\n",
        "model_filename = f'models/{final_model_name.replace(\" \", \"_\").lower()}_model.pkl'\n",
        "joblib.dump(final_model, model_filename)\n",
        "print(f\"\\n최종 모델 저장 완료: {model_filename}\")\n",
        "\n",
        "# 최종 정제된 데이터 저장\n",
        "restaurant_data.to_csv(\"data/서울시_요식업_정제데이터.csv\", index=False, encoding=\"cp949\")\n",
        "print(\"정제된 데이터 저장 완료: data/서울시_요식업_정제데이터.csv\")"
      ]
    }
  ],
  "metadata": {},
  "nbformat": 4,
  "nbformat_minor": 5
}
