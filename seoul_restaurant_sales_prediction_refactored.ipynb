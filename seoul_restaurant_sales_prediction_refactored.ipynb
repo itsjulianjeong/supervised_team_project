{
  "cells": [
    {
      "cell_type": "code",
      "execution_count": null,
      "id": "58c38fef",
      "metadata": {},
      "outputs": [],
      "source": []
    },
    {
      "cell_type": "markdown",
      "id": "3e730473",
      "metadata": {},
      "source": [
        "# 서울시 요식업 평균 매출 예측 모델\n",
        "\n",
        "서울시 요식업 매출 데이터를 분석하고 예측 모델을 구축하여 창업 의사결정에 도움이 될 수 있는 인사이트를 제공합니다."
      ],
      "outputs": [],
      "execution_count": null
    },
    {
      "cell_type": "markdown",
      "id": "8e7d175c",
      "metadata": {},
      "source": [
        "## 1. 데이터 로딩과 전처리"
      ],
      "outputs": [],
      "execution_count": null
    },
    {
      "cell_type": "markdown",
      "id": "70edc7a6",
      "metadata": {},
      "source": [
        "### 1.1 필요한 라이브러리 임포트 및 환경 설정"
      ],
      "outputs": [],
      "execution_count": null
    },
    {
      "cell_type": "code",
      "execution_count": null,
      "id": "04430eeb",
      "metadata": {},
      "outputs": [],
      "source": [
        "# 필요한 라이브러리 임포트\n",
        "import numpy as np\n",
        "import pandas as pd\n",
        "import matplotlib.pyplot as plt\n",
        "import seaborn as sns\n",
        "import os, gc, joblib\n",
        "from pathlib import Path\n",
        "\n",
        "# 한글 폰트 설정\n",
        "plt.rc('font', family='Malgun Gothic')\n",
        "plt.rcParams['axes.unicode_minus'] = False\n",
        "\n",
        "# 머신러닝 관련 라이브러리 임포트\n",
        "from sklearn.model_selection import train_test_split, GridSearchCV, cross_val_score\n",
        "from sklearn.preprocessing import StandardScaler, OneHotEncoder\n",
        "from sklearn.metrics import r2_score, mean_squared_error, mean_absolute_error\n",
        "from sklearn.linear_model import LinearRegression, Ridge, Lasso\n",
        "from sklearn.ensemble import RandomForestRegressor, GradientBoostingRegressor\n",
        "from sklearn.pipeline import Pipeline\n",
        "from sklearn.compose import ColumnTransformer\n",
        "from sklearn.impute import SimpleImputer\n",
        "\n",
        "# 결과 저장용 디렉토리 생성\n",
        "Path('plots').mkdir(exist_ok=True)\n",
        "Path('models').mkdir(exist_ok=True)"
      ]
    },
    {
      "cell_type": "markdown",
      "id": "bdfc61e7",
      "metadata": {},
      "source": [
        "### 1.2 데이터 로드"
      ],
      "outputs": [],
      "execution_count": null
    },
    {
      "cell_type": "code",
      "execution_count": null,
      "id": "1fc5cafb",
      "metadata": {},
      "outputs": [],
      "source": [
        "# 원본 데이터 로드\n",
        "sales_df = pd.read_csv(\"data/서울시 상권분석서비스(추정매출-상권).csv\", encoding=\"cp949\")\n",
        "work_df = pd.read_csv(\"data/서울시 상권분석서비스(직장인구-상권).csv\", encoding=\"cp949\")\n",
        "street_df = pd.read_csv(\"data/서울시 상권분석서비스(길단위인구-상권).csv\", encoding=\"cp949\")"
      ]
    },
    {
      "cell_type": "markdown",
      "id": "ab09b215",
      "metadata": {},
      "source": [
        "### 1.3 데이터 기본 정보 확인"
      ],
      "outputs": [],
      "execution_count": null
    },
    {
      "cell_type": "code",
      "execution_count": null,
      "id": "556c5849",
      "metadata": {},
      "outputs": [],
      "source": [
        "# 데이터셋 기본 정보 출력\n",
        "print(\"\\n=== 데이터셋 기본 정보 ===\")\n",
        "print(f\"매출 데이터: {sales_df.shape[0]}행, {sales_df.shape[1]}열\")\n",
        "print(f\"직장인구 데이터: {work_df.shape[0]}행, {work_df.shape[1]}열\")\n",
        "print(f\"유동인구 데이터: {street_df.shape[0]}행, {street_df.shape[1]}열\")"
      ]
    },
    {
      "cell_type": "markdown",
      "id": "7d82898d",
      "metadata": {},
      "source": [
        "### 1.4 매출 데이터 샘플 및 컬럼 확인"
      ],
      "outputs": [],
      "execution_count": null
    },
    {
      "cell_type": "code",
      "execution_count": null,
      "id": "90fb2bef",
      "metadata": {},
      "outputs": [],
      "source": [
        "# 데이터 샘플 확인\n",
        "print(\"\\n=== 매출 데이터 샘플 ===\")\n",
        "print(sales_df.head(3))\n",
        "\n",
        "# 데이터 컬럼 확인\n",
        "print(\"\\n=== 매출 데이터 컬럼 목록 ===\")\n",
        "print(sales_df.columns.tolist())"
      ]
    },
    {
      "cell_type": "markdown",
      "id": "c756fceb",
      "metadata": {},
      "source": [
        "### 1.5 결측치 및 요식업 코드 분포 확인"
      ],
      "outputs": [],
      "execution_count": null
    },
    {
      "cell_type": "code",
      "execution_count": null,
      "id": "097ca73a",
      "metadata": {},
      "outputs": [],
      "source": [
        "# 결측치 확인\n",
        "print(\"\\n=== 결측치 확인 ===\")\n",
        "missing_sales = sales_df.isnull().sum()\n",
        "missing_sales = missing_sales[missing_sales > 0]\n",
        "if len(missing_sales) > 0:\n",
        "    print(\"매출 데이터 결측치:\")\n",
        "    print(missing_sales)\n",
        "else:\n",
        "    print(\"매출 데이터에 결측치가 없습니다.\")\n",
        "\n",
        "# 요식업 코드 및 유형 확인\n",
        "print(\"\\n=== 요식업 서비스 코드 분포 ===\")\n",
        "cs_codes = sales_df[\"서비스_업종_코드\"].str.startswith(\"CS\").value_counts()\n",
        "print(f\"CS로 시작하는 코드 수: {cs_codes.get(True, 0)}/{len(sales_df)}\")"
      ]
    },
    {
      "cell_type": "markdown",
      "id": "1f5408c4",
      "metadata": {},
      "source": [
        "### 1.6 요식업 데이터 필터링"
      ],
      "outputs": [],
      "execution_count": null
    },
    {
      "cell_type": "code",
      "execution_count": null,
      "id": "b90f2c21",
      "metadata": {},
      "outputs": [],
      "source": [
        "# 요식업 데이터만 필터링 (CS1 코드)\n",
        "restaurant_sales = sales_df[sales_df[\"서비스_업종_코드\"].str.startswith(\"CS1\")].copy()\n",
        "print(f\"\\n요식업(CS1) 데이터 추출: {len(restaurant_sales)}행\")\n",
        "\n",
        "# 요식업 코드 분포 확인\n",
        "if '서비스_업종_코드_명' in restaurant_sales.columns:\n",
        "    print(\"\\n=== 요식업 유형 분포 (상위 10개) ===\")\n",
        "    print(restaurant_sales['서비스_업종_코드_명'].value_counts().head(10))"
      ]
    },
    {
      "cell_type": "markdown",
      "id": "0436468d",
      "metadata": {},
      "source": [
        "### 1.7 데이터 전처리 함수 정의"
      ],
      "outputs": [],
      "execution_count": null
    },
    {
      "cell_type": "code",
      "execution_count": null,
      "id": "c43e71c2",
      "metadata": {},
      "outputs": [],
      "source": [
        "# 문자열을 숫자로 변환하는 전처리 함수\n",
        "def convert_to_numeric(df):\n",
        "    # 변환 전 데이터 타입 정보(출력용)\n",
        "    print(f\"\\n=== {df.name if hasattr(df, 'name') else '데이터'} 변환 전 타입 ===\")\n",
        "    print(df.dtypes.value_counts())\n",
        "    \n",
        "    numeric_cols = df.select_dtypes(include=['int64', 'float64']).columns\n",
        "    print(f\"숫자형 컬럼 수: {len(numeric_cols)}\")\n",
        "    \n",
        "    # 변환 전 샘플 데이터 확인 (첫 3개 컬럼만)\n",
        "    if len(numeric_cols) > 0:\n",
        "        sample_cols = numeric_cols[:min(3, len(numeric_cols))]\n",
        "        print(f\"\\n변환 전 숫자 데이터 샘플 (첫 {len(sample_cols)}개 컬럼):\")\n",
        "        print(df[sample_cols].head(3))\n",
        "    \n",
        "    # 숫자 변환 수행\n",
        "    for col in numeric_cols:\n",
        "        # 실제 변환\n",
        "        df[col] = pd.to_numeric(df[col], errors='coerce')\n",
        "        \n",
        "        # 변환 후 체크 (결측치가 생겼는지)\n",
        "        missing_after = df[col].isnull().sum()\n",
        "        if missing_after > 0:\n",
        "            print(f\"컬럼 '{col}' 변환 후 결측치: {missing_after}개\")\n",
        "            \n",
        "    # 변환 후 데이터 타입 정보(출력용)\n",
        "    print(f\"\\n=== {df.name if hasattr(df, 'name') else '데이터'} 변환 후 타입 ===\")\n",
        "    print(df.dtypes.value_counts())\n",
        "    \n",
        "    return df"
      ]
    },
    {
      "cell_type": "markdown",
      "id": "6c7796fc",
      "metadata": {},
      "source": [
        "### 1.8 데이터 전처리 적용"
      ],
      "outputs": [],
      "execution_count": null
    },
    {
      "cell_type": "code",
      "execution_count": null,
      "id": "eacb2ef6",
      "metadata": {},
      "outputs": [],
      "source": [
        "# 데이터셋 이름 지정 (출력용)\n",
        "restaurant_sales.name = '요식업 매출'\n",
        "work_df.name = '직장인구'\n",
        "street_df.name = '유동인구'\n",
        "\n",
        "# 데이터프레임 전처리 적용\n",
        "restaurant_sales = convert_to_numeric(restaurant_sales)\n",
        "work_df = convert_to_numeric(work_df)\n",
        "street_df = convert_to_numeric(street_df)"
      ]
    },
    {
      "cell_type": "markdown",
      "id": "d692b7e9",
      "metadata": {},
      "source": [
        "### 1.9 평균 매출 계산"
      ],
      "outputs": [],
      "execution_count": null
    },
    {
      "cell_type": "code",
      "execution_count": null,
      "id": "acc35e65",
      "metadata": {},
      "outputs": [],
      "source": [
        "# 평균매출 계산\n",
        "grouped = restaurant_sales.groupby([\"상권_코드_명\", \"기준_년분기_코드\"])[[\"당월_매출_금액\"]].mean().reset_index()\n",
        "grouped.rename(columns={\"당월_매출_금액\": \"평균매출\"}, inplace=True)\n",
        "\n",
        "# 평균매출 분포 확인\n",
        "print(\"\\n=== 평균매출 기본 통계량 ===\")\n",
        "print(grouped[\"평균매출\"].describe())"
      ]
    },
    {
      "cell_type": "markdown",
      "id": "26998d89",
      "metadata": {},
      "source": [
        "### 1.10 매출 분포 시각화"
      ],
      "outputs": [],
      "execution_count": null
    },
    {
      "cell_type": "code",
      "execution_count": null,
      "id": "0e8bf2c4",
      "metadata": {},
      "outputs": [],
      "source": [
        "# 매출 분포 히스토그램\n",
        "plt.figure(figsize=(10, 5))\n",
        "\n",
        "# 원본 매출 분포\n",
        "plt.subplot(1, 2, 1)\n",
        "sns.histplot(grouped[\"평균매출\"], kde=True)\n",
        "plt.title(\"평균매출 분포\")\n",
        "plt.xlabel(\"평균매출\")\n",
        "\n",
        "# 로그 변환 매출 분포 (왜도 확인)\n",
        "plt.subplot(1, 2, 2)\n",
        "sns.histplot(np.log1p(grouped[\"평균매출\"]), kde=True)\n",
        "plt.title(\"로그 변환 평균매출 분포\")\n",
        "plt.xlabel(\"log(평균매출+1)\")\n",
        "\n",
        "plt.tight_layout()\n",
        "plt.show()"
      ]
    },
    {
      "cell_type": "markdown",
      "id": "31e34f06",
      "metadata": {},
      "source": [
        "### 1.11 데이터 병합"
      ],
      "outputs": [],
      "execution_count": null
    },
    {
      "cell_type": "code",
      "execution_count": null,
      "id": "b4d60bb5",
      "metadata": {},
      "outputs": [],
      "source": [
        "# 데이터 병합\n",
        "merged = pd.merge(grouped, street_df, on=[\"상권_코드_명\", \"기준_년분기_코드\"], how=\"left\")\n",
        "merged = pd.merge(merged, work_df, on=[\"상권_코드_명\", \"기준_년분기_코드\"], how=\"left\")\n",
        "\n",
        "# 병합 결과 확인\n",
        "print(\"\\n=== 병합 결과 확인 ===\")\n",
        "print(f\"병합 후 데이터: {merged.shape[0]}행, {merged.shape[1]}열\")\n",
        "print(f\"원본 평균매출 데이터: {grouped.shape[0]}행, {grouped.shape[1]}열\")\n",
        "\n",
        "# 병합 후 결측치 확인\n",
        "missing_after_merge = merged.isnull().sum().sum()\n",
        "missing_percent = (missing_after_merge / (merged.shape[0] * merged.shape[1])) * 100\n",
        "print(f\"병합 후 총 결측치: {missing_after_merge}개 ({missing_percent:.2f}%)\")"
      ]
    },
    {
      "cell_type": "markdown",
      "id": "13a86795",
      "metadata": {},
      "source": [
        "### 1.12 병합 결과 샘플 확인"
      ],
      "outputs": [],
      "execution_count": null
    },
    {
      "cell_type": "code",
      "execution_count": null,
      "id": "e2f4221d",
      "metadata": {},
      "outputs": [],
      "source": [
        "# 병합 결과 샘플 확인\n",
        "print(\"\\n=== 병합 결과 샘플 ===\")\n",
        "# 병합된 데이터의 주요 컬럼 샘플 출력\n",
        "sample_cols = ['상권_코드_명', '기준_년분기_코드', '평균매출']\n",
        "if '총_유동인구_수' in merged.columns:\n",
        "    sample_cols.append('총_유동인구_수')\n",
        "if '총_직장_인구_수' in merged.columns:\n",
        "    sample_cols.append('총_직장_인구_수')\n",
        "print(merged[sample_cols].head(3))"
      ]
    },
    {
      "cell_type": "markdown",
      "id": "f02e9415",
      "metadata": {},
      "source": [
        "### 1.13 상권 구분 코드 병합 및 결측치 처리"
      ],
      "outputs": [],
      "execution_count": null
    },
    {
      "cell_type": "code",
      "execution_count": null,
      "id": "62ca5056",
      "metadata": {},
      "outputs": [],
      "source": [
        "# 상권 구분 코드 병합\n",
        "duplicate_drop = sales_df[[\"상권_코드_명\", \"상권_구분_코드_명\"]].drop_duplicates()\n",
        "restaurant_data = pd.merge(merged, duplicate_drop, on=\"상권_코드_명\", how=\"left\")\n",
        "\n",
        "# 결측치 처리\n",
        "# 수치형 컬럼 - 중앙값으로 대체\n",
        "numeric_cols = restaurant_data.select_dtypes(include=['number']).columns\n",
        "for col in numeric_cols:\n",
        "    if restaurant_data[col].isnull().any():\n",
        "        restaurant_data[col] = restaurant_data[col].fillna(restaurant_data[col].median())\n",
        "\n",
        "# 문자열 컬럼 - 최빈값으로 대체\n",
        "object_cols = restaurant_data.select_dtypes(include=['object']).columns\n",
        "for col in object_cols:\n",
        "    if restaurant_data[col].isnull().any():\n",
        "        restaurant_data[col] = restaurant_data[col].fillna(restaurant_data[col].mode().iloc[0] if not restaurant_data[col].mode().empty else \"알수없음\")"
      ]
    },
    {
      "cell_type": "markdown",
      "id": "41ab8d2c",
      "metadata": {},
      "source": [
        "## 2. 특성 엔지니어링"
      ],
      "outputs": [],
      "execution_count": null
    },
    {
      "cell_type": "markdown",
      "id": "5f1fe1aa",
      "metadata": {},
      "source": [
        "### 2.0 특성 정의"
      ],
      "outputs": [],
      "execution_count": null
    },
    {
      "cell_type": "code",
      "execution_count": null,
      "id": "87f6fc7f",
      "metadata": {},
      "outputs": [],
      "source": [
        "# 수치형 변수와 범주형 변수 정의 - 시각화와 모델링에 일관되게 사용\n",
        "numeric_features = [\n",
        "    \"총_유동인구_수\", \"남성_유동인구_수\", \"여성_유동인구_수\", \n",
        "    \"총_직장_인구_수\", \"남성_직장_인구_수\", \"여성_직장_인구_수\", \n",
        "    \"초년_유동인구_수\", \"중년_유동인구_수\", \"노년_유동인구_수\", \n",
        "    \"초년_직장_인구_수\", \"중년_직장_인구_수\", \"노년_직장_인구_수\"\n",
        "]\n",
        "\n",
        "categorical_features = [\"상권_구분_코드_명\", \"기준_년분기_코드\"]"
      ]
    },
    {
      "cell_type": "markdown",
      "id": "50971ad7",
      "metadata": {},
      "source": [
        "### 2.1 연령대별 인구 통합 특성 생성"
      ],
      "outputs": [],
      "execution_count": null
    },
    {
      "cell_type": "code",
      "execution_count": null,
      "id": "d960c98f",
      "metadata": {},
      "outputs": [],
      "source": [
        "# 연령대별 인구 통합 \n",
        "restaurant_data[\"초년_유동인구_수\"] = restaurant_data[\"연령대_10_유동인구_수\"] + restaurant_data[\"연령대_20_유동인구_수\"]\n",
        "restaurant_data[\"중년_유동인구_수\"] = restaurant_data[\"연령대_30_유동인구_수\"] + restaurant_data[\"연령대_40_유동인구_수\"]\n",
        "restaurant_data[\"노년_유동인구_수\"] = restaurant_data[\"연령대_50_유동인구_수\"] + restaurant_data[\"연령대_60_이상_유동인구_수\"]\n",
        "restaurant_data[\"초년_직장_인구_수\"] = restaurant_data[\"연령대_10_직장_인구_수\"] + restaurant_data[\"연령대_20_직장_인구_수\"]\n",
        "restaurant_data[\"중년_직장_인구_수\"] = restaurant_data[\"연령대_30_직장_인구_수\"] + restaurant_data[\"연령대_40_직장_인구_수\"]\n",
        "restaurant_data[\"노년_직장_인구_수\"] = restaurant_data[\"연령대_50_직장_인구_수\"] + restaurant_data[\"연령대_60_이상_직장_인구_수\"]"
      ]
    },
    {
      "cell_type": "markdown",
      "id": "8b0dd8d2",
      "metadata": {},
      "source": [
        "### 2.2 성별 인구 분포 및 영향 분석"
      ],
      "outputs": [],
      "execution_count": null
    },
    {
      "cell_type": "code",
      "execution_count": null,
      "id": "bb1de2d2",
      "metadata": {},
      "outputs": [],
      "source": [
        "# 성별 유동인구 비율 계산\n",
        "restaurant_data['남성_유동인구_비율'] = restaurant_data['남성_유동인구_수'] / restaurant_data['총_유동인구_수']\n",
        "restaurant_data['여성_유동인구_비율'] = restaurant_data['여성_유동인구_수'] / restaurant_data['총_유동인구_수']\n",
        "restaurant_data['남성_직장인구_비율'] = restaurant_data['남성_직장_인구_수'] / restaurant_data['총_직장_인구_수']\n",
        "restaurant_data['여성_직장인구_비율'] = restaurant_data['여성_직장_인구_수'] / restaurant_data['총_직장_인구_수']\n",
        "\n",
        "# 결측치 처리 (0으로 나누는 경우)\n",
        "for col in ['남성_유동인구_비율', '여성_유동인구_비율', '남성_직장인구_비율', '여성_직장인구_비율']:\n",
        "    restaurant_data[col] = restaurant_data[col].fillna(0)"
      ]
    },
    {
      "cell_type": "markdown",
      "id": "7b4de2a7",
      "metadata": {},
      "source": [
        "### 2.3 성별 분포 시각화"
      ],
      "outputs": [],
      "execution_count": null
    },
    {
      "cell_type": "code",
      "execution_count": null,
      "id": "f7f14710",
      "metadata": {},
      "outputs": [],
      "source": [
        "# 성별 인구 분포 시각화\n",
        "plt.figure(figsize=(16, 10))\n",
        "\n",
        "# 1. 유동인구와 직장인구의 성별 분포 (절대값)\n",
        "plt.subplot(2, 2, 1)\n",
        "gender_data = restaurant_data[['남성_유동인구_수', '여성_유동인구_수', '남성_직장_인구_수', '여성_직장_인구_수']].mean()\n",
        "sns.barplot(x=gender_data.index, y=gender_data.values)\n",
        "plt.title('평균 성별 인구 분포')\n",
        "plt.ylabel('평균 인구 수')\n",
        "plt.xticks(rotation=45)\n",
        "\n",
        "# 2. 유동인구와 직장인구의 성별 비율 분포 (상자 그림)\n",
        "plt.subplot(2, 2, 2)\n",
        "gender_ratio = restaurant_data[['남성_유동인구_비율', '여성_유동인구_비율', '남성_직장인구_비율', '여성_직장인구_비율']]\n",
        "sns.boxplot(data=gender_ratio)\n",
        "plt.title('성별 인구 비율 분포')\n",
        "plt.ylabel('비율')\n",
        "plt.xticks(rotation=45)\n",
        "\n",
        "# 3. 성별 인구 비율과 평균매출 관계 (산점도)\n",
        "plt.subplot(2, 2, 3)\n",
        "sns.scatterplot(x='남성_유동인구_비율', y='평균매출', data=restaurant_data, alpha=0.5, label='남성 유동인구')\n",
        "sns.scatterplot(x='여성_유동인구_비율', y='평균매출', data=restaurant_data, alpha=0.5, label='여성 유동인구')\n",
        "plt.title('성별 유동인구 비율과 평균매출 관계')\n",
        "plt.xlabel('성별 유동인구 비율')\n",
        "plt.ylabel('평균매출')\n",
        "plt.legend()\n",
        "\n",
        "# 4. 성별 직장인구 비율과 평균매출 관계 (산점도)\n",
        "plt.subplot(2, 2, 4)\n",
        "sns.scatterplot(x='남성_직장인구_비율', y='평균매출', data=restaurant_data, alpha=0.5, label='남성 직장인구')\n",
        "sns.scatterplot(x='여성_직장인구_비율', y='평균매출', data=restaurant_data, alpha=0.5, label='여성 직장인구')\n",
        "plt.title('성별 직장인구 비율과 평균매출 관계')\n",
        "plt.xlabel('성별 직장인구 비율')\n",
        "plt.ylabel('평균매출')\n",
        "plt.legend()\n",
        "\n",
        "plt.tight_layout()\n",
        "plt.show()"
      ]
    },
    {
      "cell_type": "markdown",
      "id": "943b90af",
      "metadata": {},
      "source": [
        "### 2.4 상권 및 시간 카테고리 분석"
      ],
      "outputs": [],
      "execution_count": null
    },
    {
      "cell_type": "code",
      "execution_count": null,
      "id": "0fcb36b4",
      "metadata": {},
      "outputs": [],
      "source": [
        "# 범주형 변수 분석 (상권_구분_코드_명, 기준_년분기_코드)\n",
        "plt.figure(figsize=(10, 6))\n",
        "\n",
        "# 상권 구분별 평균 매출\n",
        "sns.barplot(x='상권_구분_코드_명', y='평균매출', data=restaurant_data.groupby('상권_구분_코드_명')['평균매출'].mean().sort_values(ascending=False).reset_index())\n",
        "plt.title('상권 구분별 평균 매출')\n",
        "plt.xlabel('상권 구분')\n",
        "plt.ylabel('평균 매출')\n",
        "plt.xticks(rotation=45)\n",
        "plt.tight_layout()\n",
        "plt.show()\n",
        "\n",
        "# 참고: 기준_년분기_코드는 단순히 원핫인코딩 용도로만 사용"
      ]
    },
    {
      "cell_type": "markdown",
      "id": "6befc554",
      "metadata": {},
      "source": [
        "### 2.5 상권 유형별 분석"
      ],
      "outputs": [],
      "execution_count": null
    },
    {
      "cell_type": "code",
      "execution_count": null,
      "id": "4d93aff7",
      "metadata": {},
      "outputs": [],
      "source": [
        "# 상권 구분 코드별 분석\n",
        "plt.figure(figsize=(16, 12))\n",
        "\n",
        "# 1. 상권 구분별 평균 매출\n",
        "plt.subplot(2, 2, 1)\n",
        "commercial_sales = restaurant_data.groupby('상권_구분_코드_명')['평균매출'].mean().sort_values(ascending=False).reset_index()\n",
        "sns.barplot(x='상권_구분_코드_명', y='평균매출', data=commercial_sales)\n",
        "plt.title('상권 유형별 평균 매출')\n",
        "plt.xlabel('상권 구분')\n",
        "plt.ylabel('평균 매출')\n",
        "plt.xticks(rotation=45)\n",
        "\n",
        "# 2. 상권 구분별 평균 유동인구\n",
        "plt.subplot(2, 2, 2)\n",
        "commercial_floating = restaurant_data.groupby('상권_구분_코드_명')['총_유동인구_수'].mean().sort_values(ascending=False).reset_index()\n",
        "sns.barplot(x='상권_구분_코드_명', y='총_유동인구_수', data=commercial_floating)\n",
        "plt.title('상권 유형별 평균 유동인구')\n",
        "plt.xlabel('상권 구분')\n",
        "plt.ylabel('평균 유동인구 수')\n",
        "plt.xticks(rotation=45)\n",
        "\n",
        "# 3. 상권 구분별 평균 직장인구\n",
        "plt.subplot(2, 2, 3)\n",
        "commercial_working = restaurant_data.groupby('상권_구분_코드_명')['총_직장_인구_수'].mean().sort_values(ascending=False).reset_index()\n",
        "sns.barplot(x='상권_구분_코드_명', y='총_직장_인구_수', data=commercial_working)\n",
        "plt.title('상권 유형별 평균 직장인구')\n",
        "plt.xlabel('상권 구분')\n",
        "plt.ylabel('평균 직장인구 수')\n",
        "plt.xticks(rotation=45)\n",
        "\n",
        "# 4. 상권 구분별 연령대 분포 (스택 바 차트)\n",
        "plt.subplot(2, 2, 4)\n",
        "age_commercial = restaurant_data.groupby('상권_구분_코드_명')[['초년_유동인구_수', '중년_유동인구_수', '노년_유동인구_수']].mean().reset_index()\n",
        "age_commercial_melted = pd.melt(age_commercial, id_vars='상권_구분_코드_명', var_name='연령대', value_name='평균인구수')\n",
        "sns.barplot(x='상권_구분_코드_명', y='평균인구수', hue='연령대', data=age_commercial_melted)\n",
        "plt.title('상권 유형별 연령대 분포')\n",
        "plt.xlabel('상권 구분')\n",
        "plt.ylabel('평균 인구 수')\n",
        "plt.xticks(rotation=45)\n",
        "plt.legend(title='연령대')\n",
        "\n",
        "plt.tight_layout()\n",
        "plt.show()"
      ]
    },
    {
      "cell_type": "markdown",
      "id": "3307c0c2",
      "metadata": {},
      "source": [
        "### 2.6 인구 수 비율과 밀도 분석"
      ],
      "outputs": [],
      "execution_count": null
    },
    {
      "cell_type": "code",
      "execution_count": null,
      "id": "298ab17f",
      "metadata": {},
      "outputs": [],
      "source": [
        "# 유동인구와 직장인구의 비율 및 밀도 계산\n",
        "restaurant_data['유동인구_직장인구_비율'] = restaurant_data['총_유동인구_수'] / restaurant_data['총_직장_인구_수']\n",
        "restaurant_data['유동인구_직장인구_비율'] = restaurant_data['유동인구_직장인구_비율'].replace([np.inf, -np.inf], np.nan).fillna(0)\n",
        "\n",
        "# 시각화\n",
        "plt.figure(figsize=(16, 10))\n",
        "\n",
        "# 1. 유동인구 대 직장인구 비율 분포\n",
        "plt.subplot(2, 2, 1)\n",
        "sns.histplot(restaurant_data['유동인구_직장인구_비율'].clip(0, 10), bins=30, kde=True)\n",
        "plt.title('유동인구/직장인구 비율 분포 (0-10 범위)')\n",
        "plt.xlabel('유동인구/직장인구 비율')\n",
        "plt.ylabel('빈도')\n",
        "\n",
        "# 2. 유동인구 대 직장인구 비율과 매출 관계\n",
        "plt.subplot(2, 2, 2)\n",
        "sns.scatterplot(x='유동인구_직장인구_비율', y='평균매출', data=restaurant_data[restaurant_data['유동인구_직장인구_비율'] < 10])\n",
        "plt.title('유동인구/직장인구 비율과 평균매출 관계')\n",
        "plt.xlabel('유동인구/직장인구 비율')\n",
        "plt.ylabel('평균매출')\n",
        "\n",
        "# 3. 유동인구와 매출의 로그-로그 관계\n",
        "plt.subplot(2, 2, 3)\n",
        "non_zero_data = restaurant_data[(restaurant_data['총_유동인구_수'] > 0) & (restaurant_data['평균매출'] > 0)]\n",
        "sns.scatterplot(x=np.log1p(non_zero_data['총_유동인구_수']), y=np.log1p(non_zero_data['평균매출']))\n",
        "plt.title('유동인구와 매출의 로그-로그 관계')\n",
        "plt.xlabel('log(총 유동인구 수 + 1)')\n",
        "plt.ylabel('log(평균매출 + 1)')\n",
        "\n",
        "# 4. 직장인구와 매출의 로그-로그 관계\n",
        "plt.subplot(2, 2, 4)\n",
        "non_zero_data = restaurant_data[(restaurant_data['총_직장_인구_수'] > 0) & (restaurant_data['평균매출'] > 0)]\n",
        "sns.scatterplot(x=np.log1p(non_zero_data['총_직장_인구_수']), y=np.log1p(non_zero_data['평균매출']))\n",
        "plt.title('직장인구와 매출의 로그-로그 관계')\n",
        "plt.xlabel('log(총 직장인구 수 + 1)')\n",
        "plt.ylabel('log(평균매출 + 1)')\n",
        "\n",
        "plt.tight_layout()\n",
        "plt.show()"
      ]
    },
    {
      "cell_type": "markdown",
      "id": "1f38fe83",
      "metadata": {},
      "source": [
        "### 2.7 복합 특성 생성 및 분석"
      ],
      "outputs": [],
      "execution_count": null
    },
    {
      "cell_type": "code",
      "execution_count": null,
      "id": "8cb5f261",
      "metadata": {},
      "outputs": [],
      "source": [
        "# 복합 특성 생성\n",
        "# 1. 인구 밀도 지표: 유동인구와 직장인구의 합\n",
        "restaurant_data['총_인구_수'] = restaurant_data['총_유동인구_수'] + restaurant_data['총_직장_인구_수']\n",
        "\n",
        "# 2. 젊은층 비율: 초년 인구 / 총 인구\n",
        "restaurant_data['초년_인구_비율'] = (restaurant_data['초년_유동인구_수'] + restaurant_data['초년_직장_인구_수']) / restaurant_data['총_인구_수']\n",
        "restaurant_data['초년_인구_비율'] = restaurant_data['초년_인구_비율'].replace([np.inf, -np.inf], np.nan).fillna(0)\n",
        "\n",
        "# 3. 여성 비율: 여성 인구 / 총 인구\n",
        "restaurant_data['여성_인구_비율'] = (restaurant_data['여성_유동인구_수'] + restaurant_data['여성_직장_인구_수']) / restaurant_data['총_인구_수']\n",
        "restaurant_data['여성_인구_비율'] = restaurant_data['여성_인구_비율'].replace([np.inf, -np.inf], np.nan).fillna(0)\n",
        "\n",
        "# 복합 특성 시각화\n",
        "plt.figure(figsize=(16, 10))\n",
        "\n",
        "# 1. 총 인구수와 평균매출 관계\n",
        "plt.subplot(2, 2, 1)\n",
        "sns.scatterplot(x='총_인구_수', y='평균매출', data=restaurant_data, alpha=0.5)\n",
        "plt.title('총 인구수와 평균매출 관계')\n",
        "plt.xlabel('총 인구수 (유동+직장)')\n",
        "plt.ylabel('평균매출')\n",
        "\n",
        "# 2. 초년 인구 비율과 평균매출 관계\n",
        "plt.subplot(2, 2, 2)\n",
        "sns.scatterplot(x='초년_인구_비율', y='평균매출', data=restaurant_data, alpha=0.5)\n",
        "plt.title('초년 인구 비율과 평균매출 관계')\n",
        "plt.xlabel('초년 인구 비율')\n",
        "plt.ylabel('평균매출')\n",
        "\n",
        "# 3. 여성 인구 비율과 평균매출 관계\n",
        "plt.subplot(2, 2, 3)\n",
        "sns.scatterplot(x='여성_인구_비율', y='평균매출', data=restaurant_data, alpha=0.5)\n",
        "plt.title('여성 인구 비율과 평균매출 관계')\n",
        "plt.xlabel('여성 인구 비율')\n",
        "plt.ylabel('평균매출')\n",
        "\n",
        "# 4. 초년 인구 비율과 여성 인구 비율의 상호작용\n",
        "plt.subplot(2, 2, 4)\n",
        "h = plt.scatter(restaurant_data['초년_인구_비율'], restaurant_data['여성_인구_비율'], \n",
        "                c=restaurant_data['평균매출'], cmap='viridis', alpha=0.6, s=50)\n",
        "plt.colorbar(h, label='평균매출')\n",
        "plt.title('초년 인구 비율과 여성 인구 비율의 상호작용')\n",
        "plt.xlabel('초년 인구 비율')\n",
        "plt.ylabel('여성 인구 비율')\n",
        "\n",
        "plt.tight_layout()\n",
        "plt.show()"
      ]
    },
    {
      "cell_type": "markdown",
      "id": "bc3bd0e6",
      "metadata": {},
      "source": [
        "### 2.8 특성별 분포 시각화"
      ],
      "outputs": [],
      "execution_count": null
    },
    {
      "cell_type": "code",
      "execution_count": null,
      "id": "864e8844",
      "metadata": {},
      "outputs": [],
      "source": [
        "# 주요 수치형 특성의 분포 시각화\n",
        "plt.figure(figsize=(20, 15))\n",
        "for i, feature in enumerate(numeric_features[:9]):  # 상위 9개 특성만 시각화\n",
        "    plt.subplot(3, 3, i+1)\n",
        "    # 원본 분포\n",
        "    sns.histplot(restaurant_data[feature], kde=True, color='blue', alpha=0.4, label='원본')\n",
        "    # 로그 변환 분포 (0보다 큰 값만)\n",
        "    if (restaurant_data[feature] > 0).any():\n",
        "        log_data = np.log1p(restaurant_data[feature].replace(0, np.nan).dropna())\n",
        "        sns.histplot(log_data, kde=True, color='red', alpha=0.4, label='로그변환')\n",
        "    plt.title(f'{feature} 분포')\n",
        "    plt.legend()\n",
        "plt.tight_layout()\n",
        "plt.show()"
      ]
    },
    {
      "cell_type": "markdown",
      "id": "3c6c5626",
      "metadata": {},
      "source": [
        "### 2.9 특성과 타겟 변수 간의 관계 시각화"
      ],
      "outputs": [],
      "execution_count": null
    },
    {
      "cell_type": "code",
      "execution_count": null,
      "id": "1dfaef09",
      "metadata": {},
      "outputs": [],
      "source": [
        "# 주요 특성과 타겟 변수(평균매출) 간의 관계 시각화\n",
        "plt.figure(figsize=(20, 15))\n",
        "for i, feature in enumerate(numeric_features[:9]):  # 상위 9개 특성만 시각화\n",
        "    plt.subplot(3, 3, i+1)\n",
        "    sns.scatterplot(x=restaurant_data[feature], y=restaurant_data['평균매출'], alpha=0.5)\n",
        "    # 회귀선 추가\n",
        "    sns.regplot(x=restaurant_data[feature], y=restaurant_data['평균매출'], \n",
        "                scatter=False, line_kws={\"color\":\"red\"})\n",
        "    plt.title(f'{feature} vs 평균매출')\n",
        "plt.tight_layout()\n",
        "plt.show()"
      ]
    },
    {
      "cell_type": "markdown",
      "id": "22e4af3f",
      "metadata": {},
      "source": [
        "### 2.10 범주형 특성과 타겟 변수 관계"
      ],
      "outputs": [],
      "execution_count": null
    },
    {
      "cell_type": "code",
      "execution_count": null,
      "id": "4f0e71d5",
      "metadata": {},
      "outputs": [],
      "source": [
        "# 범주형 특성과 타겟 변수 관계\n",
        "plt.figure(figsize=(12, 8))\n",
        "sns.boxplot(x='상권_구분_코드_명', y='평균매출', data=restaurant_data)\n",
        "plt.title('상권 구분별 평균매출 분포')\n",
        "plt.xlabel('상권 구분')\n",
        "plt.ylabel('평균매출')\n",
        "plt.xticks(rotation=45)\n",
        "plt.tight_layout()\n",
        "plt.show()\n",
        "\n",
        "# 참고: 기준_년분기_코드는 수가 많아 시각화에 적합하지 않으므로 원핫인코딩만 적용"
      ]
    },
    {
      "cell_type": "markdown",
      "id": "e80475a6",
      "metadata": {},
      "source": [
        "### 2.11 다변량 분석 - 페어플롯"
      ],
      "outputs": [],
      "execution_count": null
    },
    {
      "cell_type": "code",
      "execution_count": null,
      "id": "c31252e2",
      "metadata": {},
      "outputs": [],
      "source": [
        "# 중요 특성들 간의 관계 페어플롯\n",
        "# 모든 특성을 사용하면 너무 복잡하므로 주요 특성 5개만 선택\n",
        "top_features = ['평균매출', '총_유동인구_수', '총_직장_인구_수', \n",
        "                '초년_유동인구_수', '중년_직장_인구_수']\n",
        "sns.pairplot(restaurant_data[top_features], height=2.5)\n",
        "plt.suptitle('주요 특성 간 페어플롯', y=1.02)\n",
        "plt.tight_layout()\n",
        "plt.show()"
      ]
    },
    {
      "cell_type": "markdown",
      "id": "210de442",
      "metadata": {},
      "source": [
        "### 2.12 특성 간 상호작용 분석"
      ],
      "outputs": [],
      "execution_count": null
    },
    {
      "cell_type": "code",
      "execution_count": null,
      "id": "57f18fef",
      "metadata": {},
      "outputs": [],
      "source": [
        "# 유동인구와 직장인구의 상호작용 효과 시각화\n",
        "plt.figure(figsize=(10, 8))\n",
        "sns.scatterplot(\n",
        "    x='총_유동인구_수',\n",
        "    y='총_직장_인구_수',\n",
        "    size='평균매출',\n",
        "    sizes=(20, 500),\n",
        "    hue='평균매출',\n",
        "    palette='viridis',\n",
        "    data=restaurant_data\n",
        ")\n",
        "plt.title('유동인구와 직장인구의 상호작용이 평균매출에 미치는 영향')\n",
        "plt.tight_layout()\n",
        "plt.show()"
      ]
    },
    {
      "cell_type": "markdown",
      "id": "1f2d0a58",
      "metadata": {},
      "source": [
        "### 2.13 특성 엔지니어링 검증"
      ],
      "outputs": [],
      "execution_count": null
    },
    {
      "cell_type": "code",
      "execution_count": null,
      "id": "8bed0696",
      "metadata": {},
      "outputs": [],
      "source": [
        "# 특성 엔지니어링 검증 출력\n",
        "print(\"\\n=== 특성 엔지니어링 검증 ===\")\n",
        "# 샘플 데이터로 원본 값과 계산된 값 비교\n",
        "sample_idx = np.random.randint(0, len(restaurant_data), size=3)\n",
        "sample_data = restaurant_data.iloc[sample_idx]\n",
        "\n",
        "print(\"초년 유동인구 계산 검증:\")\n",
        "for idx in sample_idx:\n",
        "    row = restaurant_data.iloc[idx]\n",
        "    original_sum = row[\"연령대_10_유동인구_수\"] + row[\"연령대_20_유동인구_수\"]\n",
        "    calculated = row[\"초년_유동인구_수\"]\n",
        "    match = np.isclose(original_sum, calculated)\n",
        "    print(f\"인덱스 {idx}: 원본합({original_sum}) vs 계산값({calculated}) - 일치: {match}\")"
      ]
    },
    {
      "cell_type": "markdown",
      "id": "1a321f74",
      "metadata": {},
      "source": [
        "### 2.14 연령대별 인구 분포 시각화"
      ],
      "outputs": [],
      "execution_count": null
    },
    {
      "cell_type": "code",
      "execution_count": null,
      "id": "8af1b6f0",
      "metadata": {},
      "outputs": [],
      "source": [
        "# 연령대별 인구 분포 시각화\n",
        "age_cols = [\"초년_유동인구_수\", \"중년_유동인구_수\", \"노년_유동인구_수\"]\n",
        "plt.figure(figsize=(12, 6))\n",
        "\n",
        "# 연령대별 유동인구 분포\n",
        "plt.subplot(1, 2, 1)\n",
        "sns.boxplot(data=restaurant_data[age_cols])\n",
        "plt.title(\"연령대별 유동인구 분포\")\n",
        "plt.ylabel(\"인구 수\")\n",
        "\n",
        "# 연령대별 직장인구 분포\n",
        "age_work_cols = [\"초년_직장_인구_수\", \"중년_직장_인구_수\", \"노년_직장_인구_수\"]\n",
        "plt.subplot(1, 2, 2)\n",
        "sns.boxplot(data=restaurant_data[age_work_cols])\n",
        "plt.title(\"연령대별 직장인구 분포\")\n",
        "plt.ylabel(\"인구 수\")\n",
        "\n",
        "plt.tight_layout()\n",
        "plt.show()"
      ]
    },
    {
      "cell_type": "markdown",
      "id": "56600e9d",
      "metadata": {},
      "source": [
        "### 2.15 필요한 컬럼만 선택"
      ],
      "outputs": [],
      "execution_count": null
    },
    {
      "cell_type": "code",
      "execution_count": null,
      "id": "856a0a19",
      "metadata": {},
      "outputs": [],
      "source": [
        "# 필요한 컬럼만 선택\n",
        "keep_cols = [\n",
        "    \"기준_년분기_코드\", \"상권_코드_명\", \"상권_구분_코드_명\", \"평균매출\",\n",
        "    \"총_유동인구_수\", \"남성_유동인구_수\", \"여성_유동인구_수\", \n",
        "    \"총_직장_인구_수\", \"남성_직장_인구_수\", \"여성_직장_인구_수\",\n",
        "    \"초년_유동인구_수\", \"중년_유동인구_수\", \"노년_유동인구_수\", \n",
        "    \"초년_직장_인구_수\", \"중년_직장_인구_수\", \"노년_직장_인구_수\",\n",
        "    # 추가 생성 특성\n",
        "    \"남성_유동인구_비율\", \"여성_유동인구_비율\", \"남성_직장인구_비율\", \"여성_직장인구_비율\",\n",
        "    \"유동인구_직장인구_비율\", \"총_인구_수\", \"초년_인구_비율\", \"여성_인구_비율\"\n",
        "]\n",
        "\n",
        "# 컬럼 존재 여부 확인 후 필터링\n",
        "existing_cols = [col for col in keep_cols if col in restaurant_data.columns]\n",
        "restaurant_data = restaurant_data[existing_cols]\n",
        "\n",
        "# 불필요한 컬럼 제거 (연도, 분기 등 시각화용 임시 컬럼이 있다면 삭제)\n",
        "drop_cols = ['연도', '분기']\n",
        "for col in drop_cols:\n",
        "    if col in restaurant_data.columns:\n",
        "        restaurant_data = restaurant_data.drop(columns=[col])"
      ]
    },
    {
      "cell_type": "markdown",
      "id": "ab002af2",
      "metadata": {},
      "source": [
        "## 3. 전처리 파이프라인 구성"
      ],
      "outputs": [],
      "execution_count": null
    },
    {
      "cell_type": "markdown",
      "id": "b59daa9e",
      "metadata": {},
      "source": [
        "### 3.1 특성 정의 및 파이프라인 구성"
      ],
      "outputs": [],
      "execution_count": null
    },
    {
      "cell_type": "code",
      "execution_count": null,
      "id": "353c5da8",
      "metadata": {},
      "outputs": [],
      "source": [
        "# 전처리 파이프라인 구성 (특성은 2.0에서 정의된 것을 사용)\n",
        "preprocessor = ColumnTransformer(\n",
        "    transformers=[\n",
        "        ('num', Pipeline([\n",
        "            ('imputer', SimpleImputer(strategy='median')),\n",
        "            ('scaler', StandardScaler())\n",
        "        ]), numeric_features),\n",
        "        ('cat', Pipeline([\n",
        "            ('imputer', SimpleImputer(strategy='most_frequent')),\n",
        "            ('onehot', OneHotEncoder(sparse_output=False, handle_unknown='ignore'))\n",
        "        ]), categorical_features)\n",
        "    ])"
      ]
    },
    {
      "cell_type": "markdown",
      "id": "7ff6826a",
      "metadata": {},
      "source": [
        "### 3.2 데이터 준비 및 변환"
      ],
      "outputs": [],
      "execution_count": null
    },
    {
      "cell_type": "code",
      "execution_count": null,
      "id": "d84eeb51",
      "metadata": {},
      "outputs": [],
      "source": [
        "# 데이터 준비 - 특성과 타겟 분리\n",
        "X = restaurant_data[numeric_features + categorical_features]\n",
        "y = restaurant_data[\"평균매출\"]\n",
        "\n",
        "# 파이프라인으로 데이터 변환 (전체 데이터)\n",
        "preprocessor.fit(X)\n",
        "X_transformed = preprocessor.transform(X)"
      ]
    },
    {
      "cell_type": "markdown",
      "id": "0f4b1619",
      "metadata": {},
      "source": [
        "### 3.3 변환된 특성 이름 추출"
      ],
      "outputs": [],
      "execution_count": null
    },
    {
      "cell_type": "code",
      "execution_count": null,
      "id": "3b8ea967",
      "metadata": {},
      "outputs": [],
      "source": [
        "# 변환된 특성 이름 추출\n",
        "transformed_feature_names = numeric_features.copy()\n",
        "\n",
        "# 범주형 특성의 원핫인코딩된 이름 추출\n",
        "cat_encoder = preprocessor.named_transformers_['cat'].named_steps['onehot']\n",
        "categorical_feature_names = cat_encoder.get_feature_names_out(categorical_features)\n",
        "transformed_feature_names.extend(categorical_feature_names)\n",
        "\n",
        "# 변환된 데이터를 DataFrame으로 변환\n",
        "transformed_df = pd.DataFrame(X_transformed, columns=transformed_feature_names)\n",
        "transformed_df[\"평균매출\"] = y  # 타겟 변수 추가"
      ]
    },
    {
      "cell_type": "markdown",
      "id": "a50a9a0e",
      "metadata": {},
      "source": [
        "## 4. 특성 간 상관관계 분석"
      ],
      "outputs": [],
      "execution_count": null
    },
    {
      "cell_type": "markdown",
      "id": "f1ee8b5a",
      "metadata": {},
      "source": [
        "### 4.1 상관계수 계산 및 분석"
      ],
      "outputs": [],
      "execution_count": null
    },
    {
      "cell_type": "code",
      "execution_count": null,
      "id": "32f4be0a",
      "metadata": {},
      "outputs": [],
      "source": [
        "# 변환된 데이터로 상관계수 계산\n",
        "correlation_matrix = transformed_df.corr()\n",
        "\n",
        "# 평균매출과의 상관계수 내림차순 정렬\n",
        "correlation_with_target = correlation_matrix['평균매출'].sort_values(ascending=False)"
      ]
    },
    {
      "cell_type": "markdown",
      "id": "ff40d3fc",
      "metadata": {},
      "source": [
        "### 4.2 상관관계 결과 출력"
      ],
      "outputs": [],
      "execution_count": null
    },
    {
      "cell_type": "code",
      "execution_count": null,
      "id": "647fc608",
      "metadata": {},
      "outputs": [],
      "source": [
        "# 상관계수 출력\n",
        "print(\"\\n평균 매출과 상관관계가 높은 특성 (상위 15개):\")\n",
        "print(correlation_with_target.head(15))"
      ]
    },
    {
      "cell_type": "markdown",
      "id": "c1ca15fc",
      "metadata": {},
      "source": [
        "### 4.3 상관계수 히트맵 시각화"
      ],
      "outputs": [],
      "execution_count": null
    },
    {
      "cell_type": "code",
      "execution_count": null,
      "id": "30b50b95",
      "metadata": {},
      "outputs": [],
      "source": [
        "# 상관계수 히트맵 시각화 - 상위 15개 특성만 시각화\n",
        "top_features = correlation_with_target.index[:15]\n",
        "plt.figure(figsize=(15, 12))\n",
        "sns.heatmap(correlation_matrix.loc[top_features, top_features], annot=True, cmap='coolwarm', fmt='.2f', linewidths=0.5)\n",
        "plt.title('특성 간 상관계수 히트맵 (상위 15개)')\n",
        "plt.tight_layout()\n",
        "plt.show()"
      ]
    },
    {
      "cell_type": "markdown",
      "id": "31bc1f5b",
      "metadata": {},
      "source": [
        "## 5. 모델 훈련 및 평가"
      ],
      "outputs": [],
      "execution_count": null
    },
    {
      "cell_type": "markdown",
      "id": "bb2b221d",
      "metadata": {},
      "source": [
        "### 5.1 데이터 분할 및 모델 정의"
      ],
      "outputs": [],
      "execution_count": null
    },
    {
      "cell_type": "code",
      "execution_count": null,
      "id": "c3b8c92d",
      "metadata": {},
      "outputs": [],
      "source": [
        "# 데이터 분할\n",
        "X_train, X_test, y_train, y_test = train_test_split(X, y, test_size=0.2, random_state=42)\n",
        "\n",
        "# 모델 정의\n",
        "models = {\n",
        "    'Linear Regression': Pipeline([\n",
        "        ('preprocessor', preprocessor),\n",
        "        ('regressor', LinearRegression())\n",
        "    ]),\n",
        "    'Ridge': Pipeline([\n",
        "        ('preprocessor', preprocessor),\n",
        "        ('regressor', Ridge(alpha=1.0))\n",
        "    ]),\n",
        "    'Lasso': Pipeline([\n",
        "        ('preprocessor', preprocessor),\n",
        "        ('regressor', Lasso(alpha=0.1))\n",
        "    ]),\n",
        "    'Random Forest': Pipeline([\n",
        "        ('preprocessor', preprocessor),\n",
        "        ('regressor', RandomForestRegressor(n_estimators=100, max_depth=None, random_state=42))\n",
        "    ]),\n",
        "    'Gradient Boosting': Pipeline([\n",
        "        ('preprocessor', preprocessor),\n",
        "        ('regressor', GradientBoostingRegressor(n_estimators=100, learning_rate=0.1, random_state=42))\n",
        "    ])\n",
        "}\n",
        "\n",
        "# 모델 평가 결과 저장용 리스트\n",
        "results = []"
      ]
    },
    {
      "cell_type": "markdown",
      "id": "4b94dbba",
      "metadata": {},
      "source": [
        "### 5.2 모델 훈련 및 평가 루프"
      ],
      "outputs": [],
      "execution_count": null
    },
    {
      "cell_type": "code",
      "execution_count": null,
      "id": "acec9800",
      "metadata": {},
      "outputs": [],
      "source": [
        "# 각 모델별 학습 및 평가\n",
        "for name, model in models.items():\n",
        "    print(f\"\\n{name} 모델 학습 중...\")\n",
        "    # 모델 학습\n",
        "    model.fit(X_train, y_train)\n",
        "    \n",
        "    # 교차 검증 - 추가적인 성능 지표 사용\n",
        "    print(\"교차 검증 중...\")\n",
        "    cv_rmse_scores = -cross_val_score(model, X_train, y_train, cv=5, scoring='neg_root_mean_squared_error')\n",
        "    cv_r2_scores = cross_val_score(model, X_train, y_train, cv=5, scoring='r2')\n",
        "    cv_mae_scores = -cross_val_score(model, X_train, y_train, cv=5, scoring='neg_mean_absolute_error')\n",
        "    \n",
        "    # 교차 검증 결과 출력\n",
        "    print(f\"  CV RMSE: {cv_rmse_scores.mean():.2f} ± {cv_rmse_scores.std():.2f}\")\n",
        "    print(f\"  CV R²: {cv_r2_scores.mean():.4f} ± {cv_r2_scores.std():.4f}\")\n",
        "    print(f\"  CV MAE: {cv_mae_scores.mean():.2f} ± {cv_mae_scores.std():.2f}\")\n",
        "    \n",
        "    # 훈련 세트 예측\n",
        "    y_train_pred = model.predict(X_train)\n",
        "    train_rmse = np.sqrt(mean_squared_error(y_train, y_train_pred))\n",
        "    train_mae = mean_absolute_error(y_train, y_train_pred)\n",
        "    train_r2 = r2_score(y_train, y_train_pred)\n",
        "    \n",
        "    # 테스트 세트 예측\n",
        "    y_pred = model.predict(X_test)\n",
        "    test_rmse = np.sqrt(mean_squared_error(y_test, y_pred))\n",
        "    test_mae = mean_absolute_error(y_test, y_pred)\n",
        "    test_r2 = r2_score(y_test, y_pred)\n",
        "    \n",
        "    # 과적합 계산\n",
        "    overfitting_rmse = ((train_rmse - test_rmse) / train_rmse) * 100 if train_rmse > 0 else 0\n",
        "    overfitting_r2 = ((train_r2 - test_r2) / train_r2) * 100 if train_r2 > 0 else 0\n",
        "    \n",
        "    # 결과 저장\n",
        "    results.append({\n",
        "        'Model': name,\n",
        "        'Train RMSE': train_rmse,\n",
        "        'CV RMSE': cv_rmse_scores.mean(),\n",
        "        'CV RMSE STD': cv_rmse_scores.std(),\n",
        "        'Test RMSE': test_rmse,\n",
        "        'Train MAE': train_mae,\n",
        "        'CV MAE': cv_mae_scores.mean(),\n",
        "        'Test MAE': test_mae,\n",
        "        'Train R2': train_r2,\n",
        "        'CV R2': cv_r2_scores.mean(),\n",
        "        'Test R2': test_r2,\n",
        "        'RMSE Overfitting (%)': overfitting_rmse,\n",
        "        'R2 Overfitting (%)': overfitting_r2\n",
        "    })\n",
        "    \n",
        "    print(f\"- 훈련 세트: RMSE={train_rmse:.2f}, MAE={train_mae:.2f}, R2={train_r2:.4f}\")\n",
        "    print(f\"- 테스트 세트: RMSE={test_rmse:.2f}, MAE={test_mae:.2f}, R2={test_r2:.4f}\")\n",
        "    \n",
        "    if overfitting_rmse > 10 or overfitting_r2 > 10:\n",
        "        print(f\"  ! 경고: 과적합 가능성 (RMSE 차이: {overfitting_rmse:.1f}%, R² 차이: {overfitting_r2:.1f}%)\")"
      ]
    },
    {
      "cell_type": "markdown",
      "id": "cbafd534",
      "metadata": {},
      "source": [
        "### 5.3 평가 결과 분석"
      ],
      "outputs": [],
      "execution_count": null
    },
    {
      "cell_type": "code",
      "execution_count": null,
      "id": "8e306362",
      "metadata": {},
      "outputs": [],
      "source": [
        "# 결과 정렬 및 출력\n",
        "results_df = pd.DataFrame(results).sort_values('Test RMSE')\n",
        "print(\"\\n모델 평가 결과 (테스트 RMSE 기준 정렬):\")\n",
        "print(results_df[['Model', 'Train RMSE', 'CV RMSE', 'Test RMSE', 'Train R2', 'CV R2', 'Test R2']])"
      ]
    },
    {
      "cell_type": "markdown",
      "id": "c790adfc",
      "metadata": {},
      "source": [
        "### 5.4 모델 성능 시각화"
      ],
      "outputs": [],
      "execution_count": null
    },
    {
      "cell_type": "code",
      "execution_count": null,
      "id": "0631b482",
      "metadata": {},
      "outputs": [],
      "source": [
        "# 학습-테스트 성능 격차 시각화\n",
        "plt.figure(figsize=(15, 10))\n",
        "\n",
        "# RMSE 비교 시각화\n",
        "plt.subplot(2, 1, 1)\n",
        "models_list = results_df['Model'].tolist()\n",
        "train_rmse_list = results_df['Train RMSE'].tolist()\n",
        "cv_rmse_list = results_df['CV RMSE'].tolist()\n",
        "test_rmse_list = results_df['Test RMSE'].tolist()\n",
        "\n",
        "x = np.arange(len(models_list))\n",
        "width = 0.25\n",
        "\n",
        "plt.bar(x - width, train_rmse_list, width, label='Train RMSE')\n",
        "plt.bar(x, cv_rmse_list, width, label='CV RMSE')\n",
        "plt.bar(x + width, test_rmse_list, width, label='Test RMSE')\n",
        "\n",
        "plt.xlabel('모델')\n",
        "plt.ylabel('RMSE')\n",
        "plt.title('모델별 학습, 교차검증, 테스트 RMSE 비교')\n",
        "plt.xticks(x, models_list, rotation=45)\n",
        "plt.legend()\n",
        "plt.grid(axis='y', linestyle='--', alpha=0.7)\n",
        "\n",
        "# R2 비교 시각화\n",
        "plt.subplot(2, 1, 2)\n",
        "train_r2_list = results_df['Train R2'].tolist()\n",
        "cv_r2_list = results_df['CV R2'].tolist()\n",
        "test_r2_list = results_df['Test R2'].tolist()\n",
        "\n",
        "plt.bar(x - width, train_r2_list, width, label='Train R²')\n",
        "plt.bar(x, cv_r2_list, width, label='CV R²')\n",
        "plt.bar(x + width, test_r2_list, width, label='Test R²')\n",
        "\n",
        "plt.xlabel('모델')\n",
        "plt.ylabel('R²')\n",
        "plt.title('모델별 학습, 교차검증, 테스트 R² 비교')\n",
        "plt.xticks(x, models_list, rotation=45)\n",
        "plt.legend()\n",
        "plt.grid(axis='y', linestyle='--', alpha=0.7)\n",
        "\n",
        "plt.tight_layout()\n",
        "plt.show()"
      ]
    },
    {
      "cell_type": "markdown",
      "id": "efcebba1",
      "metadata": {},
      "source": [
        "### 5.5 과적합 분석"
      ],
      "outputs": [],
      "execution_count": null
    },
    {
      "cell_type": "code",
      "execution_count": null,
      "id": "a92639a3",
      "metadata": {},
      "outputs": [],
      "source": [
        "# 과적합 분석 시각화\n",
        "plt.figure(figsize=(12, 6))\n",
        "\n",
        "# RMSE 기준 과적합 시각화\n",
        "plt.subplot(1, 2, 1)\n",
        "plt.bar(models_list, results_df['RMSE Overfitting (%)'])\n",
        "plt.title('모델별 RMSE 과적합 정도 (%)')\n",
        "plt.xlabel('모델')\n",
        "plt.ylabel('RMSE 차이 (%)')\n",
        "plt.xticks(rotation=45)\n",
        "\n",
        "# R2 기준 과적합 시각화\n",
        "plt.subplot(1, 2, 2)\n",
        "plt.bar(models_list, results_df['R2 Overfitting (%)'])\n",
        "plt.title('모델별 R² 과적합 정도 (%)')\n",
        "plt.xlabel('모델')\n",
        "plt.ylabel('R² 차이 (%)')\n",
        "plt.xticks(rotation=45)\n",
        "\n",
        "plt.tight_layout()\n",
        "plt.show()"
      ]
    },
    {
      "cell_type": "markdown",
      "id": "5041bc9d",
      "metadata": {},
      "source": [
        "## 6. 최적 모델 튜닝"
      ],
      "outputs": [],
      "execution_count": null
    },
    {
      "cell_type": "markdown",
      "id": "5e826e78",
      "metadata": {},
      "source": [
        "### 6.1 RandomForest 모델 하이퍼파라미터 탐색"
      ],
      "outputs": [],
      "execution_count": null
    },
    {
      "cell_type": "code",
      "execution_count": null,
      "id": "ce435335",
      "metadata": {},
      "outputs": [],
      "source": [
        "# RandomForest 모델 최적화 파이프라인 구성\n",
        "rf_pipeline = Pipeline([\n",
        "    ('preprocessor', preprocessor),\n",
        "    ('regressor', RandomForestRegressor(random_state=42))\n",
        "])\n",
        "\n",
        "# 하이퍼파라미터 탐색 범위\n",
        "rf_params = {\n",
        "    'regressor__n_estimators': [100, 200],\n",
        "    'regressor__max_depth': [None, 10, 20],\n",
        "    'regressor__min_samples_split': [2, 5, 10]\n",
        "}"
      ]
    },
    {
      "cell_type": "markdown",
      "id": "50259d9f",
      "metadata": {},
      "source": [
        "### 6.2 그리드 서치 수행"
      ],
      "outputs": [],
      "execution_count": null
    },
    {
      "cell_type": "code",
      "execution_count": null,
      "id": "47f45d85",
      "metadata": {},
      "outputs": [],
      "source": [
        "# 그리드 서치 수행\n",
        "rf_gs = GridSearchCV(rf_pipeline, rf_params, cv=5, n_jobs=-1, \n",
        "                    scoring={'rmse': 'neg_root_mean_squared_error', \n",
        "                             'mae': 'neg_mean_absolute_error',\n",
        "                             'r2': 'r2'},\n",
        "                    refit='rmse')\n",
        "rf_gs.fit(X_train, y_train)\n",
        "print(\"최적 RandomForest 파라미터:\", rf_gs.best_params_)\n",
        "best_rf = rf_gs.best_estimator_"
      ]
    },
    {
      "cell_type": "markdown",
      "id": "311e3a5c",
      "metadata": {},
      "source": [
        "### 6.3 최적화된 모델 성능 평가"
      ],
      "outputs": [],
      "execution_count": null
    },
    {
      "cell_type": "code",
      "execution_count": null,
      "id": "c68293a8",
      "metadata": {},
      "outputs": [],
      "source": [
        "# 최적화된 모델의 성능 평가\n",
        "# 교차 검증 성능\n",
        "cv_rmse_best = -rf_gs.cv_results_['mean_test_rmse'][rf_gs.best_index_]\n",
        "cv_mae_best = -rf_gs.cv_results_['mean_test_mae'][rf_gs.best_index_]\n",
        "cv_r2_best = rf_gs.cv_results_['mean_test_r2'][rf_gs.best_index_]\n",
        "\n",
        "# 학습 데이터 성능\n",
        "y_train_pred_best = best_rf.predict(X_train)\n",
        "train_rmse_best = np.sqrt(mean_squared_error(y_train, y_train_pred_best))\n",
        "train_mae_best = mean_absolute_error(y_train, y_train_pred_best)\n",
        "train_r2_best = r2_score(y_train, y_train_pred_best)\n",
        "\n",
        "# 테스트 데이터 성능\n",
        "y_test_pred_best = best_rf.predict(X_test)\n",
        "test_rmse_best = np.sqrt(mean_squared_error(y_test, y_test_pred_best))\n",
        "test_mae_best = mean_absolute_error(y_test, y_test_pred_best)\n",
        "test_r2_best = r2_score(y_test, y_test_pred_best)\n",
        "\n",
        "# 과적합 계산\n",
        "overfitting_rmse_best = (train_rmse_best - test_rmse_best) / train_rmse_best * 100 if train_rmse_best > 0 else 0\n",
        "overfitting_r2_best = (train_r2_best - test_r2_best) / train_r2_best * 100 if train_r2_best > 0 else 0"
      ]
    },
    {
      "cell_type": "markdown",
      "id": "42de83b7",
      "metadata": {},
      "source": [
        "### 6.4 최적화 결과 분석"
      ],
      "outputs": [],
      "execution_count": null
    },
    {
      "cell_type": "code",
      "execution_count": null,
      "id": "c04a095e",
      "metadata": {},
      "outputs": [],
      "source": [
        "# 결과 출력\n",
        "print(\"\\n최적화된 RandomForest 모델 평가:\")\n",
        "best_model_results = pd.DataFrame({\n",
        "    'Metric': ['RMSE', 'MAE', 'R²', 'Overfitting (%)'],\n",
        "    'Train': [train_rmse_best, train_mae_best, train_r2_best, '-'],\n",
        "    'CV': [cv_rmse_best, cv_mae_best, cv_r2_best, '-'],\n",
        "    'Test': [test_rmse_best, test_mae_best, test_r2_best, '-'],\n",
        "    'Train-Test': [f\"{train_rmse_best-test_rmse_best:.2f}\", \n",
        "                  f\"{train_mae_best-test_mae_best:.2f}\", \n",
        "                  f\"{train_r2_best-test_r2_best:.4f}\",\n",
        "                  f\"RMSE: {overfitting_rmse_best:.1f}%, R²: {overfitting_r2_best:.1f}%\"]\n",
        "})\n",
        "print(best_model_results)\n",
        "\n",
        "# 과적합 경고\n",
        "if overfitting_rmse_best > 10:\n",
        "    print(f\"\\n주의: 최적화된 모델에서 과적합이 발생했을 수 있습니다. (RMSE 차이: {overfitting_rmse_best:.1f}%)\")\n",
        "    print(\"정규화 매개변수를 조정하거나 특성 선택을 다시 검토해 보세요.\")"
      ]
    },
    {
      "cell_type": "markdown",
      "id": "62abe54b",
      "metadata": {},
      "source": [
        "## 7. 최적 모델 분석 및 특성 중요도"
      ],
      "outputs": [],
      "execution_count": null
    },
    {
      "cell_type": "markdown",
      "id": "8953c824",
      "metadata": {},
      "source": [
        "### 7.1 최고 성능 모델 선택"
      ],
      "outputs": [],
      "execution_count": null
    },
    {
      "cell_type": "code",
      "execution_count": null,
      "id": "f5a7bae6",
      "metadata": {},
      "outputs": [],
      "source": [
        "# 최고 성능 모델 선택\n",
        "best_model_name = results_df.iloc[0]['Model']\n",
        "best_model = models[best_model_name]\n",
        "print(f\"선택된 최적 모델: {best_model_name}\")\n",
        "print(f\"테스트 성능: RMSE={results_df.iloc[0]['Test RMSE']:.2f}, R2={results_df.iloc[0]['Test R2']:.4f}\")"
      ]
    },
    {
      "cell_type": "markdown",
      "id": "ea0bb74f",
      "metadata": {},
      "source": [
        "### 7.2 특성 중요도 추출 및 시각화"
      ],
      "outputs": [],
      "execution_count": null
    },
    {
      "cell_type": "code",
      "execution_count": null,
      "id": "8891569f",
      "metadata": {},
      "outputs": [],
      "source": [
        "# 특성 중요도 분석 (트리 기반 모델인 경우)\n",
        "if best_model_name in ['Random Forest', 'Gradient Boosting']:\n",
        "    # 모델에서 특성 중요도 추출\n",
        "    regressor = best_model.named_steps['regressor']\n",
        "    feature_importances = regressor.feature_importances_\n",
        "    \n",
        "    # 전처리기에서 변환된 특성 이름 가져오기\n",
        "    preprocessor = best_model.named_steps['preprocessor']\n",
        "    num_transformer = preprocessor.named_transformers_['num']\n",
        "    cat_transformer = preprocessor.named_transformers_['cat']\n",
        "    \n",
        "    # 수치형 특성 이름\n",
        "    feature_names = numeric_features.copy()\n",
        "    \n",
        "    # 범주형 특성 변환 이름 추가\n",
        "    cat_feature_names = cat_transformer.named_steps['onehot'].get_feature_names_out(categorical_features)\n",
        "    feature_names.extend(cat_feature_names)\n",
        "    \n",
        "    # 특성 중요도 데이터프레임 생성\n",
        "    importance_df = pd.DataFrame({\n",
        "        'feature': feature_names[:len(feature_importances)],\n",
        "        'importance': feature_importances\n",
        "    }).sort_values('importance', ascending=False)\n",
        "    \n",
        "    # 상위 10개 특성 시각화\n",
        "    plt.figure(figsize=(12, 8))\n",
        "    sns.barplot(x='importance', y='feature', data=importance_df.head(10))\n",
        "    plt.title(f'{best_model_name} 모델의 상위 10개 중요 특성')\n",
        "    plt.xlabel('중요도')\n",
        "    plt.ylabel('특성')\n",
        "    plt.tight_layout()\n",
        "    plt.show()\n",
        "    \n",
        "    print(\"\\n상위 10개 중요 특성:\")\n",
        "    for idx, row in importance_df.head(10).iterrows():\n",
        "        print(f\"- {row['feature']}: {row['importance']:.4f}\")"
      ]
    },
    {
      "cell_type": "markdown",
      "id": "3e7e1230",
      "metadata": {},
      "source": [
        "### 7.3 예측 결과 분석"
      ],
      "outputs": [],
      "execution_count": null
    },
    {
      "cell_type": "code",
      "execution_count": null,
      "id": "df998b68",
      "metadata": {},
      "outputs": [],
      "source": [
        "# 예측 결과 분석\n",
        "print(\"\\n예측 결과 분석 중...\")\n",
        "y_pred_best = best_model.predict(X_test)\n",
        "\n",
        "# 예측 성능 평가\n",
        "test_rmse = np.sqrt(mean_squared_error(y_test, y_pred_best))\n",
        "test_mae = mean_absolute_error(y_test, y_pred_best)\n",
        "test_r2 = r2_score(y_test, y_pred_best)\n",
        "\n",
        "# 예측 결과 데이터프레임\n",
        "prediction_df = pd.DataFrame({\n",
        "    '실제값': y_test,\n",
        "    '예측값': y_pred_best,\n",
        "    '오차': y_test - y_pred_best,\n",
        "    '절대오차': np.abs(y_test - y_pred_best),\n",
        "    '상대오차(%)': np.abs((y_test - y_pred_best) / y_test) * 100\n",
        "})\n",
        "\n",
        "# 예측 성능 지표 출력\n",
        "print(f\"최종 모델 성능: RMSE={test_rmse:.2f}, MAE={test_mae:.2f}, R²={test_r2:.4f}\")\n",
        "print(f\"평균 절대 오차: {prediction_df['절대오차'].mean():.2f}\")\n",
        "print(f\"중간값 절대 오차: {prediction_df['절대오차'].median():.2f}\")\n",
        "print(f\"평균 상대 오차: {prediction_df['상대오차(%)'].mean():.2f}%\")"
      ]
    },
    {
      "cell_type": "markdown",
      "id": "7310e621",
      "metadata": {},
      "source": [
        "### 7.4 예측 결과 시각화"
      ],
      "outputs": [],
      "execution_count": null
    },
    {
      "cell_type": "code",
      "execution_count": null,
      "id": "b949fd20",
      "metadata": {},
      "outputs": [],
      "source": [
        "# 예측 결과 시각화\n",
        "plt.figure(figsize=(15, 10))\n",
        "\n",
        "# 예측값 vs 실제값 산점도\n",
        "plt.subplot(2, 2, 1)\n",
        "plt.scatter(y_test, y_pred_best, alpha=0.5)\n",
        "plt.plot([min(y_test), max(y_test)], [min(y_test), max(y_test)], 'r--')\n",
        "plt.title('실제값 vs 예측값')\n",
        "plt.xlabel('실제 평균매출')\n",
        "plt.ylabel('예측 평균매출')\n",
        "plt.grid(True, linestyle='--', alpha=0.5)\n",
        "\n",
        "# 잔차 히스토그램\n",
        "plt.subplot(2, 2, 2)\n",
        "sns.histplot(prediction_df['오차'], kde=True)\n",
        "plt.axvline(x=0, color='r', linestyle='--')\n",
        "plt.title('예측 오차 분포')\n",
        "plt.xlabel('오차')\n",
        "plt.ylabel('빈도')\n",
        "\n",
        "# 예측값 대비 잔차 산점도\n",
        "plt.subplot(2, 2, 3)\n",
        "plt.scatter(y_pred_best, prediction_df['오차'], alpha=0.5)\n",
        "plt.axhline(y=0, color='r', linestyle='--')\n",
        "plt.title('예측값 대비 잔차')\n",
        "plt.xlabel('예측값')\n",
        "plt.ylabel('잔차')\n",
        "plt.grid(True, linestyle='--', alpha=0.5)\n",
        "\n",
        "# 실제값 대비 상대오차 산점도\n",
        "plt.subplot(2, 2, 4)\n",
        "plt.scatter(y_test, prediction_df['상대오차(%)'], alpha=0.5)\n",
        "plt.title('실제값 대비 상대오차(%)')\n",
        "plt.xlabel('실제값')\n",
        "plt.ylabel('상대오차(%)')\n",
        "plt.grid(True, linestyle='--', alpha=0.5)\n",
        "\n",
        "plt.tight_layout()\n",
        "plt.show()"
      ]
    },
    {
      "cell_type": "markdown",
      "id": "77004bd1",
      "metadata": {},
      "source": [
        "## 8. 예측 결과 및 결론"
      ],
      "outputs": [],
      "execution_count": null
    },
    {
      "cell_type": "markdown",
      "id": "0d14c490",
      "metadata": {},
      "source": [
        "### 8.1 요식업 매출 예측 모델 결론"
      ],
      "outputs": [],
      "execution_count": null
    },
    {
      "cell_type": "code",
      "execution_count": null,
      "id": "ac0259ee",
      "metadata": {},
      "outputs": [],
      "source": [
        "# 모델 결론 출력\n",
        "print(\"\\n요식업 매출 예측 모델 결론:\")\n",
        "if best_model_name in ['Random Forest', 'Gradient Boosting']:\n",
        "    top_features_str = \", \".join([f\"{row['feature']}\" for _, row in importance_df.head(5).iterrows()])\n",
        "    print(f\"1. {best_model_name} 모델이 가장 우수한 성능을 보여 최종 모델로 선정되었습니다 (R²={test_r2:.4f})\")\n",
        "    print(f\"2. 가장 중요한 상위 5개 특성은 {top_features_str}입니다\")\n",
        "    print(f\"3. 평균 예측 오차는 {prediction_df['절대오차'].mean():.2f}원이며, 상대 오차는 {prediction_df['상대오차(%)'].mean():.2f}%입니다\")\n",
        "else:\n",
        "    print(f\"1. {best_model_name} 모델이 가장 우수한 성능을 보여 최종 모델로 선정되었습니다 (R²={test_r2:.4f})\")\n",
        "    print(f\"2. 평균 예측 오차는 {prediction_df['절대오차'].mean():.2f}원이며, 상대 오차는 {prediction_df['상대오차(%)'].mean():.2f}%입니다\")\n",
        "print(f\"3. 이 모델은 새로운 상권의 예상 매출을 예측하는 데 활용할 수 있습니다\")"
      ]
    },
    {
      "cell_type": "markdown",
      "id": "67878799",
      "metadata": {},
      "source": [
        "### 8.2 새로운 상권 예측 예시"
      ],
      "outputs": [],
      "execution_count": null
    },
    {
      "cell_type": "code",
      "execution_count": null,
      "id": "028f8c62",
      "metadata": {},
      "outputs": [],
      "source": [
        "# 새로운 상권 예측 예시\n",
        "print(\"\\n새로운 상권 매출 예측 예시:\")\n",
        "# 테스트 데이터의 첫 번째 샘플을 예시로 사용\n",
        "sample_data = X_test.iloc[0:1].copy()\n",
        "sample_prediction = best_model.predict(sample_data)[0]\n",
        "actual_value = y_test.iloc[0]\n",
        "\n",
        "print(f\"샘플 상권 정보:\")\n",
        "for col in categorical_features:\n",
        "    if col in sample_data.columns:\n",
        "        print(f\"- {col}: {sample_data[col].values[0]}\")\n",
        "        \n",
        "for col in numeric_features[:3]:  # 주요 특성 3개만 표시\n",
        "    if col in sample_data.columns:\n",
        "        print(f\"- {col}: {sample_data[col].values[0]:,.2f}\")\n",
        "\n",
        "print(f\"\\n예측 평균 매출: {sample_prediction:,.2f}원\")\n",
        "print(f\"실제 평균 매출: {actual_value:,.2f}원\")\n",
        "print(f\"예측 오차: {abs(actual_value - sample_prediction):,.2f}원 ({abs(actual_value - sample_prediction) / actual_value * 100:.2f}%)\")"
      ]
    },
    {
      "cell_type": "markdown",
      "id": "e2fcf800",
      "metadata": {},
      "source": [
        "### 8.3 모델 및 데이터 저장"
      ],
      "outputs": [],
      "execution_count": null
    },
    {
      "cell_type": "code",
      "execution_count": null,
      "id": "9ba746f2",
      "metadata": {},
      "outputs": [],
      "source": [
        "# 모델 저장\n",
        "joblib.dump(best_model, f'models/{best_model_name.replace(\" \", \"_\").lower()}_model.pkl')\n",
        "print(f\"\\n최종 모델 저장 완료: models/{best_model_name.replace(' ', '_').lower()}_model.pkl\")\n",
        "\n",
        "# 최종 정제된 데이터 저장\n",
        "restaurant_data.to_csv(\"data/서울시_요식업_정제데이터.csv\", index=False, encoding=\"cp949\")\n",
        "print(\"정제된 데이터 저장 완료: data/서울시_요식업_정제데이터.csv\")"
      ]
    }
  ],
  "metadata": {},
  "nbformat": 4,
  "nbformat_minor": 5
}
