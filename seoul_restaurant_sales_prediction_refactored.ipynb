{
  "cells": [
    {
      "cell_type": "code",
      "execution_count": null,
      "id": "973e0ba4",
      "metadata": {},
      "outputs": [],
      "source": [
        "﻿#!/usr/bin/env python\n",
        "# coding: utf-8"
      ]
    },
    {
      "cell_type": "code",
      "execution_count": null,
      "id": "235981ef",
      "metadata": {},
      "outputs": [],
      "source": []
    },
    {
      "cell_type": "markdown",
      "id": "8180f194",
      "metadata": {},
      "source": [
        "# 서울시 요식업 평균 매출 예측 모델\n",
        "서울시 요식업 매출 데이터 분석 및 예측 모델 구축"
      ],
      "outputs": [],
      "execution_count": null
    },
    {
      "cell_type": "markdown",
      "id": "4cabf43b",
      "metadata": {},
      "source": [
        "## 1. 데이터 로딩과 전처리"
      ],
      "outputs": [],
      "execution_count": null
    },
    {
      "cell_type": "markdown",
      "id": "650736b3",
      "metadata": {},
      "source": [
        "### 1.1 라이브러리 임포트"
      ],
      "outputs": [],
      "execution_count": null
    },
    {
      "cell_type": "code",
      "execution_count": null,
      "id": "2149566c",
      "metadata": {},
      "outputs": [],
      "source": [
        "# 데이터 분석 및 시각화 라이브러리\n",
        "import numpy as np\n",
        "import pandas as pd\n",
        "import matplotlib.pyplot as plt\n",
        "import seaborn as sns\n",
        "from pathlib import Path\n",
        "import joblib\n",
        "\n",
        "# 한글 폰트 설정\n",
        "plt.rc('font', family='Malgun Gothic')\n",
        "plt.rcParams['axes.unicode_minus'] = False\n",
        "\n",
        "# 머신러닝 모델링 라이브러리\n",
        "from sklearn.model_selection import train_test_split, GridSearchCV, cross_val_score\n",
        "from sklearn.preprocessing import StandardScaler, OneHotEncoder, PolynomialFeatures\n",
        "from sklearn.metrics import r2_score, mean_absolute_error, root_mean_squared_error, mean_squared_error\n",
        "from sklearn.linear_model import LinearRegression, Ridge, Lasso\n",
        "from sklearn.ensemble import RandomForestRegressor, GradientBoostingRegressor\n",
        "from sklearn.pipeline import Pipeline\n",
        "from sklearn.compose import ColumnTransformer\n",
        "from sklearn.impute import SimpleImputer\n",
        "\n",
        "# 결과 저장 디렉토리 생성\n",
        "Path('plots').mkdir(exist_ok=True)\n",
        "Path('models').mkdir(exist_ok=True)\n",
        "\n",
        "# 랜덤 시드 설정\n",
        "RANDOM_STATE = 42"
      ]
    },
    {
      "cell_type": "markdown",
      "id": "00ad6068",
      "metadata": {},
      "source": [
        "### 1.2 데이터 로드"
      ],
      "outputs": [],
      "execution_count": null
    },
    {
      "cell_type": "code",
      "execution_count": null,
      "id": "1ba9660b",
      "metadata": {},
      "outputs": [],
      "source": [
        "# 데이터셋 로드\n",
        "sales_df = pd.read_csv(\"data/서울시 상권분석서비스(추정매출-상권).csv\", encoding=\"cp949\")\n",
        "work_df = pd.read_csv(\"data/서울시 상권분석서비스(직장인구-상권).csv\", encoding=\"cp949\")\n",
        "street_df = pd.read_csv(\"data/서울시 상권분석서비스(길단위인구-상권).csv\", encoding=\"cp949\")"
      ]
    },
    {
      "cell_type": "markdown",
      "id": "d6641c1d",
      "metadata": {},
      "source": [
        "### 1.3 데이터 기본 정보 확인"
      ],
      "outputs": [],
      "execution_count": null
    },
    {
      "cell_type": "code",
      "execution_count": null,
      "id": "6abe49b4",
      "metadata": {},
      "outputs": [],
      "source": [
        "# 데이터셋 크기 확인\n",
        "print(\"\\n=== 데이터셋 기본 정보 ===\")\n",
        "print(f\"매출 데이터: {sales_df.shape[0]:,}행, {sales_df.shape[1]}열\")\n",
        "print(f\"직장인구 데이터: {work_df.shape[0]:,}행, {work_df.shape[1]}열\")\n",
        "print(f\"유동인구 데이터: {street_df.shape[0]:,}행, {street_df.shape[1]}열\")"
      ]
    },
    {
      "cell_type": "markdown",
      "id": "9d0830fc",
      "metadata": {},
      "source": [
        "### 1.4 매출 데이터 확인"
      ],
      "outputs": [],
      "execution_count": null
    },
    {
      "cell_type": "code",
      "execution_count": null,
      "id": "04bd2d53",
      "metadata": {},
      "outputs": [],
      "source": [
        "# 데이터 샘플 확인\n",
        "print(\"\\n=== 매출 데이터 샘플 ===\")\n",
        "display(sales_df.head(3))\n",
        "\n",
        "# 데이터 정보 확인\n",
        "print(\"\\n=== 매출 데이터 정보 ===\")\n",
        "display(sales_df.info())\n",
        "\n",
        "# 서비스 업종 코드명 확인\n",
        "print(\"\\n=== 서비스 업종 코드명 목록 ===\")\n",
        "print(sales_df[\"서비스_업종_코드_명\"].unique())\n",
        "\n",
        "# 컬럼 목록 확인\n",
        "print(\"\\n=== 매출 데이터 컬럼 목록 ===\")\n",
        "print(sales_df.columns.tolist())"
      ]
    },
    {
      "cell_type": "markdown",
      "id": "c8a583c0",
      "metadata": {},
      "source": [
        "### 1.5 결측치 및 요식업 코드 확인"
      ],
      "outputs": [],
      "execution_count": null
    },
    {
      "cell_type": "code",
      "execution_count": null,
      "id": "a631df90",
      "metadata": {},
      "outputs": [],
      "source": [
        "# 결측치 확인\n",
        "print(\"\\n=== 결측치 확인 ===\")\n",
        "missing_sales = sales_df.isnull().sum()\n",
        "missing_sales = missing_sales[missing_sales > 0]\n",
        "if len(missing_sales) > 0:\n",
        "    print(\"매출 데이터 결측치:\")\n",
        "    print(missing_sales)\n",
        "else:\n",
        "    print(\"매출 데이터에 결측치가 없습니다.\")\n",
        "\n",
        "# 요식업(CS1) 코드 분포 확인\n",
        "print(\"\\n=== 요식업 서비스 코드 분포 ===\")\n",
        "cs1_codes_count = sales_df[\"서비스_업종_코드\"].str.startswith(\"CS1\").value_counts()\n",
        "print(f\"요식업(CS1) 서비스 코드 수: {cs1_codes_count.get(True, 0):,}/{len(sales_df):,}\")"
      ]
    },
    {
      "cell_type": "markdown",
      "id": "65ac36ca",
      "metadata": {},
      "source": [
        "### 1.6 요식업 데이터 필터링"
      ],
      "outputs": [],
      "execution_count": null
    },
    {
      "cell_type": "code",
      "execution_count": null,
      "id": "f385b7a5",
      "metadata": {},
      "outputs": [],
      "source": [
        "# 요식업(CS1) 데이터만 추출하기\n",
        "restaurant_sales = sales_df[sales_df[\"서비스_업종_코드\"].str.startswith(\"CS1\")]\n",
        "print(f\"\\n요식업(CS1) 데이터 추출: {len(restaurant_sales):,}행\")\n",
        "\n",
        "# 추출된 요식업 데이터 정보 확인\n",
        "print(\"\\n=== 요식업 데이터 정보 ===\")\n",
        "display(restaurant_sales.info())\n",
        "\n",
        "# 업종 분포 확인\n",
        "if '서비스_업종_코드_명' in restaurant_sales.columns:\n",
        "    print(\"\\n=== 요식업 유형 분포 ===\")\n",
        "    display(restaurant_sales['서비스_업종_코드_명'].value_counts())"
      ]
    },
    {
      "cell_type": "markdown",
      "id": "b8d56d6a",
      "metadata": {},
      "source": [
        "### 1.7 상권별 평균 매출 계산"
      ],
      "outputs": [],
      "execution_count": null
    },
    {
      "cell_type": "code",
      "execution_count": null,
      "id": "002acd70",
      "metadata": {},
      "outputs": [],
      "source": [
        "# 상권별, 분기별 평균매출 계산\n",
        "grouped_sales = restaurant_sales.groupby([\"상권_코드_명\", \"기준_년분기_코드\"])[[\"당월_매출_금액\"]].mean().reset_index()\n",
        "grouped_sales.rename(columns={\"당월_매출_금액\": \"평균매출\"}, inplace=True)\n",
        "\n",
        "# 상권 구분 코드 추출 (상권별로 고유한 값)\n",
        "commercial_type_codes = sales_df[[\"상권_코드_명\", \"상권_구분_코드_명\"]].drop_duplicates()\n",
        "\n",
        "# 평균매출 데이터에 상권 구분 코드 병합\n",
        "grouped_sales = pd.merge(grouped_sales, commercial_type_codes, on=\"상권_코드_명\", how=\"left\")\n",
        "\n",
        "# 평균매출 통계 확인\n",
        "print(\"\\n=== 평균매출 기본 통계량 ===\")\n",
        "print(grouped_sales[\"평균매출\"].describe())"
      ]
    },
    {
      "cell_type": "markdown",
      "id": "96118555",
      "metadata": {},
      "source": [
        "### 1.8 매출 분포 시각화"
      ],
      "outputs": [],
      "execution_count": null
    },
    {
      "cell_type": "code",
      "execution_count": null,
      "id": "a1f748e9",
      "metadata": {},
      "outputs": [],
      "source": [
        "# 평균매출 분포 시각화\n",
        "plt.figure(figsize=(10, 5))\n",
        "\n",
        "# 원본 매출 분포\n",
        "plt.subplot(1, 2, 1)\n",
        "sns.histplot(grouped_sales[\"평균매출\"], kde=True)\n",
        "plt.title(\"평균매출 분포\")\n",
        "plt.xlabel(\"평균매출\")\n",
        "\n",
        "# 로그 변환 매출 분포 (0값 처리를 위해 log1p 변환 적용)\n",
        "plt.subplot(1, 2, 2)\n",
        "sns.histplot(np.log1p(grouped_sales[\"평균매출\"]), kde=True)\n",
        "plt.title(\"로그 변환 평균매출 분포\")\n",
        "plt.xlabel(\"log(평균매출)\")\n",
        "\n",
        "plt.tight_layout()\n",
        "plt.savefig('plots/sales_distribution.png', dpi=300, bbox_inches='tight')\n",
        "plt.show()"
      ]
    },
    {
      "cell_type": "markdown",
      "id": "ee6a2aad",
      "metadata": {},
      "source": [
        "### 1.9 데이터 병합"
      ],
      "outputs": [],
      "execution_count": null
    },
    {
      "cell_type": "code",
      "execution_count": null,
      "id": "0921d162",
      "metadata": {},
      "outputs": [],
      "source": [
        "# 병합 전 유동인구 데이터 확인\n",
        "print(\"\\n=== 유동인구(길단위) 데이터 샘플 ===\")\n",
        "display(street_df.head(3))\n",
        "\n",
        "# 유동인구 데이터 정보 출력\n",
        "print(\"\\n=== 유동인구 데이터 정보 ===\")\n",
        "display(street_df.info())\n",
        "\n",
        "# 병합 전 직장인구 데이터 확인\n",
        "print(\"\\n=== 직장인구 데이터 샘플 ===\")\n",
        "display(work_df.head(3))\n",
        "\n",
        "# 직장인구 데이터 정보 출력\n",
        "print(\"\\n=== 직장인구 데이터 정보 ===\")\n",
        "display(work_df.info())\n",
        "\n",
        "# 매출, 유동인구, 직장인구 데이터 병합\n",
        "# 먼저 매출데이터(grouped_sales)와 유동인구 데이터(street_df) 병합\n",
        "restaurant_data = pd.merge(grouped_sales, street_df, on=[\"상권_코드_명\", \"기준_년분기_코드\"], how=\"left\")\n",
        "\n",
        "# 그 다음 직장인구 데이터(work_df) 병합\n",
        "restaurant_data = pd.merge(restaurant_data, work_df, on=[\"상권_코드_명\", \"기준_년분기_코드\"], how=\"left\")\n",
        "\n",
        "# 병합 결과 확인\n",
        "print(\"\\n=== 병합 결과 확인 ===\")\n",
        "print(f\"원본 평균매출 데이터: {grouped_sales.shape[0]:,}행, {grouped_sales.shape[1]:,}열\")\n",
        "print(f\"병합 후 데이터: {restaurant_data.shape[0]:,}행, {restaurant_data.shape[1]:,}열\")\n",
        "\n",
        "# 결측치 확인\n",
        "missing_after_merge = restaurant_data.isnull().sum().sum()\n",
        "missing_percent = (missing_after_merge / (restaurant_data.shape[0] * restaurant_data.shape[1])) * 100\n",
        "print(f\"병합 후 총 결측치: {missing_after_merge:,}개 ({missing_percent:.2f}%)\")"
      ]
    },
    {
      "cell_type": "markdown",
      "id": "ecb65055",
      "metadata": {},
      "source": [
        "### 1.10 병합 결과 확인"
      ],
      "outputs": [],
      "execution_count": null
    },
    {
      "cell_type": "code",
      "execution_count": null,
      "id": "ba8ab4de",
      "metadata": {},
      "outputs": [],
      "source": [
        "# 병합 결과 샘플 출력\n",
        "print(\"\\n=== 병합 결과 샘플 ===\")\n",
        "sample_cols = ['상권_코드_명', '기준_년분기_코드', '상권_구분_코드_명', '평균매출']\n",
        "# 유동인구, 직장인구 컬럼이 있으면 출력 컬럼에 추가\n",
        "if '총_유동인구_수' in restaurant_data.columns:\n",
        "    sample_cols.append('총_유동인구_수')\n",
        "if '총_직장_인구_수' in restaurant_data.columns:\n",
        "    sample_cols.append('총_직장_인구_수')\n",
        "display(restaurant_data[sample_cols].head(3))\n",
        "\n",
        "# 결측치가 있는 행 확인\n",
        "missing_rows = restaurant_data[restaurant_data.isnull().any(axis=1)]\n",
        "print(\"\\n=== 결측치가 있는 행 (앞부분 2개) ===\")\n",
        "display(missing_rows.head(2))\n",
        "\n",
        "print(\"\\n=== 결측치가 있는 행 (뒷부분 2개) ===\")\n",
        "display(missing_rows.tail(2))"
      ]
    },
    {
      "cell_type": "markdown",
      "id": "54319c6d",
      "metadata": {},
      "source": [
        "### 1.11 결측치 처리"
      ],
      "outputs": [],
      "execution_count": null
    },
    {
      "cell_type": "code",
      "execution_count": null,
      "id": "1571ab58",
      "metadata": {},
      "outputs": [],
      "source": [
        "# 결측치 처리\n",
        "# 수치형 컬럼은 중앙값으로 대체 (이상치에 덜 민감)\n",
        "numeric_cols = restaurant_data.select_dtypes(include=['number']).columns\n",
        "for col in numeric_cols:\n",
        "    if restaurant_data[col].isnull().any():\n",
        "        restaurant_data[col] = restaurant_data[col].fillna(restaurant_data[col].median())\n",
        "\n",
        "# 문자열 컬럼은 최빈값으로 대체\n",
        "object_cols = restaurant_data.select_dtypes(include=['object']).columns\n",
        "for col in object_cols:\n",
        "    if restaurant_data[col].isnull().any():\n",
        "        # 최빈값이 없는 경우 '알수없음'으로 대체\n",
        "        mode_value = restaurant_data[col].mode().iloc[0] if not restaurant_data[col].mode().empty else \"알수없음\"\n",
        "        restaurant_data[col] = restaurant_data[col].fillna(mode_value)\n",
        "\n",
        "# 결측치 처리 후 확인\n",
        "missing_rows = restaurant_data[restaurant_data.isnull().any(axis=1)]\n",
        "print(\"\\n=== 결측치 처리 후 확인 ===\")\n",
        "print(f\"결측치가 있는 행 수: {len(missing_rows)}\")\n",
        "\n",
        "# 데이터 정보 확인\n",
        "print(\"\\n=== 결측치 처리 후 데이터 정보 ===\")\n",
        "display(restaurant_data.info())\n",
        "\n",
        "# 컬럼 목록 확인\n",
        "print(\"\\n=== 결측치 처리 후 컬럼 목록 ===\")\n",
        "print(restaurant_data.columns.tolist())"
      ]
    },
    {
      "cell_type": "markdown",
      "id": "24f9cdf2",
      "metadata": {},
      "source": [
        "## 2. 특성 엔지니어링"
      ],
      "outputs": [],
      "execution_count": null
    },
    {
      "cell_type": "markdown",
      "id": "8059d810",
      "metadata": {},
      "source": [
        "### 2.1 특성 후보 정의"
      ],
      "outputs": [],
      "execution_count": null
    },
    {
      "cell_type": "code",
      "execution_count": null,
      "id": "b776a4bd",
      "metadata": {},
      "outputs": [],
      "source": [
        "# 모델링에 사용할 수 있는 모든 특성 후보 정의\n",
        "# 1) 원본 수치형 특성\n",
        "numeric_feature_candidates = [\n",
        "    # 유동인구 관련 특성\n",
        "    \"총_유동인구_수\", \"남성_유동인구_수\", \"여성_유동인구_수\", \n",
        "    \"연령대_10_유동인구_수\", \"연령대_20_유동인구_수\", \"연령대_30_유동인구_수\", \n",
        "    \"연령대_40_유동인구_수\", \"연령대_50_유동인구_수\", \"연령대_60_이상_유동인구_수\",\n",
        "    \n",
        "    # 직장인구 관련 특성\n",
        "    \"총_직장_인구_수\", \"남성_직장_인구_수\", \"여성_직장_인구_수\",\n",
        "    \"연령대_10_직장_인구_수\", \"연령대_20_직장_인구_수\", \"연령대_30_직장_인구_수\", \n",
        "    \"연령대_40_직장_인구_수\", \"연령대_50_직장_인구_수\", \"연령대_60_이상_직장_인구_수\"\n",
        "]\n",
        "\n",
        "# 2) 범주형 특성 후보\n",
        "categorical_feature_candidates = [\"상권_구분_코드_명\", \"기준_년분기_코드\"]\n",
        "\n",
        "# 데이터프레임에서 필요한 열만 선택하여 특성 엔지니어링용 데이터셋 생성\n",
        "feature_engineering_df = restaurant_data.copy()"
      ]
    },
    {
      "cell_type": "markdown",
      "id": "990f525e",
      "metadata": {},
      "source": [
        "### 2.2 연령대별 인구 통합 특성 생성"
      ],
      "outputs": [],
      "execution_count": null
    },
    {
      "cell_type": "code",
      "execution_count": null,
      "id": "4f53a009",
      "metadata": {},
      "outputs": [],
      "source": [
        "# 연령대 그룹핑 (초년(10-20대)/중년(30-40대)/노년(50대 이상))\n",
        "# 유동인구 연령대별 통합\n",
        "feature_engineering_df[\"초년_유동인구_수\"] = feature_engineering_df[\"연령대_10_유동인구_수\"] + feature_engineering_df[\"연령대_20_유동인구_수\"]\n",
        "feature_engineering_df[\"중년_유동인구_수\"] = feature_engineering_df[\"연령대_30_유동인구_수\"] + feature_engineering_df[\"연령대_40_유동인구_수\"]\n",
        "feature_engineering_df[\"노년_유동인구_수\"] = feature_engineering_df[\"연령대_50_유동인구_수\"] + feature_engineering_df[\"연령대_60_이상_유동인구_수\"]\n",
        "\n",
        "# 직장인구 연령대별 통합\n",
        "feature_engineering_df[\"초년_직장_인구_수\"] = feature_engineering_df[\"연령대_10_직장_인구_수\"] + feature_engineering_df[\"연령대_20_직장_인구_수\"]\n",
        "feature_engineering_df[\"중년_직장_인구_수\"] = feature_engineering_df[\"연령대_30_직장_인구_수\"] + feature_engineering_df[\"연령대_40_직장_인구_수\"]\n",
        "feature_engineering_df[\"노년_직장_인구_수\"] = feature_engineering_df[\"연령대_50_직장_인구_수\"] + feature_engineering_df[\"연령대_60_이상_직장_인구_수\"]\n",
        "\n",
        "# 생성된 연령대 특성을 후보 목록에 추가\n",
        "age_features = [\"초년_유동인구_수\", \"중년_유동인구_수\", \"노년_유동인구_수\", \n",
        "               \"초년_직장_인구_수\", \"중년_직장_인구_수\", \"노년_직장_인구_수\"]\n",
        "numeric_feature_candidates.extend(age_features)"
      ]
    },
    {
      "cell_type": "markdown",
      "id": "11a4e63e",
      "metadata": {},
      "source": [
        "### 2.3 성별 인구 비율 특성 생성"
      ],
      "outputs": [],
      "execution_count": null
    },
    {
      "cell_type": "code",
      "execution_count": null,
      "id": "6e1a259e",
      "metadata": {},
      "outputs": [],
      "source": [
        "# 성별 인구 비율 계산 (총 인구 대비 각 성별 비율)\n",
        "feature_engineering_df['남성_유동인구_비율'] = feature_engineering_df['남성_유동인구_수'] / feature_engineering_df['총_유동인구_수']\n",
        "feature_engineering_df['여성_유동인구_비율'] = feature_engineering_df['여성_유동인구_수'] / feature_engineering_df['총_유동인구_수']\n",
        "feature_engineering_df['남성_직장인구_비율'] = feature_engineering_df['남성_직장_인구_수'] / feature_engineering_df['총_직장_인구_수']\n",
        "feature_engineering_df['여성_직장인구_비율'] = feature_engineering_df['여성_직장_인구_수'] / feature_engineering_df['총_직장_인구_수']\n",
        "\n",
        "# 0으로 나누는 경우(분모가 0인 경우) 처리\n",
        "for col in ['남성_유동인구_비율', '여성_유동인구_비율', '남성_직장인구_비율', '여성_직장인구_비율']:\n",
        "    feature_engineering_df[col] = feature_engineering_df[col].fillna(0)\n",
        "\n",
        "# 생성된 성별 비율 특성을 후보 목록에 추가\n",
        "gender_ratio_features = ['남성_유동인구_비율', '여성_유동인구_비율', '남성_직장인구_비율', '여성_직장인구_비율']\n",
        "numeric_feature_candidates.extend(gender_ratio_features)"
      ]
    },
    {
      "cell_type": "markdown",
      "id": "0b1f340a",
      "metadata": {},
      "source": [
        "### 2.4 복합 특성 생성"
      ],
      "outputs": [],
      "execution_count": null
    },
    {
      "cell_type": "code",
      "execution_count": null,
      "id": "872810e0",
      "metadata": {},
      "outputs": [],
      "source": [
        "# 복합 특성 생성\n",
        "# 1. 총 인구 수 (유동+직장) 계산\n",
        "feature_engineering_df['총_인구_수'] = feature_engineering_df['총_유동인구_수'] + feature_engineering_df['총_직장_인구_수']\n",
        "\n",
        "# 2. 젊은층(초년) 비율 계산\n",
        "feature_engineering_df['초년_인구_비율'] = (feature_engineering_df['초년_유동인구_수'] + feature_engineering_df['초년_직장_인구_수']) / feature_engineering_df['총_인구_수']\n",
        "# 무한값 처리\n",
        "feature_engineering_df['초년_인구_비율'] = feature_engineering_df['초년_인구_비율'].replace([np.inf, -np.inf], np.nan).fillna(0)\n",
        "\n",
        "# 3. 여성 비율 계산\n",
        "feature_engineering_df['여성_인구_비율'] = (feature_engineering_df['여성_유동인구_수'] + feature_engineering_df['여성_직장_인구_수']) / feature_engineering_df['총_인구_수']\n",
        "# 무한값 처리\n",
        "feature_engineering_df['여성_인구_비율'] = feature_engineering_df['여성_인구_비율'].replace([np.inf, -np.inf], np.nan).fillna(0)\n",
        "\n",
        "# 4. 유동인구/직장인구 비율 계산\n",
        "feature_engineering_df['유동인구_직장인구_비율'] = feature_engineering_df['총_유동인구_수'] / feature_engineering_df['총_직장_인구_수']\n",
        "# 무한값 처리\n",
        "feature_engineering_df['유동인구_직장인구_비율'] = feature_engineering_df['유동인구_직장인구_비율'].replace([np.inf, -np.inf], np.nan).fillna(0)\n",
        "\n",
        "# 생성된 복합 특성을 후보 목록에 추가\n",
        "complex_features = ['총_인구_수', '초년_인구_비율', '여성_인구_비율', '유동인구_직장인구_비율']\n",
        "numeric_feature_candidates.extend(complex_features)"
      ]
    },
    {
      "cell_type": "markdown",
      "id": "4b414d8b",
      "metadata": {},
      "source": [
        "### 2.5 데이터 분포 및 이상치 탐지"
      ],
      "outputs": [],
      "execution_count": null
    },
    {
      "cell_type": "code",
      "execution_count": null,
      "id": "f9700917",
      "metadata": {},
      "outputs": [],
      "source": [
        "# 주요 수치형 특성의 분포와 이상치 확인\n",
        "key_features = ['총_유동인구_수', '총_직장_인구_수', '총_인구_수', '평균매출']\n",
        "\n",
        "# 1. 박스플롯으로 이상치 확인\n",
        "plt.figure(figsize=(15, 12))\n",
        "plt.subplot(2, 2, 1)\n",
        "sns.boxplot(data=feature_engineering_df[key_features])\n",
        "plt.title('주요 특성 박스플롯 - 이상치 확인')\n",
        "plt.xticks(rotation=45)\n",
        "plt.ylabel('값')\n",
        "\n",
        "# 2. 평균매출 분포 - 히스토그램\n",
        "plt.subplot(2, 2, 2)\n",
        "sns.histplot(feature_engineering_df['평균매출'], kde=True, bins=30)\n",
        "plt.title('평균매출 분포')\n",
        "plt.xlabel('평균매출')\n",
        "plt.ylabel('빈도')\n",
        "\n",
        "# 3. 상권 구분별 매출 분포 - 박스플롯\n",
        "plt.subplot(2, 2, 3)\n",
        "sns.boxplot(x='상권_구분_코드_명', y='평균매출', data=feature_engineering_df)\n",
        "plt.title('상권 구분별 평균매출 분포')\n",
        "plt.xlabel('상권 구분')\n",
        "plt.ylabel('평균매출')\n",
        "plt.xticks(rotation=90)\n",
        "\n",
        "# 4. 연령대별 유동인구 분포\n",
        "plt.subplot(2, 2, 4)\n",
        "age_cols = [\"초년_유동인구_수\", \"중년_유동인구_수\", \"노년_유동인구_수\"]\n",
        "sns.boxplot(data=feature_engineering_df[age_cols])\n",
        "plt.title(\"연령대별 유동인구 분포\")\n",
        "plt.ylabel(\"인구 수\")\n",
        "plt.xticks(rotation=30)\n",
        "\n",
        "plt.tight_layout()\n",
        "plt.savefig('plots/data_distribution_outliers.png', dpi=300, bbox_inches='tight')\n",
        "plt.show()"
      ]
    },
    {
      "cell_type": "markdown",
      "id": "854b4eed",
      "metadata": {},
      "source": [
        "### 2.6 로그 변환 효과 분석"
      ],
      "outputs": [],
      "execution_count": null
    },
    {
      "cell_type": "code",
      "execution_count": null,
      "id": "21f9d568",
      "metadata": {},
      "outputs": [],
      "source": [
        "# 주요 특성들에 대한 로그 변환 전/후 비교 시각화\n",
        "plt.figure(figsize=(15, 12))\n",
        "\n",
        "# 변환 대상 특성 선택\n",
        "transformation_features = ['총_유동인구_수', '총_직장_인구_수', '평균매출']\n",
        "\n",
        "for i, feature in enumerate(transformation_features):\n",
        "    # 1. 원본 데이터 분포\n",
        "    plt.subplot(len(transformation_features), 3, i*3+1)\n",
        "    sns.histplot(feature_engineering_df[feature], kde=True, color='blue')\n",
        "    plt.title(f'{feature} - 원본 분포')\n",
        "    \n",
        "    # 2. 로그 변환 분포\n",
        "    plt.subplot(len(transformation_features), 3, i*3+2)\n",
        "    log_data = np.log1p(feature_engineering_df[feature])\n",
        "    sns.histplot(log_data, kde=True, color='green')\n",
        "    plt.title(f'{feature} - 로그 변환 분포')\n",
        "    \n",
        "    # 3. 변환 전후 타겟 상관관계 비교\n",
        "    plt.subplot(len(transformation_features), 3, i*3+3)\n",
        "    \n",
        "    # 원본 데이터 상관계수 계산\n",
        "    orig_corr = feature_engineering_df[feature].corr(feature_engineering_df['평균매출'])\n",
        "    # 로그 변환 데이터 상관계수 계산\n",
        "    log_corr = np.log1p(feature_engineering_df[feature]).corr(np.log1p(feature_engineering_df['평균매출']))\n",
        "    \n",
        "    # 로그-로그 스케일 산점도 (일반적으로 더 선형적 관계를 보임)\n",
        "    sns.scatterplot(x=np.log1p(feature_engineering_df[feature]), \n",
        "                   y=np.log1p(feature_engineering_df['평균매출']), \n",
        "                   alpha=0.5)\n",
        "    plt.title(f'Log({feature}) vs Log(평균매출)\\n원본 r={orig_corr:.3f}, 로그 r={log_corr:.3f}')\n",
        "    plt.xlabel(f'log({feature})')\n",
        "    plt.ylabel('log(평균매출)')\n",
        "\n",
        "plt.tight_layout()\n",
        "plt.savefig('plots/log_transformation_effect.png', dpi=300, bbox_inches='tight')\n",
        "plt.show()"
      ]
    },
    {
      "cell_type": "markdown",
      "id": "000e7c3a",
      "metadata": {},
      "source": [
        "### 2.7 주요 특성과 타겟 변수의 관계"
      ],
      "outputs": [],
      "execution_count": null
    },
    {
      "cell_type": "code",
      "execution_count": null,
      "id": "2f80ec94",
      "metadata": {},
      "outputs": [],
      "source": [
        "# 주요 특성과 타겟 변수의 관계 시각화 (로그 변환 적용)\n",
        "plt.figure(figsize=(15, 12))\n",
        "\n",
        "# 상관관계가 높을 것으로 예상되는 주요 특성들과 타겟 변수 '평균매출'의 관계\n",
        "key_relationships = [\n",
        "    ('총_유동인구_수', '평균매출'), \n",
        "    ('총_직장_인구_수', '평균매출'),\n",
        "    ('총_인구_수', '평균매출'),\n",
        "    ('초년_인구_비율', '평균매출')\n",
        "]\n",
        "\n",
        "for i, (feature, target) in enumerate(key_relationships):\n",
        "    plt.subplot(2, 2, i+1)\n",
        "    \n",
        "    # 로그 변환 적용 (인구 비율 제외)\n",
        "    if '비율' not in feature:\n",
        "        x_data = np.log1p(feature_engineering_df[feature])\n",
        "        x_label = f'log({feature})'\n",
        "        y_data = np.log1p(feature_engineering_df[target])\n",
        "        y_label = f'log({target})'\n",
        "    else:\n",
        "        x_data = feature_engineering_df[feature]\n",
        "        x_label = feature\n",
        "        y_data = np.log1p(feature_engineering_df[target])\n",
        "        y_label = f'log({target})'\n",
        "    \n",
        "    # 산점도와 회귀선\n",
        "    sns.scatterplot(x=x_data, y=y_data, alpha=0.4)\n",
        "    sns.regplot(x=x_data, y=y_data, scatter=False, line_kws={\"color\":\"red\"})\n",
        "    \n",
        "    # 상관계수 계산 및 표시\n",
        "    corr = x_data.corr(y_data)\n",
        "    plt.title(f'{feature} vs {target} (r={corr:.3f})')\n",
        "    plt.xlabel(x_label)\n",
        "    plt.ylabel(y_label)\n",
        "\n",
        "plt.tight_layout()\n",
        "plt.savefig('plots/key_feature_relationships.png', dpi=300, bbox_inches='tight')\n",
        "plt.show()\n",
        "\n",
        "# 로그 변환된 특성 생성\n",
        "for feature in transformation_features:\n",
        "    if feature in numeric_feature_candidates and feature != '평균매출':  # 타겟 변수는 제외\n",
        "        feature_engineering_df[f'log_{feature}'] = np.log1p(feature_engineering_df[feature])\n",
        "        numeric_feature_candidates.append(f'log_{feature}')"
      ]
    },
    {
      "cell_type": "markdown",
      "id": "aa43ee1c",
      "metadata": {},
      "source": [
        "## 3. 특성 간 상관관계 분석"
      ],
      "outputs": [],
      "execution_count": null
    },
    {
      "cell_type": "markdown",
      "id": "6e1e4217",
      "metadata": {},
      "source": [
        "### 3.1 상관계수 계산 및 분석"
      ],
      "outputs": [],
      "execution_count": null
    },
    {
      "cell_type": "code",
      "execution_count": null,
      "id": "b7eba6f3",
      "metadata": {},
      "outputs": [],
      "source": [
        "# 상관계수 계산을 위한 데이터프레임 준비\n",
        "# 수치형 특성과 타겟 변수만 선택\n",
        "correlation_data = feature_engineering_df[numeric_feature_candidates + ['평균매출']]\n",
        "\n",
        "# 상관계수 계산 - 모든 변수 쌍 간의 피어슨 상관계수\n",
        "correlation_matrix = correlation_data.corr()\n",
        "# 타겟 변수('평균매출')와의 상관관계 추출 후 절대값 기준 내림차순 정렬\n",
        "correlation_with_target = correlation_matrix['평균매출'].abs().sort_values(ascending=False)"
      ]
    },
    {
      "cell_type": "markdown",
      "id": "c59fd247",
      "metadata": {},
      "source": [
        "### 3.2 매출과의 상관관계 출력"
      ],
      "outputs": [],
      "execution_count": null
    },
    {
      "cell_type": "code",
      "execution_count": null,
      "id": "9230dfd3",
      "metadata": {},
      "outputs": [],
      "source": [
        "# 평균 매출과 상관관계가 높은 특성 확인 (절대값 기준)\n",
        "print(\"\\n평균 매출과 상관관계가 있는 특성 (절대값 기준 내림차순):\")\n",
        "display(correlation_with_target)"
      ]
    },
    {
      "cell_type": "markdown",
      "id": "3c743bb2",
      "metadata": {},
      "source": [
        "### 3.3 상관계수 히트맵"
      ],
      "outputs": [],
      "execution_count": null
    },
    {
      "cell_type": "code",
      "execution_count": null,
      "id": "711c54ab",
      "metadata": {},
      "outputs": [],
      "source": [
        "# 상관계수 히트맵 - 상위 15개 특성 간의 상관관계 시각화\n",
        "top_features = correlation_with_target.index[:15]  # 상위 15개 특성 선택\n",
        "\n",
        "plt.figure(figsize=(15, 12))\n",
        "# 히트맵 그리기 (상위 15개 특성만)\n",
        "sns.heatmap(correlation_matrix.loc[top_features, top_features], \n",
        "            annot=True,          # 값 표시\n",
        "            cmap='coolwarm',     # 색상맵 (양수: 빨강, 음수: 파랑)\n",
        "            fmt='.2f',           # 소수점 2자리까지 표시\n",
        "            linewidths=0.5)      # 경계선 두께\n",
        "plt.title('특성 간 상관계수 히트맵 (상위 15개)')\n",
        "plt.tight_layout()\n",
        "plt.savefig('plots/correlation_heatmap_top15.png', dpi=300, bbox_inches='tight')\n",
        "plt.show()\n",
        "\n",
        "# 상관계수 히트맵 - 전체 특성 간의 상관관계 시각화\n",
        "plt.figure(figsize=(18, 15))\n",
        "# 히트맵 그리기 (전체 특성)\n",
        "sns.heatmap(correlation_matrix, \n",
        "            annot=True,          # 값 표시\n",
        "            cmap='coolwarm',     # 색상맵 (양수: 빨강, 음수: 파랑)\n",
        "            fmt='.2f',           # 소수점 2자리까지 표시\n",
        "            linewidths=0.5)      # 경계선 두께\n",
        "plt.title('특성 간 상관계수 히트맵 (전체)')\n",
        "plt.tight_layout()\n",
        "plt.savefig('plots/correlation_heatmap_all.png', dpi=300, bbox_inches='tight')\n",
        "plt.show()"
      ]
    },
    {
      "cell_type": "markdown",
      "id": "a321bdd1",
      "metadata": {},
      "source": [
        "### 3.4 다중공선성 확인"
      ],
      "outputs": [],
      "execution_count": null
    },
    {
      "cell_type": "code",
      "execution_count": null,
      "id": "6455ec6d",
      "metadata": {},
      "outputs": [],
      "source": [
        "# 다중공선성이 있는 특성 쌍 확인 (상관계수 0.8 이상)\n",
        "high_correlation_pairs = []\n",
        "for i in range(len(correlation_matrix.columns)):\n",
        "    for j in range(i+1, len(correlation_matrix.columns)):\n",
        "        if abs(correlation_matrix.iloc[i, j]) > 0.8:  # 0.8은 임계값\n",
        "            col_i = correlation_matrix.columns[i]\n",
        "            col_j = correlation_matrix.columns[j]\n",
        "            corr_value = correlation_matrix.iloc[i, j]\n",
        "            high_correlation_pairs.append((col_i, col_j, corr_value))\n",
        "\n",
        "if high_correlation_pairs:\n",
        "    print(\"\\n높은 상관관계를 가진 특성 쌍 (상관계수 > 0.8):\")\n",
        "    for pair in high_correlation_pairs:\n",
        "        print(f\"- {pair[0]} - {pair[1]}: {pair[2]:.4f}\")\n",
        "else:\n",
        "    print(\"\\n상관계수 0.8 이상의 높은 상관관계를 가진 특성 쌍이 없습니다.\")"
      ]
    },
    {
      "cell_type": "markdown",
      "id": "9c5265af",
      "metadata": {},
      "source": [
        "## 4. 최종 특성 선택"
      ],
      "outputs": [],
      "execution_count": null
    },
    {
      "cell_type": "markdown",
      "id": "33cd1599",
      "metadata": {},
      "source": [
        "### 4.1 특성 선택 기준 및 최종 특성 정의"
      ],
      "outputs": [],
      "execution_count": null
    },
    {
      "cell_type": "code",
      "execution_count": null,
      "id": "580c15d9",
      "metadata": {},
      "outputs": [],
      "source": [
        "# 상관관계 분석 결과를 바탕으로 최종 특성 선택\n",
        "# 1. 타겟 변수와의 상관관계가 높은 특성 선택\n",
        "# 2. 다중공선성을 고려하여 최종 특성 목록 조정\n",
        "\n",
        "# 타겟 변수와의 상관관계가 높은 상위 특성들 중에서 선택\n",
        "top_correlated_features = correlation_with_target.iloc[1:11].index.tolist()  # 평균매출 제외하고 상위 10개 선택\n",
        "\n",
        "# 다중공선성을 고려하여 최종 특성 목록 조정\n",
        "# 예: 총_유동인구_수와 남성_유동인구_수 중 더 상관관계가 높은 것 선택\n",
        "# 이 과정은 상관관계 결과에 따라 수동으로 조정 필요\n",
        "\n",
        "# 최종 선택된 수치형 특성\n",
        "numeric_features = [\n",
        "    \"총_유동인구_수\", \"남성_유동인구_수\", \"여성_유동인구_수\", \n",
        "    \"총_직장_인구_수\", \"남성_직장_인구_수\", \"여성_직장_인구_수\", \n",
        "    \"초년_유동인구_수\", \"중년_유동인구_수\", \"노년_유동인구_수\", \n",
        "    \"초년_직장_인구_수\", \"중년_직장_인구_수\", \"노년_직장_인구_수\"\n",
        "]\n",
        "\n",
        "# 범주형 특성 - 원핫인코딩 될 변수들\n",
        "categorical_features = [\"상권_구분_코드_명\", \"기준_년분기_코드\"]\n",
        "\n",
        "# 최종 데이터셋 형태 확인\n",
        "print(f\"\\n최종 데이터셋 형태: {feature_engineering_df.shape[0]:,}행 x {feature_engineering_df.shape[1]:,}열\")\n",
        "print(\"\\n선택된 특성 목록:\")\n",
        "print(f\"- 수치형 특성({len(numeric_features)}개): {', '.join(numeric_features)}\")\n",
        "print(f\"- 범주형 특성({len(categorical_features)}개): {', '.join(categorical_features)}\")\n",
        "print(f\"- 타겟 변수: 평균매출\")\n",
        "\n",
        "# 필요한 열만 선택하여 최종 데이터셋 생성 \n",
        "restaurant_data = feature_engineering_df[numeric_features + categorical_features + [\"평균매출\"]]"
      ]
    },
    {
      "cell_type": "markdown",
      "id": "33894721",
      "metadata": {},
      "source": [
        "## 5. 전처리 파이프라인 구성"
      ],
      "outputs": [],
      "execution_count": null
    },
    {
      "cell_type": "markdown",
      "id": "c8dec174",
      "metadata": {},
      "source": [
        "### 5.1 전처리 파이프라인 정의"
      ],
      "outputs": [],
      "execution_count": null
    },
    {
      "cell_type": "code",
      "execution_count": null,
      "id": "b0e7cd18",
      "metadata": {},
      "outputs": [],
      "source": [
        "# 수치형/범주형 특성 전처리 파이프라인 구성\n",
        "preprocessor = ColumnTransformer(\n",
        "    transformers=[\n",
        "        # 수치형 특성 처리 파이프라인: 결측치 대체 후 표준화\n",
        "        ('num', Pipeline([\n",
        "            ('imputer', SimpleImputer(strategy='median')),  # 결측치는 중앙값으로 대체\n",
        "            ('scaler', StandardScaler())                   # 평균 0, 표준편차 1로 스케일링\n",
        "        ]), numeric_features),\n",
        "        \n",
        "        # 범주형 특성 처리 파이프라인: 결측치 대체 후 원핫인코딩\n",
        "        ('cat', Pipeline([\n",
        "            ('imputer', SimpleImputer(strategy='most_frequent')),  # 결측치는 최빈값으로 대체\n",
        "            ('onehot', OneHotEncoder(sparse_output=False, handle_unknown='ignore'))  # 원핫인코딩\n",
        "        ]), categorical_features)\n",
        "    ])"
      ]
    },
    {
      "cell_type": "markdown",
      "id": "4a1fe133",
      "metadata": {},
      "source": [
        "### 5.2 데이터 준비 및 변환"
      ],
      "outputs": [],
      "execution_count": null
    },
    {
      "cell_type": "code",
      "execution_count": null,
      "id": "7b9e42f5",
      "metadata": {},
      "outputs": [],
      "source": [
        "# 특성과 타겟 분리\n",
        "X = restaurant_data[numeric_features + categorical_features]\n",
        "y = restaurant_data[\"평균매출\"]\n",
        "\n",
        "# 전처리 파이프라인으로 데이터 변환\n",
        "preprocessor.fit(X)\n",
        "X_transformed = preprocessor.transform(X)\n",
        "\n",
        "# 변환된 데이터 차원 확인\n",
        "print(f\"\\n변환된 특성 행렬 형태: {X_transformed.shape[0]:,}행 x {X_transformed.shape[1]:,}열\")"
      ]
    },
    {
      "cell_type": "markdown",
      "id": "dc540e4b",
      "metadata": {},
      "source": [
        "### 5.3 변환된 특성 이름 추출"
      ],
      "outputs": [],
      "execution_count": null
    },
    {
      "cell_type": "code",
      "execution_count": null,
      "id": "78c79e47",
      "metadata": {},
      "outputs": [],
      "source": [
        "# 변환된 특성 이름 추출\n",
        "transformed_feature_names = numeric_features.copy()  # 수치형 특성 이름은 그대로 유지\n",
        "\n",
        "# 범주형 특성의 원핫인코딩 이름 추가\n",
        "cat_encoder = preprocessor.named_transformers_['cat'].named_steps['onehot']\n",
        "categorical_feature_names = cat_encoder.get_feature_names_out(categorical_features)\n",
        "transformed_feature_names.extend(categorical_feature_names)\n",
        "\n",
        "# 변환된 데이터를 데이터프레임으로 변환\n",
        "transformed_df = pd.DataFrame(X_transformed, columns=transformed_feature_names)\n",
        "transformed_df[\"평균매출\"] = y  # 타겟 변수 추가\n",
        "\n",
        "# 변환된 데이터 확인\n",
        "print(f\"\\n변환된 데이터프레임 형태: {transformed_df.shape[0]:,}행 x {transformed_df.shape[1]:,}열\")\n",
        "print(f\"원핫인코딩 후 생성된 범주형 특성: {len(categorical_feature_names)}개\")\n",
        "print(\"\\n변환된 데이터 샘플:\")\n",
        "print(transformed_df.head(3))"
      ]
    },
    {
      "cell_type": "markdown",
      "id": "6b208eb0",
      "metadata": {},
      "source": [
        "## 6. 특성 간 상관관계 분석"
      ],
      "outputs": [],
      "execution_count": null
    },
    {
      "cell_type": "markdown",
      "id": "a748df80",
      "metadata": {},
      "source": [
        "### 6.1 상관계수 계산 및 분석"
      ],
      "outputs": [],
      "execution_count": null
    },
    {
      "cell_type": "code",
      "execution_count": null,
      "id": "68471474",
      "metadata": {},
      "outputs": [],
      "source": [
        "# 상관계수 계산 - 모든 변수 쌍 간의 피어슨 상관계수\n",
        "correlation_matrix = transformed_df.corr()\n",
        "# 타겟 변수('평균매출')와의 상관관계 추출 후 절대값 기준 내림차순 정렬\n",
        "correlation_with_target = correlation_matrix['평균매출'].abs().sort_values(ascending=False)"
      ]
    },
    {
      "cell_type": "markdown",
      "id": "616fba51",
      "metadata": {},
      "source": [
        "### 6.2 매출과의 상관관계 출력"
      ],
      "outputs": [],
      "execution_count": null
    },
    {
      "cell_type": "code",
      "execution_count": null,
      "id": "8c137bca",
      "metadata": {},
      "outputs": [],
      "source": [
        "# 평균 매출과 상관관계가 높은 특성 확인 (절대값 기준)\n",
        "print(\"\\n평균 매출과 상관관계가 있는 특성 (절대값 기준 내림차순):\")\n",
        "display(correlation_with_target)"
      ]
    },
    {
      "cell_type": "markdown",
      "id": "adc745d2",
      "metadata": {},
      "source": [
        "### 6.3 상관계수 히트맵"
      ],
      "outputs": [],
      "execution_count": null
    },
    {
      "cell_type": "code",
      "execution_count": null,
      "id": "56b765fe",
      "metadata": {},
      "outputs": [],
      "source": [
        "# 상관계수 히트맵 - 상위 15개 특성 간의 상관관계 시각화\n",
        "top_features = correlation_with_target.index[:15]  # 상위 15개 특성 선택\n",
        "\n",
        "plt.figure(figsize=(15, 12))\n",
        "# 히트맵 그리기 (상위 15개 특성만)\n",
        "sns.heatmap(correlation_matrix.loc[top_features, top_features], \n",
        "            annot=True,          # 값 표시\n",
        "            cmap='coolwarm',     # 색상맵 (양수: 빨강, 음수: 파랑)\n",
        "            fmt='.2f',           # 소수점 2자리까지 표시\n",
        "            linewidths=0.5)      # 경계선 두께\n",
        "plt.title('특성 간 상관계수 히트맵 (상위 15개)')\n",
        "plt.tight_layout()\n",
        "plt.savefig('plots/correlation_heatmap.png', dpi=300, bbox_inches='tight')\n",
        "plt.show()"
      ]
    },
    {
      "cell_type": "markdown",
      "id": "235774fe",
      "metadata": {},
      "source": [
        "### 6.4 다중공선성 확인"
      ],
      "outputs": [],
      "execution_count": null
    },
    {
      "cell_type": "code",
      "execution_count": null,
      "id": "43ebec4e",
      "metadata": {},
      "outputs": [],
      "source": [
        "# 다중공선성이 있는 특성 쌍 확인 (상관계수 0.8 이상)\n",
        "high_correlation_pairs = []\n",
        "for i in range(len(correlation_matrix.columns)):\n",
        "    for j in range(i+1, len(correlation_matrix.columns)):\n",
        "        if abs(correlation_matrix.iloc[i, j]) > 0.8:  # 0.8은 임계값\n",
        "            col_i = correlation_matrix.columns[i]\n",
        "            col_j = correlation_matrix.columns[j]\n",
        "            corr_value = correlation_matrix.iloc[i, j]\n",
        "            high_correlation_pairs.append((col_i, col_j, corr_value))\n",
        "\n",
        "if high_correlation_pairs:\n",
        "    print(\"\\n높은 상관관계를 가진 특성 쌍 (상관계수 > 0.8):\")\n",
        "    for pair in high_correlation_pairs:\n",
        "        print(f\"- {pair[0]} - {pair[1]}: {pair[2]:.4f}\")\n",
        "else:\n",
        "    print(\"\\n상관계수 0.8 이상의 높은 상관관계를 가진 특성 쌍이 없습니다.\")"
      ]
    },
    {
      "cell_type": "markdown",
      "id": "363f0df5",
      "metadata": {},
      "source": [
        "## 7. 모델 훈련 및 평가"
      ],
      "outputs": [],
      "execution_count": null
    },
    {
      "cell_type": "markdown",
      "id": "3041d981",
      "metadata": {},
      "source": [
        "### 7.1 데이터 분할 및 모델 정의"
      ],
      "outputs": [],
      "execution_count": null
    },
    {
      "cell_type": "code",
      "execution_count": null,
      "id": "fb30f59a",
      "metadata": {},
      "outputs": [],
      "source": [
        "# 훈련/테스트 데이터 분할 (테스트 데이터 20%)\n",
        "X_train, X_test, y_train, y_test = train_test_split(X, y, test_size=0.2, random_state=RANDOM_STATE)\n",
        "\n",
        "# 모델 정의 - 다양한 회귀 모델로 비교 분석\n",
        "models = {\n",
        "    'Linear Regression': Pipeline([\n",
        "        ('preprocessor', preprocessor),\n",
        "        ('regressor', LinearRegression())\n",
        "    ]),\n",
        "    'Polynomial Regression': Pipeline([\n",
        "        ('preprocessor', preprocessor),\n",
        "        ('poly', PolynomialFeatures(degree=2)),  # 다항식 특성 생성 (2차)\n",
        "        ('regressor', LinearRegression())\n",
        "    ]),\n",
        "    'Ridge': Pipeline([\n",
        "        ('preprocessor', preprocessor),\n",
        "        ('regressor', Ridge(alpha=1.0, tol=1)) # L2 정규화\n",
        "    ]),\n",
        "    'Lasso': Pipeline([\n",
        "        ('preprocessor', preprocessor),\n",
        "        ('regressor', Lasso(alpha=1.0, max_iter=8000, tol=1e-3))  # L1 정규화\n",
        "    ]),\n",
        "    'Random Forest': Pipeline([\n",
        "        ('preprocessor', preprocessor),\n",
        "        ('regressor', RandomForestRegressor(n_estimators=100, max_depth=None, random_state=RANDOM_STATE))\n",
        "    ]),\n",
        "    'Gradient Boosting': Pipeline([\n",
        "        ('preprocessor', preprocessor),\n",
        "        ('regressor', GradientBoostingRegressor(n_estimators=100, learning_rate=0.1, random_state=RANDOM_STATE))\n",
        "    ])\n",
        "}\n",
        "\n",
        "# 결과 저장용 리스트\n",
        "results = []"
      ]
    },
    {
      "cell_type": "markdown",
      "id": "eb744219",
      "metadata": {},
      "source": [
        "### 7.2 모델 훈련 및 평가"
      ],
      "outputs": [],
      "execution_count": null
    },
    {
      "cell_type": "code",
      "execution_count": null,
      "id": "f9f4e885",
      "metadata": {},
      "outputs": [],
      "source": [
        "# 각 모델 학습 및 평가\n",
        "for name, model in models.items():\n",
        "    print(f\"\\n{name} 모델 학습 중...\")\n",
        "    # 모델 학습\n",
        "    model.fit(X_train, y_train)\n",
        "    \n",
        "    # 교차 검증 수행 (5-fold)\n",
        "    print(\"교차 검증 중...\")\n",
        "    # RMSE 점수 계산 (음수로 반환되므로 부호 변경)\n",
        "    cv_rmse_scores = -cross_val_score(model, X_train, y_train, cv=5, scoring='neg_root_mean_squared_error')\n",
        "    # R² 점수 계산\n",
        "    cv_r2_scores = cross_val_score(model, X_train, y_train, cv=5, scoring='r2')\n",
        "    # MAE 점수 계산 (음수로 반환되므로 부호 변경)\n",
        "    cv_mae_scores = -cross_val_score(model, X_train, y_train, cv=5, scoring='neg_mean_absolute_error')\n",
        "    \n",
        "    # 교차 검증 결과 출력 (평균 및 표준편차)\n",
        "    print(f\"  CV RMSE: {cv_rmse_scores.mean():.2f} ± {cv_rmse_scores.std():.2f}\")\n",
        "    print(f\"  CV R²: {cv_r2_scores.mean():.4f} ± {cv_r2_scores.std():.4f}\")\n",
        "    print(f\"  CV MAE: {cv_mae_scores.mean():.2f} ± {cv_mae_scores.std():.2f}\")\n",
        "    \n",
        "    # 훈련 세트 성능 평가\n",
        "    y_train_pred = model.predict(X_train)\n",
        "    train_rmse = root_mean_squared_error(y_train, y_train_pred)\n",
        "    train_mae = mean_absolute_error(y_train, y_train_pred)\n",
        "    train_r2 = r2_score(y_train, y_train_pred)\n",
        "    \n",
        "    # 테스트 세트 성능 평가\n",
        "    y_pred = model.predict(X_test)\n",
        "    test_rmse = root_mean_squared_error(y_test, y_pred)\n",
        "    test_mae = mean_absolute_error(y_test, y_pred)\n",
        "    test_r2 = r2_score(y_test, y_pred)\n",
        "    \n",
        "    # 결과 저장\n",
        "    results.append({\n",
        "        'Model': name,\n",
        "        'Train RMSE': train_rmse,\n",
        "        'CV RMSE': cv_rmse_scores.mean(),\n",
        "        'CV RMSE STD': cv_rmse_scores.std(),\n",
        "        'Test RMSE': test_rmse,\n",
        "        'Train MAE': train_mae,\n",
        "        'CV MAE': cv_mae_scores.mean(),\n",
        "        'Test MAE': test_mae,\n",
        "        'Train R2': train_r2,\n",
        "        'CV R2': cv_r2_scores.mean(),\n",
        "        'Test R2': test_r2\n",
        "    })\n",
        "    \n",
        "    # 훈련 및 테스트 세트 성능 출력\n",
        "    print(f\"- 훈련 세트: RMSE={train_rmse:.2f}, MAE={train_mae:.2f}, R2={train_r2:.4f}\")\n",
        "    print(f\"- 테스트 세트: RMSE={test_rmse:.2f}, MAE={test_mae:.2f}, R2={test_r2:.4f}\")"
      ]
    },
    {
      "cell_type": "markdown",
      "id": "58001992",
      "metadata": {},
      "source": [
        "### 7.3 모델 성능 비교"
      ],
      "outputs": [],
      "execution_count": null
    },
    {
      "cell_type": "code",
      "execution_count": null,
      "id": "89b0bc0e",
      "metadata": {},
      "outputs": [],
      "source": [
        "# 모델 성능 비교 테이블 생성 (테스트 RMSE 기준 정렬)\n",
        "results_df = pd.DataFrame(results).sort_values('Test RMSE')\n",
        "\n",
        "# 폴리노미얼 회귀 모델 제외한 결과 데이터프레임 생성\n",
        "results_df_filtered = results_df[results_df['Model'] != 'Polynomial Regression']\n",
        "\n",
        "# 모델 평가 결과 (테스트 RMSE 기준 정렬)\n",
        "display_cols = ['Model', 'Train RMSE', 'CV RMSE', 'Test RMSE', 'Train R2', 'CV R2', 'Test R2']\n",
        "print(\"\\n모델 평가 결과 (테스트 RMSE 기준 정렬):\")\n",
        "display(results_df_filtered[display_cols])\n",
        "\n",
        "# 모델별 성능 시각화 - 막대 그래프 (RMSE 및 R² 비교)\n",
        "plt.figure(figsize=(15, 10))\n",
        "\n",
        "# 필터링된 모델 목록\n",
        "models_list = results_df_filtered['Model'].tolist()\n",
        "train_rmse_list = results_df_filtered['Train RMSE'].tolist()\n",
        "cv_rmse_list = results_df_filtered['CV RMSE'].tolist()\n",
        "test_rmse_list = results_df_filtered['Test RMSE'].tolist()\n",
        "\n",
        "# 1. RMSE 비교 그래프\n",
        "plt.subplot(2, 1, 1)\n",
        "# 막대 그래프 위치 설정\n",
        "x = np.arange(len(models_list))\n",
        "width = 0.25  # 막대 너비\n",
        "\n",
        "# 훈련, 교차검증, 테스트 RMSE 막대 그래프 그리기\n",
        "plt.bar(x - width, train_rmse_list, width, label='Train RMSE')\n",
        "plt.bar(x, cv_rmse_list, width, label='CV RMSE')\n",
        "plt.bar(x + width, test_rmse_list, width, label='Test RMSE')\n",
        "\n",
        "plt.xlabel('모델')\n",
        "plt.ylabel('RMSE (낮을수록 좋음)')\n",
        "plt.title('모델별 RMSE 비교')\n",
        "plt.xticks(x, models_list, rotation=45)\n",
        "plt.legend()\n",
        "plt.grid(axis='y', linestyle='--', alpha=0.7)\n",
        "\n",
        "# 2. R² 비교 그래프\n",
        "plt.subplot(2, 1, 2)\n",
        "train_r2_list = results_df_filtered['Train R2'].tolist()\n",
        "cv_r2_list = results_df_filtered['CV R2'].tolist()\n",
        "test_r2_list = results_df_filtered['Test R2'].tolist()\n",
        "\n",
        "# 훈련, 교차검증, 테스트 R² 막대 그래프 그리기\n",
        "plt.bar(x - width, train_r2_list, width, label='Train R²')\n",
        "plt.bar(x, cv_r2_list, width, label='CV R²')\n",
        "plt.bar(x + width, test_r2_list, width, label='Test R²')\n",
        "\n",
        "plt.xlabel('모델')\n",
        "plt.ylabel('R² (높을수록 좋음)')\n",
        "plt.title('모델별 R² 비교')\n",
        "plt.xticks(x, models_list, rotation=45)\n",
        "plt.legend()\n",
        "plt.grid(axis='y', linestyle='--', alpha=0.7)\n",
        "\n",
        "plt.tight_layout()\n",
        "plt.savefig('plots/model_performance.png', dpi=300, bbox_inches='tight')\n",
        "plt.show()\n",
        "\n",
        "# 최고 성능 모델 확인 (테스트 RMSE 기준, 폴리노미얼 제외)\n",
        "best_model_name = results_df_filtered.iloc[0]['Model']  # 필터링된 데이터에서 최고 모델 선택\n",
        "best_model = models[best_model_name]\n",
        "print(f\"\\n테스트 RMSE 기준 최고 성능 모델: {best_model_name}\")\n",
        "print(f\"테스트 성능: RMSE={results_df_filtered.iloc[0]['Test RMSE']:.2f}, R2={results_df_filtered.iloc[0]['Test R2']:.4f}\")"
      ]
    },
    {
      "cell_type": "markdown",
      "id": "17af866e",
      "metadata": {},
      "source": [
        "RandomForest 모델이 가장 우수한 성능을 보였습니다. 다음 단계에서는 이 모델의 하이퍼파라미터 튜닝을 진행하겠습니다."
      ],
      "outputs": [],
      "execution_count": null
    },
    {
      "cell_type": "markdown",
      "id": "dd03878d",
      "metadata": {},
      "source": [
        "## 8. 최적 모델 튜닝"
      ],
      "outputs": [],
      "execution_count": null
    },
    {
      "cell_type": "markdown",
      "id": "93b579c9",
      "metadata": {},
      "source": [
        "### 8.1 RandomForest 모델 하이퍼파라미터 탐색"
      ],
      "outputs": [],
      "execution_count": null
    },
    {
      "cell_type": "code",
      "execution_count": null,
      "id": "bcde602c",
      "metadata": {},
      "outputs": [],
      "source": [
        "# RandomForest 모델 최적화 파이프라인 구성\n",
        "rf_pipeline = Pipeline([\n",
        "    ('preprocessor', preprocessor),\n",
        "    ('regressor', RandomForestRegressor(random_state=RANDOM_STATE))\n",
        "])\n",
        "\n",
        "# 하이퍼파라미터 탐색 범위 설정\n",
        "rf_params = {\n",
        "    'regressor__n_estimators': [100, 200],        # 트리 개수\n",
        "    'regressor__max_depth': [None, 10, 20],       # 트리 최대 깊이 (None=제한없음)\n",
        "    'regressor__min_samples_split': [2, 5, 10]    # 노드 분할에 필요한 최소 샘플 수\n",
        "}"
      ]
    },
    {
      "cell_type": "markdown",
      "id": "2c0c3c3a",
      "metadata": {},
      "source": [
        "### 8.2 그리드 서치 수행"
      ],
      "outputs": [],
      "execution_count": null
    },
    {
      "cell_type": "code",
      "execution_count": null,
      "id": "40402f24",
      "metadata": {},
      "outputs": [],
      "source": [
        "# 그리드 서치 수행 - 최적 하이퍼파라미터 탐색\n",
        "rf_gs = GridSearchCV(rf_pipeline, rf_params, cv=5, n_jobs=-1, \n",
        "                    scoring={'rmse': 'neg_root_mean_squared_error', \n",
        "                             'mae': 'neg_mean_absolute_error',\n",
        "                             'r2': 'r2'},\n",
        "                    refit='rmse')  # RMSE 기준으로 최적 모델 선택\n",
        "rf_gs.fit(X_train, y_train)\n",
        "print(\"\\n최적 RandomForest 파라미터:\", rf_gs.best_params_)\n",
        "best_rf = rf_gs.best_estimator_  # 최적 모델 저장"
      ]
    },
    {
      "cell_type": "markdown",
      "id": "8ea225b5",
      "metadata": {},
      "source": [
        "### 8.3 하이퍼파라미터 조합별 성능 확인"
      ],
      "outputs": [],
      "execution_count": null
    },
    {
      "cell_type": "code",
      "execution_count": null,
      "id": "4239ef49",
      "metadata": {},
      "outputs": [],
      "source": [
        "# GridSearchCV 결과를 데이터프레임으로 변환하여 출력\n",
        "cv_results_df = pd.DataFrame(rf_gs.cv_results_)\n",
        "\n",
        "# 각 하이퍼파라미터 조합과 성능 지표 출력\n",
        "print(\"\\n=== 하이퍼파라미터 조합별 성능 ===\")\n",
        "# RMSE, MAE 값은 음수로 저장되어 있으므로 양수로 변환\n",
        "cv_results_df['mean_test_rmse'] = -cv_results_df['mean_test_rmse']\n",
        "cv_results_df['mean_test_mae'] = -cv_results_df['mean_test_mae']\n",
        "\n",
        "# 전체 결과를 RMSE 기준으로 정렬하여 출력\n",
        "display(cv_results_df.sort_values('rank_test_rmse'))"
      ]
    },
    {
      "cell_type": "markdown",
      "id": "197a2654",
      "metadata": {},
      "source": [
        "### 8.4 최적화된 모델 성능 평가"
      ],
      "outputs": [],
      "execution_count": null
    },
    {
      "cell_type": "code",
      "execution_count": null,
      "id": "cb84e684",
      "metadata": {},
      "outputs": [],
      "source": [
        "# 최적화된 모델의 성능 평가\n",
        "# 교차 검증 성능 추출\n",
        "cv_rmse_best = -rf_gs.cv_results_['mean_test_rmse'][rf_gs.best_index_]\n",
        "cv_mae_best = -rf_gs.cv_results_['mean_test_mae'][rf_gs.best_index_]\n",
        "cv_r2_best = rf_gs.cv_results_['mean_test_r2'][rf_gs.best_index_]\n",
        "\n",
        "# 학습 데이터 성능 계산\n",
        "y_train_pred_best = best_rf.predict(X_train)\n",
        "train_rmse_best = root_mean_squared_error(y_train, y_train_pred_best)\n",
        "train_mae_best = mean_absolute_error(y_train, y_train_pred_best)\n",
        "train_r2_best = r2_score(y_train, y_train_pred_best)\n",
        "\n",
        "# 테스트 데이터 성능 계산\n",
        "y_test_pred_best = best_rf.predict(X_test)\n",
        "test_rmse_best = root_mean_squared_error(y_test, y_test_pred_best)\n",
        "test_mae_best = mean_absolute_error(y_test, y_test_pred_best)\n",
        "test_r2_best = r2_score(y_test, y_test_pred_best)"
      ]
    },
    {
      "cell_type": "markdown",
      "id": "fd9b8f55",
      "metadata": {},
      "source": [
        "### 8.5 최적화 결과 분석"
      ],
      "outputs": [],
      "execution_count": null
    },
    {
      "cell_type": "code",
      "execution_count": null,
      "id": "5ddf39ea",
      "metadata": {},
      "outputs": [],
      "source": [
        "# 최적화된 RandomForest 모델의 결과 출력\n",
        "print(\"\\n최적화된 RandomForest 모델 평가:\")\n",
        "performance_metrics = ['RMSE', 'MAE', 'R²']\n",
        "train_metrics = [train_rmse_best, train_mae_best, train_r2_best]\n",
        "cv_metrics = [cv_rmse_best, cv_mae_best, cv_r2_best]\n",
        "test_metrics = [test_rmse_best, test_mae_best, test_r2_best]\n",
        "\n",
        "# 성능 지표를 데이터프레임으로 정리하여 출력\n",
        "best_model_results = pd.DataFrame({\n",
        "    'Metric': performance_metrics,\n",
        "    'Train': train_metrics,\n",
        "    'CV': cv_metrics,\n",
        "    'Test': test_metrics\n",
        "})\n",
        "print(\"\\n최적화된 RandomForest 모델 평가:\")\n",
        "display(best_model_results)"
      ]
    },
    {
      "cell_type": "markdown",
      "id": "017ea65a",
      "metadata": {},
      "source": [
        "하이퍼파라미터 튜닝을 통해 RandomForest 모델의 성능을 최적화했습니다. 다음 단계에서는 최적화된 모델과 기본 모델의 성능을 비교하고, 특성 중요도 분석 및 예측 결과를 확인하겠습니다."
      ],
      "outputs": [],
      "execution_count": null
    },
    {
      "cell_type": "markdown",
      "id": "56c78b47",
      "metadata": {},
      "source": [
        "## 9. 최적 모델 분석 및 특성 중요도"
      ],
      "outputs": [],
      "execution_count": null
    },
    {
      "cell_type": "markdown",
      "id": "32ea9b62",
      "metadata": {},
      "source": [
        "### 9.1 최적화된 RandomForest 모델의 성능 확인"
      ],
      "outputs": [],
      "execution_count": null
    },
    {
      "cell_type": "code",
      "execution_count": null,
      "id": "73f4c6b7",
      "metadata": {},
      "outputs": [],
      "source": [
        "# 최적화된 RandomForest 모델과 기본 RandomForest 모델 성능 비교\n",
        "print(\"\\n최적화된 RandomForest 모델과 기본 RandomForest 모델 성능 비교:\")\n",
        "\n",
        "# 기본 RandomForest 모델 성능 추출\n",
        "base_rf_perf = results_df[results_df['Model']=='Random Forest']\n",
        "base_rf_rmse = base_rf_perf['Test RMSE'].values[0]\n",
        "base_rf_r2 = base_rf_perf['Test R2'].values[0]\n",
        "\n",
        "# 최적화된 RandomForest 모델 성능\n",
        "optimized_rf_rmse = test_rmse_best\n",
        "optimized_rf_r2 = test_r2_best\n",
        "\n",
        "# 성능 지표 출력\n",
        "print(f\"기본 RandomForest 모델: RMSE={base_rf_rmse:.2f}, R2={base_rf_r2:.4f}\")\n",
        "print(f\"최적화된 RandomForest 모델: RMSE={optimized_rf_rmse:.2f}, R2={optimized_rf_r2:.4f}\")\n",
        "\n",
        "# 성능 향상 계산\n",
        "rmse_improvement = ((base_rf_rmse - optimized_rf_rmse) / base_rf_rmse) * 100\n",
        "# R2가 음수일 경우를 고려한 개선율 계산 (R2는 1이 최대값)\n",
        "if base_rf_r2 > 0:\n",
        "    r2_improvement = ((optimized_rf_r2 - base_rf_r2) / base_rf_r2) * 100\n",
        "else:\n",
        "    r2_improvement = ((optimized_rf_r2 - base_rf_r2) / 1) * 100  # 음수에서의 개선은 1 기준으로 계산\n",
        "\n",
        "print(f\"\\n성능 개선 수치:\")\n",
        "print(f\"- RMSE: {rmse_improvement:.2f}% 감소\")\n",
        "print(f\"- R2: {r2_improvement:.2f}% 증가\")\n",
        "\n",
        "# 최종 모델 정의\n",
        "final_model = best_rf  # 최적화된 RandomForest 모델 선택\n",
        "final_model_name = \"최적화된 RandomForest\"\n",
        "final_rmse = optimized_rf_rmse\n",
        "final_r2 = optimized_rf_r2\n",
        "final_mae = test_mae_best\n",
        "\n",
        "print(f\"\\n최종 모델 성능: RMSE={final_rmse:.2f}, MAE={final_mae:.2f}, R2={final_r2:.4f}\")"
      ]
    },
    {
      "cell_type": "markdown",
      "id": "521d3925",
      "metadata": {},
      "source": [
        "### 9.2 특성 중요도 추출 및 시각화"
      ],
      "outputs": [],
      "execution_count": null
    },
    {
      "cell_type": "code",
      "execution_count": null,
      "id": "51d59453",
      "metadata": {},
      "outputs": [],
      "source": [
        "# RandomForest 모델의 특성 중요도 분석\n",
        "# 모델에서 특성 중요도 추출\n",
        "regressor = final_model.named_steps['regressor']\n",
        "feature_importances = regressor.feature_importances_\n",
        "\n",
        "# 전처리기에서 변환된 특성 이름 가져오기\n",
        "preprocessor = final_model.named_steps['preprocessor']\n",
        "num_transformer = preprocessor.named_transformers_['num']\n",
        "cat_transformer = preprocessor.named_transformers_['cat']\n",
        "\n",
        "# 변환된 특성 이름 목록 생성\n",
        "# 수치형 특성 이름\n",
        "feature_names = numeric_features.copy()\n",
        "# 범주형 특성 변환 이름 추출\n",
        "cat_feature_names = cat_transformer.named_steps['onehot'].get_feature_names_out(categorical_features)\n",
        "feature_names.extend(cat_feature_names)\n",
        "\n",
        "# 특성 중요도 데이터프레임 생성 (중요도 내림차순 정렬)\n",
        "importance_df = pd.DataFrame({\n",
        "    'feature': feature_names[:len(feature_importances)],\n",
        "    'importance': feature_importances\n",
        "}).sort_values('importance', ascending=False)\n",
        "\n",
        "# 모든 특성 중요도 시각화\n",
        "plt.figure(figsize=(15, 12))\n",
        "sns.barplot(x='importance', y='feature', data=importance_df)\n",
        "plt.title(f'{final_model_name} 모델의 특성 중요도')\n",
        "plt.xlabel('중요도')\n",
        "plt.ylabel('특성')\n",
        "plt.tight_layout()\n",
        "plt.savefig('plots/feature_importance.png', dpi=300, bbox_inches='tight')\n",
        "plt.show()\n",
        "\n",
        "# 전체 특성 중요도 출력\n",
        "print(\"\\n특성 중요도 (중요도 순):\")\n",
        "display(importance_df)"
      ]
    },
    {
      "cell_type": "markdown",
      "id": "a2729081",
      "metadata": {},
      "source": [
        "### 9.3 예측 결과 분석"
      ],
      "outputs": [],
      "execution_count": null
    },
    {
      "cell_type": "code",
      "execution_count": null,
      "id": "409b8328",
      "metadata": {},
      "outputs": [],
      "source": [
        "# 최종 모델의 예측 결과 분석\n",
        "print(\"\\n예측 결과 분석 중...\")\n",
        "y_pred_final = final_model.predict(X_test)\n",
        "\n",
        "# 예측 결과 데이터프레임 생성\n",
        "prediction_df = pd.DataFrame({\n",
        "    '실제값': y_test,\n",
        "    '예측값': y_pred_final,\n",
        "    '오차': y_test - y_pred_final,\n",
        "    '절대오차': np.abs(y_test - y_pred_final),\n",
        "    '상대오차(%)': np.abs((y_test - y_pred_final) / y_test) * 100\n",
        "})\n",
        "\n",
        "# 예측 결과 출력 (전체 또는 최대 30개 샘플)\n",
        "print(\"\\n예측 결과 샘플:\")\n",
        "if len(prediction_df) > 30:\n",
        "    display(prediction_df.head(30))\n",
        "    print(f\"(총 {len(prediction_df)}개 중 앞 30개만 표시)\")\n",
        "else:\n",
        "    display(prediction_df)\n",
        "\n",
        "# 오차 통계 출력\n",
        "print(\"\\n예측 오차 통계:\")\n",
        "print(f\"평균 절대 오차 (MAE): {prediction_df['절대오차'].mean():.2f}\")\n",
        "print(f\"중간값 절대 오차 (Median AE): {prediction_df['절대오차'].median():.2f}\")\n",
        "print(f\"평균 상대 오차 (MAPE): {prediction_df['상대오차(%)'].mean():.2f}%\")"
      ]
    },
    {
      "cell_type": "markdown",
      "id": "49da7fff",
      "metadata": {},
      "source": [
        "### 9.4 예측 결과 시각화"
      ],
      "outputs": [],
      "execution_count": null
    },
    {
      "cell_type": "code",
      "execution_count": null,
      "id": "50d7dc02",
      "metadata": {},
      "outputs": [],
      "source": [
        "# 예측 결과 시각화 (4개 그래프)\n",
        "plt.figure(figsize=(15, 10))\n",
        "\n",
        "# 1. 실제값 vs 예측값 산점도\n",
        "plt.subplot(2, 2, 1)\n",
        "plt.scatter(y_test, y_pred_final, alpha=0.5)\n",
        "# 이상적인 예측선 (y=x) 추가\n",
        "plt.plot([min(y_test), max(y_test)], [min(y_test), max(y_test)], 'r--')\n",
        "plt.title('실제값 vs 예측값')\n",
        "plt.xlabel('실제 평균매출')\n",
        "plt.ylabel('예측 평균매출')\n",
        "plt.grid(True, linestyle='--', alpha=0.5)\n",
        "\n",
        "# 2. 잔차 히스토그램\n",
        "plt.subplot(2, 2, 2)\n",
        "sns.histplot(prediction_df['오차'], kde=True)\n",
        "plt.axvline(x=0, color='r', linestyle='--', label='오차 없음')\n",
        "plt.title('예측 오차 분포')\n",
        "plt.xlabel('오차')\n",
        "plt.ylabel('빈도')\n",
        "\n",
        "# 3. 예측값 대비 잔차 산점도\n",
        "plt.subplot(2, 2, 3)\n",
        "plt.scatter(y_pred_final, prediction_df['오차'], alpha=0.5)\n",
        "plt.axhline(y=0, color='r', linestyle='--', label='오차 없음')\n",
        "plt.title('예측값 대비 잔차')\n",
        "plt.xlabel('예측값')\n",
        "plt.ylabel('잔차')\n",
        "plt.grid(True, linestyle='--', alpha=0.5)\n",
        "plt.legend()\n",
        "\n",
        "# 4. 실제값 대비 상대오차 산점도\n",
        "plt.subplot(2, 2, 4)\n",
        "plt.scatter(y_test, prediction_df['상대오차(%)'], alpha=0.5)\n",
        "plt.title('실제값 대비 상대오차(%)')\n",
        "plt.xlabel('실제값')\n",
        "plt.ylabel('상대오차(%)')\n",
        "plt.grid(True, linestyle='--', alpha=0.5)\n",
        "\n",
        "plt.tight_layout()\n",
        "plt.savefig('plots/prediction_analysis.png', dpi=300, bbox_inches='tight')\n",
        "plt.show()"
      ]
    },
    {
      "cell_type": "markdown",
      "id": "04946202",
      "metadata": {},
      "source": [
        "## 10. 예측 결과 및 결론"
      ],
      "outputs": [],
      "execution_count": null
    },
    {
      "cell_type": "markdown",
      "id": "5f05478f",
      "metadata": {},
      "source": [
        "### 10.1 요식업 매출 예측 모델 결론"
      ],
      "outputs": [],
      "execution_count": null
    },
    {
      "cell_type": "markdown",
      "id": "e6934307",
      "metadata": {},
      "source": [
        "분석 결과, 최적화된 RandomForest 모델이 가장 우수한 성능을 보여 최종 모델로 선정되었습니다. 이 모델은 하이퍼파라미터 튜닝을 통해 기본 RandomForest 모델보다 향상된 성능을 보여주었습니다. 예측 결과 분석에서는 평균 절대 오차와 상대 오차가 합리적인 수준으로 나타났습니다. 이 모델은 새로운 상권의 예상 매출을 예측하는 데 활용할 수 있을 것입니다."
      ],
      "outputs": [],
      "execution_count": null
    },
    {
      "cell_type": "code",
      "execution_count": null,
      "id": "68f2f243",
      "metadata": {},
      "outputs": [],
      "source": [
        "# 최종 모델 성능 요약 출력\n",
        "print(\"\\n최종 모델 성능 요약:\")\n",
        "\n",
        "# 중요 특성 분석\n",
        "print(f\"\\n중요 특성 분석:\")\n",
        "display(importance_df)\n",
        "\n",
        "# 최종 모델 성능 정보 출력\n",
        "print(f\"모델: {final_model_name} (R²={final_r2:.4f})\")\n",
        "print(f\"평균 절대 오차: {prediction_df['절대오차'].mean():,.2f}원\")\n",
        "print(f\"평균 상대 오차: {prediction_df['상대오차(%)'].mean():.2f}%\")"
      ]
    },
    {
      "cell_type": "markdown",
      "id": "ffd1e7df",
      "metadata": {},
      "source": [
        "### 10.2 새로운 상권 예측 예시"
      ],
      "outputs": [],
      "execution_count": null
    },
    {
      "cell_type": "code",
      "execution_count": null,
      "id": "6f65e2f2",
      "metadata": {},
      "outputs": [],
      "source": [
        "# 새로운 상권 매출 예측 예시 (테스트 데이터 첫 번째 샘플 활용)\n",
        "print(\"\\n새로운 상권 매출 예측 예시:\")\n",
        "# 테스트 데이터의 첫 번째 샘플을 예시로 사용\n",
        "sample_data = X_test.iloc[0:1].copy()\n",
        "sample_prediction = final_model.predict(sample_data)[0]\n",
        "actual_value = y_test.iloc[0]\n",
        "\n",
        "# 샘플 상권 정보 출력\n",
        "print(f\"샘플 상권 정보:\")\n",
        "# 범주형 특성 정보 출력\n",
        "for col in categorical_features:\n",
        "    if col in sample_data.columns:\n",
        "        print(f\"- {col}: {sample_data[col].values[0]}\")\n",
        "\n",
        "# 주요 수치형 특성 정보 출력 (상위 3개)\n",
        "for col in numeric_features[:3]:\n",
        "    if col in sample_data.columns:\n",
        "        print(f\"- {col}: {sample_data[col].values[0]:,.2f}\")\n",
        "\n",
        "# 예측 결과와 실제 값 비교\n",
        "print(f\"\\n예측 평균 매출: {sample_prediction:,.2f}원\")\n",
        "print(f\"실제 평균 매출: {actual_value:,.2f}원\")\n",
        "# 예측 오차 계산 및 출력\n",
        "error_abs = abs(actual_value - sample_prediction)\n",
        "error_pct = error_abs / actual_value * 100\n",
        "print(f\"예측 오차: {error_abs:,.2f}원 ({error_pct:.2f}%)\")"
      ]
    },
    {
      "cell_type": "markdown",
      "id": "6c9c52b2",
      "metadata": {},
      "source": [
        "### 10.3 모델 및 데이터 저장"
      ],
      "outputs": [],
      "execution_count": null
    },
    {
      "cell_type": "code",
      "execution_count": null,
      "id": "d716c95c",
      "metadata": {},
      "outputs": [],
      "source": [
        "# 최종 모델 저장\n",
        "model_filename = f'models/{final_model_name.replace(\" \", \"_\").lower()}_model.pkl'\n",
        "joblib.dump(final_model, model_filename)\n",
        "print(f\"\\n최종 모델 저장 완료: {model_filename}\")\n",
        "\n",
        "# 최종 정제된 데이터 저장\n",
        "output_filepath = \"data/서울시_요식업_정제데이터.csv\"\n",
        "restaurant_data.to_csv(output_filepath, index=False, encoding=\"cp949\")\n",
        "print(f\"정제된 데이터 저장 완료: {output_filepath}\")\n",
        "\n",
        "# 학습 결과 요약\n",
        "print(f\"\\n학습 완료:\")\n",
        "print(f\"- 데이터셋 크기: {X.shape[0]:,}행 x {X.shape[1]:,}열\")\n",
        "print(f\"- 최종 모델: {final_model_name}\")\n",
        "print(f\"- 테스트 성능: RMSE={final_rmse:.2f}, R2={final_r2:.4f}\")\n",
        "print(f\"- 모델 저장 경로: {model_filename}\")\n",
        "print(f\"- 데이터 저장 경로: {output_filepath}\")\n",
        "\n",
        "# 상권 유형별 인구 및 매출 분석 - 6개 그래프 그리기 (생략됨)\n",
        "\n",
        "# 5. 유동인구와 매출 (로그 스케일) - 산점도\n",
        "plt.subplot(3, 2, 5)\n",
        "# 0보다 큰 값만 선택하여 로그 변환\n",
        "non_zero_data = feature_engineering_df[(feature_engineering_df['총_유동인구_수'] > 0) & (feature_engineering_df['평균매출'] > 0)]\n",
        "sns.scatterplot(x=np.log1p(non_zero_data['총_유동인구_수']), y=np.log1p(non_zero_data['평균매출']))\n",
        "plt.title('유동인구와 매출 (로그-로그 스케일)')\n",
        "plt.xlabel('log(총 유동인구 수)')\n",
        "plt.ylabel('log(평균매출)')\n",
        "\n",
        "# 6. 직장인구와 매출 (로그 스케일) - 산점도\n",
        "plt.subplot(3, 2, 6)\n",
        "# 0보다 큰 값만 선택하여 로그 변환\n",
        "non_zero_data = feature_engineering_df[(feature_engineering_df['총_직장_인구_수'] > 0) & (feature_engineering_df['평균매출'] > 0)]\n",
        "sns.scatterplot(x=np.log1p(non_zero_data['총_직장_인구_수']), y=np.log1p(non_zero_data['평균매출']))\n",
        "plt.title('직장인구와 매출 (로그-로그 스케일)')\n",
        "plt.xlabel('log(총 직장인구 수)')\n",
        "plt.ylabel('log(평균매출)')"
      ]
    }
  ],
  "metadata": {},
  "nbformat": 4,
  "nbformat_minor": 5
}
