{
  "cells": [
    {
      "cell_type": "code",
      "execution_count": null,
      "id": "964ff211-6b65-4822-acf2-8e8d55e7707e",
      "metadata": {},
      "outputs": [],
      "source": [
        "# 기본적인 부분\n",
        "import numpy as np\n",
        "import pandas as pd\n",
        "import seaborn as sns\n",
        "import matplotlib.pyplot as plt\n",
        "import matplotlib as mpl\n",
        "mpl.rc(\"font\", family=\"NanumGothic\")\n",
        "plt.rcParams[\"axes.unicode_minus\"]=False\n",
        "\n",
        "# 데이터 전처리\n",
        "from sklearn.model_selection import train_test_split\n",
        "from sklearn.preprocessing import StandardScaler\n",
        "from sklearn.preprocessing import PolynomialFeatures\n",
        "\n",
        "# 학습 알고리즘\n",
        "from sklearn.neighbors import KNeighborsRegressor\n",
        "from sklearn.neighbors import KNeighborsClassifier\n",
        "\n",
        "from sklearn.linear_model import LinearRegression\n",
        "from sklearn.linear_model import LogisticRegression\n",
        "from sklearn.linear_model import Ridge, Lasso, ElasticNet\n",
        "\n",
        "from sklearn.metrics import r2_score, mean_squared_error, root_mean_squared_error, mean_absolute_error\n",
        "from sklearn.metrics import classification_report\n",
        "from scipy.special import expit, softmax\n",
        "\n",
        "from sklearn.tree import DecisionTreeClassifier\n",
        "from sklearn.tree import DecisionTreeRegressor\n",
        "from sklearn.tree import plot_tree\n",
        "\n",
        "from sklearn.model_selection import cross_validate\n",
        "from sklearn.model_selection import GridSearchCV\n",
        "\n",
        "from sklearn.model_selection import RandomizedSearchCV\n",
        "from scipy.stats import uniform, randint\n",
        "import scipy.stats as stats\n",
        "import statsmodels.api as sm\n",
        "from statsmodels.stats.proportion import proportions_ztest\n",
        "\n",
        "from sklearn.ensemble import RandomForestClassifier"
      ]
    },
    {
      "cell_type": "markdown",
      "id": "56080aca-1133-4bcc-8959-35f1a6603a3b",
      "metadata": {},
      "source": [
        "# 서울시 상권 월간 매출 예측 모델"
      ],
      "outputs": [],
      "execution_count": null
    },
    {
      "cell_type": "markdown",
      "id": "01fb8999-129b-489b-884b-3911e1cffb6f",
      "metadata": {},
      "source": [
        "## 상권 추정매출"
      ],
      "outputs": [],
      "execution_count": null
    },
    {
      "cell_type": "code",
      "execution_count": null,
      "id": "81ac1a4f-00e4-4058-8de8-cbac6e1d7593",
      "metadata": {},
      "outputs": [],
      "source": [
        "seoul_sales = pd.read_csv(\"../data/서울시 상권분석서비스(추정매출-상권).csv\", encoding=\"cp949\")\n",
        "seoul_sales.shape"
      ]
    },
    {
      "cell_type": "code",
      "execution_count": null,
      "id": "b11938c4-2f15-4fde-8913-bb3af4f04c42",
      "metadata": {},
      "outputs": [],
      "source": [
        "seoul_sales.head()"
      ]
    },
    {
      "cell_type": "code",
      "execution_count": null,
      "id": "7f0321c4-2132-49b6-8f8a-85eb7191b17c",
      "metadata": {},
      "outputs": [],
      "source": [
        "seoul_sales.info()"
      ]
    },
    {
      "cell_type": "code",
      "execution_count": null,
      "id": "0af4dacc-638d-4b3b-8849-0cfda819c32a",
      "metadata": {},
      "outputs": [],
      "source": [
        "seoul_sales_copy=seoul_sales.copy()"
      ]
    },
    {
      "cell_type": "code",
      "execution_count": null,
      "id": "9f35a5cd-610f-4a55-95e1-708650a5bf6e",
      "metadata": {},
      "outputs": [],
      "source": [
        "seoul_sales_copy[\"출근_매출_금액\"] = (seoul_sales_copy[\"시간대_00~06_매출_금액\"] + seoul_sales_copy[\"시간대_06~11_매출_금액\"])\n",
        "seoul_sales_copy[\"점심_매출_금액\"] = (seoul_sales_copy[\"시간대_11~14_매출_금액\"] + seoul_sales_copy[\"시간대_14~17_매출_금액\"])\n",
        "seoul_sales_copy[\"퇴근_매출_금액\"] = (seoul_sales_copy[\"시간대_17~21_매출_금액\"] + seoul_sales_copy[\"시간대_21~24_매출_금액\"])\n",
        "\n",
        "columns_to_drop = [\n",
        "    \"서비스_업종_코드\", \"서비스_업종_코드_명\", \"상권_구분_코드\", \"상권_코드\",\n",
        "    \"월요일_매출_금액\", \"화요일_매출_금액\", \"수요일_매출_금액\", \"목요일_매출_금액\", \"금요일_매출_금액\",\n",
        "    \"토요일_매출_금액\", \"일요일_매출_금액\",\n",
        "    \"시간대_00~06_매출_금액\", \"시간대_06~11_매출_금액\",\n",
        "    \"시간대_11~14_매출_금액\", \"시간대_14~17_매출_금액\",\n",
        "    \"시간대_17~21_매출_금액\", \"시간대_21~24_매출_금액\",\n",
        "    \"연령대_10_매출_금액\", \"연령대_20_매출_금액\", \"연령대_30_매출_금액\", \n",
        "    \"연령대_40_매출_금액\", \"연령대_50_매출_금액\", \"연령대_60_이상_매출_금액\", \n",
        "    \"당월_매출_건수\", \"주중_매출_건수\", \"주말_매출_건수\",\n",
        "    \"월요일_매출_건수\", \"화요일_매출_건수\", \"수요일_매출_건수\", \"목요일_매출_건수\", \"금요일_매출_건수\",\n",
        "    \"토요일_매출_건수\", \"일요일_매출_건수\",\n",
        "    \"시간대_건수~06_매출_건수\", \"시간대_건수~11_매출_건수\",\n",
        "    \"시간대_건수~14_매출_건수\", \"시간대_건수~17_매출_건수\",\n",
        "    \"시간대_건수~21_매출_건수\", \"시간대_건수~24_매출_건수\",\n",
        "    \"남성_매출_건수\", \"여성_매출_건수\",\n",
        "    \"연령대_10_매출_건수\", \"연령대_20_매출_건수\", \"연령대_30_매출_건수\",\n",
        "    \"연령대_40_매출_건수\", \"연령대_50_매출_건수\", \"연령대_60_이상_매출_건수\"\n",
        "]\n",
        "\n",
        "seoul_sales_copy = seoul_sales_copy.drop(columns=columns_to_drop)\n",
        "seoul_sales_copy.info()"
      ]
    },
    {
      "cell_type": "code",
      "execution_count": null,
      "id": "9187ad72-ac3d-4d51-870c-1180605f6ea4",
      "metadata": {},
      "outputs": [],
      "source": [
        "columns_to_sum = seoul_sales_copy.columns[3:20]  # 매출 컬럼\n",
        "\n",
        "agg_func = {}\n",
        "# 기준_년분기_코드, 상권_구분_코드_명, 상권_코드_명\n",
        "for col in seoul_sales_copy.columns[:3]:\n",
        "    agg_func[col] = \"first\"\n",
        "# 나머지\n",
        "for col in columns_to_sum:\n",
        "    agg_func[col] = \"sum\"\n",
        "\n",
        "seoul_sales_copy_grouped = seoul_sales_copy.groupby([\"상권_코드_명\", \"기준_년분기_코드\"]).agg(agg_func)\n",
        "seoul_sales_copy_grouped.head()"
      ]
    },
    {
      "cell_type": "code",
      "execution_count": null,
      "id": "84dd093e-c2f0-4456-b74b-06104591ee3e",
      "metadata": {},
      "outputs": [],
      "source": [
        "seoul_sales_copy_grouped = seoul_sales_copy_grouped.reset_index(drop=True)"
      ]
    },
    {
      "cell_type": "code",
      "execution_count": null,
      "id": "403761ac-6f99-4eb6-bb44-89dfca207490",
      "metadata": {},
      "outputs": [],
      "source": [
        "seoul_sales_copy_grouped_sort = seoul_sales_copy_grouped.sort_values(by=\"기준_년분기_코드\", ascending=True)"
      ]
    },
    {
      "cell_type": "code",
      "execution_count": null,
      "id": "e9890b14-1ae7-43a5-a76b-3adcd668a502",
      "metadata": {},
      "outputs": [],
      "source": [
        "seoul_sales_copy_grouped_sort.head()"
      ]
    },
    {
      "cell_type": "code",
      "execution_count": null,
      "id": "8328a765-ff26-4dcb-ac1b-100ac48952d2",
      "metadata": {},
      "outputs": [],
      "source": [
        "seoul_sales_copy_grouped_sort = seoul_sales_copy_grouped_sort.reset_index(drop=True)"
      ]
    },
    {
      "cell_type": "code",
      "execution_count": null,
      "id": "36891c36-6750-426a-a1cf-102dcf69dfd4",
      "metadata": {},
      "outputs": [],
      "source": [
        "seoul_sales_copy_grouped_sort.head()"
      ]
    },
    {
      "cell_type": "code",
      "execution_count": null,
      "id": "0812b322-b35d-4064-be37-5bbec21e2f49",
      "metadata": {},
      "outputs": [],
      "source": [
        "seoul_sales_copy_grouped_sort[\"상권_코드_명\"].unique()"
      ]
    },
    {
      "cell_type": "markdown",
      "id": "4b41443e-7d82-47c4-91a9-c16510a2173d",
      "metadata": {},
      "source": [
        "## 유동인구"
      ],
      "outputs": [],
      "execution_count": null
    },
    {
      "cell_type": "code",
      "execution_count": null,
      "id": "3612e73a-2baa-423b-bfaa-baefc17a4d37",
      "metadata": {},
      "outputs": [],
      "source": [
        "seoul_people_street=pd.read_csv(\"../data/서울시 상권분석서비스(길단위인구-상권).csv\", encoding=\"cp949\")\n",
        "seoul_people_street.info()"
      ]
    },
    {
      "cell_type": "code",
      "execution_count": null,
      "id": "70a57a50-7cf8-4474-a971-2e8a53cf2750",
      "metadata": {},
      "outputs": [],
      "source": [
        "seoul_people_street_copy=seoul_people_street.copy()"
      ]
    },
    {
      "cell_type": "code",
      "execution_count": null,
      "id": "bf2cf6f9-cab1-4719-969c-815a1c07b6cb",
      "metadata": {},
      "outputs": [],
      "source": [
        "seoul_people_street_copy[\"출근_유동인구_수\"] = (seoul_people_street_copy[\"시간대_00_06_유동인구_수\"] + seoul_people_street_copy[\"시간대_06_11_유동인구_수\"])\n",
        "seoul_people_street_copy[\"점심_유동인구_수\"] = (seoul_people_street_copy[\"시간대_11_14_유동인구_수\"] + seoul_people_street_copy[\"시간대_14_17_유동인구_수\"])\n",
        "seoul_people_street_copy[\"퇴근_유동인구_수\"] = (seoul_people_street_copy[\"시간대_17_21_유동인구_수\"] + seoul_people_street_copy[\"시간대_21_24_유동인구_수\"])\n",
        "\n",
        "seoul_people_street_copy[\"주중_유동인구_수\"] = (seoul_people_street_copy[\"월요일_유동인구_수\"] +\n",
        "                                                 seoul_people_street_copy[\"화요일_유동인구_수\"] +\n",
        "                                                 seoul_people_street_copy[\"수요일_유동인구_수\"] +\n",
        "                                                 seoul_people_street_copy[\"목요일_유동인구_수\"] +\n",
        "                                                 seoul_people_street_copy[\"금요일_유동인구_수\"])\n",
        "seoul_people_street_copy[\"주말_유동인구_수\"] = (seoul_people_street_copy[\"토요일_유동인구_수\"] +\n",
        "                                                 seoul_people_street_copy[\"일요일_유동인구_수\"])\n",
        "\n",
        "columns_to_drop = [\n",
        "    \"상권_구분_코드\", \"상권_코드\",\n",
        "    \"연령대_10_유동인구_수\", \"연령대_20_유동인구_수\", \"연령대_30_유동인구_수\", \n",
        "    \"연령대_40_유동인구_수\", \"연령대_50_유동인구_수\", \"연령대_60_이상_유동인구_수\", \n",
        "    \"시간대_00_06_유동인구_수\", \"시간대_06_11_유동인구_수\",\n",
        "    \"시간대_11_14_유동인구_수\", \"시간대_14_17_유동인구_수\",\n",
        "    \"시간대_17_21_유동인구_수\", \"시간대_21_24_유동인구_수\",\n",
        "    \"월요일_유동인구_수\", \"화요일_유동인구_수\", \"수요일_유동인구_수\", \"목요일_유동인구_수\", \"금요일_유동인구_수\",\n",
        "    \"토요일_유동인구_수\", \"일요일_유동인구_수\"\n",
        "]\n",
        "\n",
        "seoul_people_street_copy = seoul_people_street_copy.drop(columns=columns_to_drop)\n",
        "seoul_people_street_copy.info()"
      ]
    },
    {
      "cell_type": "code",
      "execution_count": null,
      "id": "675dc93f-1227-4c00-962e-ede04e81630d",
      "metadata": {},
      "outputs": [],
      "source": [
        "seoul_people_street_copy.head()"
      ]
    },
    {
      "cell_type": "code",
      "execution_count": null,
      "id": "6a838843-92e6-4141-baa8-43595c190680",
      "metadata": {},
      "outputs": [],
      "source": [
        "seoul_people_street_copy = seoul_people_street_copy.reset_index(drop=True)"
      ]
    },
    {
      "cell_type": "code",
      "execution_count": null,
      "id": "f603e435-0bbc-48ac-ab26-be4f1131c72d",
      "metadata": {},
      "outputs": [],
      "source": [
        "seoul_sales_people_street = pd.merge(seoul_sales_copy_grouped_sort, seoul_people_street_copy, on=[\"기준_년분기_코드\", \"상권_구분_코드_명\", \"상권_코드_명\"], how=\"inner\")\n",
        "seoul_sales_people_street.head()"
      ]
    },
    {
      "cell_type": "code",
      "execution_count": null,
      "id": "388ffae6-994a-4b59-91a9-b9db22bcf0ea",
      "metadata": {},
      "outputs": [],
      "source": [
        "seoul_sales_people_street_sorted = seoul_sales_people_street.sort_values(by=\"기준_년분기_코드\", ascending=True)"
      ]
    },
    {
      "cell_type": "code",
      "execution_count": null,
      "id": "f5cecc60-2e7e-4fbb-896b-689991e95931",
      "metadata": {},
      "outputs": [],
      "source": [
        "seoul_people_street_copy = seoul_people_street_copy.reset_index(drop=True)\n",
        "seoul_people_street_copy.head()"
      ]
    },
    {
      "cell_type": "code",
      "execution_count": null,
      "id": "4dd97ed0-9b01-485c-89a8-b9a4fec1ad4b",
      "metadata": {},
      "outputs": [],
      "source": [
        "seoul_sales_people_street.info()"
      ]
    },
    {
      "cell_type": "markdown",
      "id": "a45394ba-197f-4154-89f5-c747bb79b141",
      "metadata": {},
      "source": [
        "## 직장인구"
      ],
      "outputs": [],
      "execution_count": null
    },
    {
      "cell_type": "code",
      "execution_count": null,
      "id": "c1d6107e-621a-4091-af1a-48b7c8faf5cf",
      "metadata": {},
      "outputs": [],
      "source": [
        "seoul_people_working=pd.read_csv(\"../data/서울시 상권분석서비스(직장인구-상권).csv\", encoding=\"cp949\")\n",
        "seoul_people_working.shape"
      ]
    },
    {
      "cell_type": "code",
      "execution_count": null,
      "id": "43c87c6f-3b17-47e1-9e5d-2965ee5c7a4f",
      "metadata": {},
      "outputs": [],
      "source": [
        "seoul_people_working.head()"
      ]
    },
    {
      "cell_type": "code",
      "execution_count": null,
      "id": "56f45400-cf6f-4367-9e77-c01cf2e6ef8c",
      "metadata": {},
      "outputs": [],
      "source": [
        "seoul_people_working_copy=seoul_people_working.copy()"
      ]
    },
    {
      "cell_type": "code",
      "execution_count": null,
      "id": "9a9ae41f-8e9c-483e-bf08-430a00e9c0b3",
      "metadata": {},
      "outputs": [],
      "source": [
        "seoul_people_working_copy.info()"
      ]
    },
    {
      "cell_type": "code",
      "execution_count": null,
      "id": "78700ddd-5e62-4c3f-8be7-a3d3b3f4828f",
      "metadata": {},
      "outputs": [],
      "source": [
        "columns_to_drop = [\n",
        "    \"상권_구분_코드\", \"상권_코드\",\n",
        "    \"연령대_10_직장_인구_수\", \"연령대_20_직장_인구_수\", \"연령대_30_직장_인구_수\", \n",
        "    \"연령대_40_직장_인구_수\", \"연령대_50_직장_인구_수\", \"연령대_60_이상_직장_인구_수\", \n",
        "    \"남성연령대_10_직장_인구_수\", \"남성연령대_20_직장_인구_수\", \"남성연령대_30_직장_인구_수\",\n",
        "    \"남성연령대_40_직장_인구_수\", \"남성연령대_50_직장_인구_수\", \"남성연령대_60_이상_직장_인구_수\",\n",
        "    \"여성연령대_10_직장_인구_수\", \"여성연령대_20_직장_인구_수\", \"여성연령대_30_직장_인구_수\",\n",
        "    \"여성연령대_40_직장_인구_수\", \"여성연령대_50_직장_인구_수\", \"여성연령대_60_이상_직장_인구_수\"\n",
        "]\n",
        "\n",
        "seoul_people_working_copy = seoul_people_working_copy.drop(columns=columns_to_drop)\n",
        "seoul_people_working_copy.info()"
      ]
    },
    {
      "cell_type": "code",
      "execution_count": null,
      "id": "3d2a321c-a51d-46ab-a905-b83c43d89a07",
      "metadata": {},
      "outputs": [],
      "source": [
        "seoul_people_working_copy.head()"
      ]
    },
    {
      "cell_type": "code",
      "execution_count": null,
      "id": "e89bf76c-a2ad-46ec-8b11-3ea3371a7e45",
      "metadata": {},
      "outputs": [],
      "source": [
        "seoul_sales_people_street_working = pd.merge(seoul_sales_people_street, seoul_people_working_copy, on=[\"기준_년분기_코드\", \"상권_구분_코드_명\", \"상권_코드_명\"], how=\"inner\")\n",
        "seoul_sales_people_street_working.head()"
      ]
    },
    {
      "cell_type": "code",
      "execution_count": null,
      "id": "bad46590-9b79-4655-ba72-3df0ca5f2aae",
      "metadata": {},
      "outputs": [],
      "source": [
        "seoul_sales_people_street_working.rename(columns={\"당월_매출_금액\": \"매출_금액\"}, inplace=True)\n",
        "\n",
        "def seasons(row):\n",
        "    if row == 20241:\n",
        "        return \"봄\"\n",
        "    elif row == 20242:\n",
        "        return \"여름\"\n",
        "    elif row == 20243:\n",
        "        return \"가을\"\n",
        "    else:\n",
        "        return \"겨울\"\n",
        "\n",
        "seoul_sales_people_street_working[\"계절\"] = seoul_sales_people_street_working[\"기준_년분기_코드\"\n",
        "                                                                            ].apply(seasons)\n",
        "seoul_sales_people_street_working.insert(seoul_sales_people_street_working.columns.get_loc(\"기준_년분기_코드\") + 1, \"계절\", seoul_sales_people_street_working.pop(\"계절\"))"
      ]
    },
    {
      "cell_type": "code",
      "execution_count": null,
      "id": "8275ebb0-a3dc-4df0-b7d2-2fc3b61c801f",
      "metadata": {},
      "outputs": [],
      "source": [
        "seoul_sales_people_street_working = seoul_sales_people_street_working.sort_values(by=\"기준_년분기_코드\", ascending=True)"
      ]
    },
    {
      "cell_type": "code",
      "execution_count": null,
      "id": "72dbeee3-e41c-4f63-97a9-d69befc3a6e7",
      "metadata": {},
      "outputs": [],
      "source": [
        "seoul_sales_people_street_working = seoul_sales_people_street_working.reset_index(drop=True)\n",
        "seoul_sales_people_street_working.head()"
      ]
    },
    {
      "cell_type": "code",
      "execution_count": null,
      "id": "b1dca873-75c4-48c6-81b8-49e047971820",
      "metadata": {},
      "outputs": [],
      "source": [
        "seoul_sales_people_street_working.info()"
      ]
    },
    {
      "cell_type": "code",
      "execution_count": null,
      "id": "7ae63f2a",
      "metadata": {},
      "outputs": [],
      "source": [
        "seoul_sales_people_street_working.to_csv(\"../data/seoul_sales.csv\", index=False)"
      ]
    },
    {
      "cell_type": "markdown",
      "id": "ad96b68b-5c60-4319-8fab-4041df29560a",
      "metadata": {},
      "source": [
        "## 데이터 전처리\n",
        "> 상관관계 확인  \n",
        "> 각 변수 시각화  "
      ],
      "outputs": [],
      "execution_count": null
    },
    {
      "cell_type": "code",
      "execution_count": null,
      "id": "a18f0911",
      "metadata": {},
      "outputs": [],
      "source": [
        "seoul_data=pd.read_csv(\"../data/seoul_sales.csv\")\n",
        "seoul_data.info()"
      ]
    },
    {
      "cell_type": "markdown",
      "id": "ffe4c173",
      "metadata": {},
      "source": [
        "### 상관관계 확인"
      ],
      "outputs": [],
      "execution_count": null
    },
    {
      "cell_type": "code",
      "execution_count": null,
      "id": "96f19f98",
      "metadata": {},
      "outputs": [],
      "source": [
        "numeric_columns = seoul_data.select_dtypes(include=[\"float64\", \"int64\"])\n",
        "correlation_matrix = numeric_columns.corr()\n",
        "correlation_matrix"
      ]
    },
    {
      "cell_type": "code",
      "execution_count": null,
      "id": "e760adfc",
      "metadata": {},
      "outputs": [],
      "source": [
        "plt.figure(figsize=(12, 8))\n",
        "sns.heatmap(correlation_matrix, annot=True)\n",
        "plt.show()"
      ]
    },
    {
      "cell_type": "markdown",
      "id": "a4faf767",
      "metadata": {},
      "source": [
        "매출금액을 기준으로 상관성을 보면 다음과 같다.  "
      ],
      "outputs": [],
      "execution_count": null
    },
    {
      "cell_type": "code",
      "execution_count": null,
      "id": "cd480c5c",
      "metadata": {},
      "outputs": [],
      "source": [
        "correlation_with_sales = numeric_columns.corr()[\"매출_금액\"].sort_values(ascending=False)\n",
        "correlation_with_sales"
      ]
    },
    {
      "cell_type": "markdown",
      "id": "80f5e342",
      "metadata": {},
      "source": [
        "### 시각화"
      ],
      "outputs": [],
      "execution_count": null
    },
    {
      "cell_type": "markdown",
      "id": "7cb9d9fe",
      "metadata": {},
      "source": [
        "#### 금액관련 변수와 총 매출 금액"
      ],
      "outputs": [],
      "execution_count": null
    },
    {
      "cell_type": "code",
      "execution_count": null,
      "id": "58adf879",
      "metadata": {},
      "outputs": [],
      "source": [
        "list_sales = [\"주중_매출_금액\", \"주말_매출_금액\",\n",
        "              \"남성_매출_금액\", \"여성_매출_금액\",\n",
        "              \"출근_매출_금액\", \"점심_매출_금액\", \"퇴근_매출_금액\"]\n",
        "\n",
        "n_cols = 4\n",
        "n_rows = (len(list_sales) + n_cols - 1) // n_cols\n",
        "\n",
        "fig, axes = plt.subplots(n_rows, n_cols, figsize=(20, 5 * n_rows))\n",
        "axes = axes.flatten()\n",
        "\n",
        "for i, sale in enumerate(list_sales):\n",
        "    sns.scatterplot(x=numeric_columns[sale], y=numeric_columns[\"매출_금액\"], ax=axes[i])\n",
        "    axes[i].set_title(f\"{sale}과 매출_금액\")\n",
        "    axes[i].set_xlabel(sale)\n",
        "    axes[i].set_ylabel(\"매출_금액\")\n",
        "    \n",
        "for j in range(i + 1, len(axes)):\n",
        "    axes[j].axis(\"off\")\n",
        "\n",
        "plt.show()"
      ]
    },
    {
      "cell_type": "markdown",
      "id": "01989d77",
      "metadata": {},
      "source": [
        "#### 직장 인구수와 매출 금액 관계"
      ],
      "outputs": [],
      "execution_count": null
    },
    {
      "cell_type": "code",
      "execution_count": null,
      "id": "5f8ea874",
      "metadata": {},
      "outputs": [],
      "source": [
        "list_population = [\"총_직장_인구_수\", \"여성_직장_인구_수\", \"남성_직장_인구_수\"]\n",
        "\n",
        "n_cols = 3\n",
        "n_rows = (len(list_population) + n_cols - 1) // n_cols\n",
        "\n",
        "fig, axes = plt.subplots(n_rows, n_cols, figsize=(16, 5 * n_rows))\n",
        "axes = axes.flatten()\n",
        "\n",
        "for i, population in enumerate(list_population):\n",
        "    sns.scatterplot(x=numeric_columns[population], y=numeric_columns[\"매출_금액\"], ax=axes[i])\n",
        "    axes[i].set_title(f\"{population}와 매출_금액\")\n",
        "    axes[i].set_xlabel(population)\n",
        "    axes[i].set_ylabel(\"매출_금액\")\n",
        "    \n",
        "for j in range(i + 1, len(axes)):\n",
        "    axes[j].axis(\"off\")\n",
        "\n",
        "plt.tight_layout()\n",
        "plt.show()"
      ]
    },
    {
      "cell_type": "markdown",
      "id": "9d269437",
      "metadata": {},
      "source": [
        "#### 유동 인구수와 매출 금액 관계"
      ],
      "outputs": [],
      "execution_count": null
    },
    {
      "cell_type": "code",
      "execution_count": null,
      "id": "4dfa6527",
      "metadata": {},
      "outputs": [],
      "source": [
        "list_population = [\"총_유동인구_수\", \"여성_유동인구_수\", \"남성_유동인구_수\"]\n",
        "\n",
        "n_cols = 3\n",
        "n_rows = (len(list_population) + n_cols - 1) // n_cols\n",
        "\n",
        "fig, axes = plt.subplots(n_rows, n_cols, figsize=(16, 5 * n_rows))\n",
        "axes = axes.flatten()\n",
        "\n",
        "for i, population in enumerate(list_population):\n",
        "    sns.scatterplot(x=numeric_columns[population], y=numeric_columns[\"매출_금액\"], ax=axes[i])\n",
        "    axes[i].set_title(f\"{population}와 매출_금액\")\n",
        "    axes[i].set_xlabel(population)\n",
        "    axes[i].set_ylabel(\"매출_금액\")\n",
        "    \n",
        "for j in range(i + 1, len(axes)):\n",
        "    axes[j].axis(\"off\")\n",
        "\n",
        "plt.tight_layout()\n",
        "plt.show()"
      ]
    },
    {
      "cell_type": "markdown",
      "id": "e3f7f1d4",
      "metadata": {},
      "source": [
        "#### 상권구분별 매출 금액\n",
        "> 어떤 상권에서의 매출 금액이 가장 높을지  \n",
        "> 어떤 상권에서 소비가 많이 일어나는지(분포)  \n",
        "\n",
        "발달상권에서의 판매가 많이 일어나지만, 관광특구에서의 매출 금액이 더 큼"
      ],
      "outputs": [],
      "execution_count": null
    },
    {
      "cell_type": "code",
      "execution_count": null,
      "id": "e9f0df3e",
      "metadata": {},
      "outputs": [],
      "source": [
        "seoul_data[\"상권_구분_코드_명\"].unique()"
      ]
    },
    {
      "cell_type": "code",
      "execution_count": null,
      "id": "0abc747d",
      "metadata": {},
      "outputs": [],
      "source": [
        "count_by_region = seoul_data.groupby('상권_구분_코드_명').size()\n",
        "count_by_region"
      ]
    },
    {
      "cell_type": "code",
      "execution_count": null,
      "id": "8acd5005",
      "metadata": {},
      "outputs": [],
      "source": [
        "plt.figure(figsize=(10, 6))\n",
        "sns.scatterplot(data=seoul_data, x=\"상권_구분_코드_명\", y=\"매출_금액\")\n",
        "plt.title(\"상권 구분별 매출 금액\")\n",
        "plt.xlabel(\"상권 구분\")\n",
        "plt.ylabel(\"매출 금액\")\n",
        "plt.show()"
      ]
    },
    {
      "cell_type": "code",
      "execution_count": null,
      "id": "8d8c869c",
      "metadata": {},
      "outputs": [],
      "source": [
        "plt.figure(figsize=(10, 6))\n",
        "sns.barplot(data=seoul_data, x=\"상권_구분_코드_명\", y=\"매출_금액\")\n",
        "plt.title(\"상권 구분별 매출 금액\")\n",
        "plt.xlabel(\"상권 구분\")\n",
        "plt.ylabel(\"매출 금액\")\n",
        "plt.show()"
      ]
    },
    {
      "cell_type": "markdown",
      "id": "28bd524f",
      "metadata": {},
      "source": [
        "barplot을보니 관광특구가 너무 높게 나왔다.  \n",
        "이 이유는 다음과 같다.  "
      ],
      "outputs": [],
      "execution_count": null
    },
    {
      "cell_type": "code",
      "execution_count": null,
      "id": "1175bcef",
      "metadata": {},
      "outputs": [],
      "source": [
        "business_district=seoul_data[seoul_data[\"상권_구분_코드_명\"]==\"발달상권\"]\n",
        "business_district[\"매출_금액\"].describe()"
      ]
    },
    {
      "cell_type": "code",
      "execution_count": null,
      "id": "1e787d9e",
      "metadata": {},
      "outputs": [],
      "source": [
        "tourist_region=seoul_data[seoul_data[\"상권_구분_코드_명\"]==\"관광특구\"]\n",
        "tourist_region[\"매출_금액\"].describe()"
      ]
    },
    {
      "cell_type": "markdown",
      "id": "81da6760",
      "metadata": {},
      "source": [
        "먼저 발달상권의 표준편차를 보면 매출의 변동이 상당히 크다.  \n",
        "그리고 중앙값이 평균보다 낮은 것을 보니 매출이 고르게 분포하지 않고 일부 상권에서 높은 매출이 기록됐음을 알 수 있다.  \n",
        "\n",
        "관광특구의 경우는 표준편차를 보니 발달상권보다 표준편차가 상대적으로 큰데,  \n",
        "데이터의 개수가 적기 때문에 변동성이 상대적으로 커보인다.  \n",
        "\n",
        "즉 발달상권은 매출 차이가 매우 커서 평균 매출이 높아지고, 중앙값은 그보다 낮아서 극단적으로 높은 값들이 평균에 영향을 미쳤다.  \n",
        "관광특구의 경우는 매출이 상대적으로 고르게 분포하며, 평균이 발달상권보다 높다.  \n",
        "또한 매출의 차이가 고르게있다.  \n",
        "\n",
        "이에 따라서 평균으로 나오는 barplot에서 관광특구가 훨씬 높게 나온 것이다.  "
      ],
      "outputs": [],
      "execution_count": null
    },
    {
      "cell_type": "markdown",
      "id": "3beee44a",
      "metadata": {},
      "source": [
        "#### 결측치 확인"
      ],
      "outputs": [],
      "execution_count": null
    },
    {
      "cell_type": "code",
      "execution_count": null,
      "id": "cad51bf7",
      "metadata": {},
      "outputs": [],
      "source": [
        "seoul_data.isna().sum()"
      ]
    },
    {
      "cell_type": "markdown",
      "id": "d8cde354",
      "metadata": {},
      "source": [
        "#### 이상치 확인 - 기술통계량"
      ],
      "outputs": [],
      "execution_count": null
    },
    {
      "cell_type": "code",
      "execution_count": null,
      "id": "0b48005e",
      "metadata": {},
      "outputs": [],
      "source": [
        "seoul_data.describe().T"
      ]
    },
    {
      "cell_type": "markdown",
      "id": "da45434e",
      "metadata": {},
      "source": [
        "상권별로 매출이 다를 수밖에 없기 때문에 이상치를 두고 진행한다.  "
      ],
      "outputs": [],
      "execution_count": null
    },
    {
      "cell_type": "markdown",
      "id": "1ef37b30",
      "metadata": {},
      "source": [
        "## CDA\n",
        "\n",
        "상권별로 매출 금액의 차이가 있는가?\n",
        "계절별로 매출 금액의 차이가 있는가?\n"
      ],
      "outputs": [],
      "execution_count": null
    },
    {
      "cell_type": "code",
      "execution_count": null,
      "id": "42fe4afb",
      "metadata": {},
      "outputs": [],
      "source": [
        "sns.histplot(data=tips, x=\"total_bill\", kde=True)"
      ]
    },
    {
      "cell_type": "code",
      "execution_count": null,
      "id": "37cbd223",
      "metadata": {},
      "outputs": [],
      "source": [
        "sns.histplot(data=seoul_data, x=\"매출_금액\", kde=True)"
      ]
    },
    {
      "cell_type": "code",
      "execution_count": null,
      "id": "99ef48f1",
      "metadata": {},
      "outputs": [],
      "source": [
        "stats.normaltest(seoul_data[\"매출_금액\"])"
      ]
    },
    {
      "cell_type": "code",
      "execution_count": null,
      "id": "5c03b37f",
      "metadata": {},
      "outputs": [],
      "source": [
        "seoul_data[\"상권_구분_코드_명\"].value_counts()"
      ]
    },
    {
      "cell_type": "code",
      "execution_count": null,
      "id": "2516b3aa",
      "metadata": {},
      "outputs": [],
      "source": [
        "golmok=seoul_data[seoul_data[\"상권_구분_코드_명\"]==\"골목상권\"]\n",
        "jeontong=seoul_data[seoul_data[\"상권_구분_코드_명\"]==\"전통시장\"]\n",
        "baldal=seoul_data[seoul_data[\"상권_구분_코드_명\"]==\"발달상권\"]\n",
        "gwangwang=seoul_data[seoul_data[\"상권_구분_코드_명\"]==\"관광특구\"]"
      ]
    },
    {
      "cell_type": "code",
      "execution_count": null,
      "id": "e8003d78",
      "metadata": {},
      "outputs": [],
      "source": [
        "stats.kruskal(golmok[\"매출_금액\"],jeontong[\"매출_금액\"],baldal[\"매출_금액\"],gwangwang[\"매출_금액\"])"
      ]
    },
    {
      "cell_type": "code",
      "execution_count": null,
      "id": "01ded178",
      "metadata": {},
      "outputs": [],
      "source": [
        "stats.levene(tips_m[\"tip\"], tips_f[\"tip\"])"
      ]
    }
  ],
  "metadata": {},
  "nbformat": 4,
  "nbformat_minor": 5
}
