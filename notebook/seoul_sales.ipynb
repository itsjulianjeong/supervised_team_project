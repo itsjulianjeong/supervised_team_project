{
  "cells": [
    {
      "cell_type": "code",
      "execution_count": null,
      "id": "89671ff6-7090-422b-90f1-bd1a5db6c70f",
      "metadata": {},
      "outputs": [],
      "source": [
        "# 기본적인 부분\n",
        "import numpy as np\n",
        "import pandas as pd\n",
        "import seaborn as sns\n",
        "import matplotlib.pyplot as plt\n",
        "import matplotlib as mpl\n",
        "mpl.rc(\"font\", family=\"Nanum Gothic\")\n",
        "plt.rcParams[\"axes.unicode_minus\"]=False\n",
        "\n",
        "# 데이터 전처리\n",
        "from sklearn.model_selection import train_test_split\n",
        "from sklearn.preprocessing import StandardScaler\n",
        "from sklearn.preprocessing import PolynomialFeatures\n",
        "\n",
        "# 학습 알고리즘\n",
        "from sklearn.neighbors import KNeighborsRegressor\n",
        "from sklearn.neighbors import KNeighborsClassifier\n",
        "\n",
        "from sklearn.linear_model import LinearRegression\n",
        "from sklearn.linear_model import LogisticRegression\n",
        "from sklearn.linear_model import Ridge, Lasso, ElasticNet\n",
        "\n",
        "from sklearn.metrics import r2_score, mean_squared_error, root_mean_squared_error, mean_absolute_error\n",
        "from sklearn.metrics import classification_report\n",
        "from scipy.special import expit, softmax\n",
        "\n",
        "from sklearn.tree import DecisionTreeClassifier\n",
        "from sklearn.tree import DecisionTreeRegressor\n",
        "from sklearn.tree import plot_tree\n",
        "\n",
        "from sklearn.model_selection import cross_validate\n",
        "from sklearn.model_selection import GridSearchCV\n",
        "\n",
        "from sklearn.model_selection import RandomizedSearchCV\n",
        "from scipy.stats import uniform, randint\n",
        "\n",
        "from sklearn.ensemble import RandomForestClassifier"
      ]
    },
    {
      "cell_type": "markdown",
      "id": "97d6d5da-2037-4bcf-bb19-f41eaaa1c8be",
      "metadata": {},
      "source": [
        "# 서울시 요식업 매출 예측"
      ],
      "outputs": [],
      "execution_count": null
    },
    {
      "cell_type": "markdown",
      "id": "9d7801b6-d900-4d48-97eb-31e885a7a4b9",
      "metadata": {},
      "source": [
        "## 데이터 불러오기 및 결합"
      ],
      "outputs": [],
      "execution_count": null
    },
    {
      "cell_type": "markdown",
      "id": "be5711b1-149c-464e-9be3-7b19a10c0266",
      "metadata": {},
      "source": [
        "### 서울시 상권 추정매출  "
      ],
      "outputs": [],
      "execution_count": null
    },
    {
      "cell_type": "code",
      "execution_count": null,
      "id": "9c548712-3e95-4ffb-a145-cf0855f5020a",
      "metadata": {},
      "outputs": [],
      "source": [
        "seoul_sales=pd.read_csv(\"../data/서울시 상권분석서비스(추정매출-상권).csv\", encoding=\"cp949\")\n",
        "seoul_sales.shape"
      ]
    },
    {
      "cell_type": "code",
      "execution_count": null,
      "id": "128dd5d0-d0d3-489d-a515-81000ec4cb84",
      "metadata": {},
      "outputs": [],
      "source": [
        "seoul_sales.info()"
      ]
    },
    {
      "cell_type": "code",
      "execution_count": null,
      "id": "9e96fed0-2b54-417a-981c-9545f7d4adb1",
      "metadata": {},
      "outputs": [],
      "source": [
        "seoul_sales"
      ]
    },
    {
      "cell_type": "code",
      "execution_count": null,
      "id": "b9ccfad7-72e9-43a9-839d-b90591a8b329",
      "metadata": {},
      "outputs": [],
      "source": [
        "seoul_sales_copy=seoul_sales.copy()"
      ]
    },
    {
      "cell_type": "code",
      "execution_count": null,
      "id": "7fe36d38-b930-4dc9-863e-c5074aad1e4b",
      "metadata": {},
      "outputs": [],
      "source": [
        "seoul_restaurant_sales = seoul_sales_copy[seoul_sales_copy[\"서비스_업종_코드\"].str.startswith(\"CS1\")]  # 요식업\n",
        "seoul_restaurant_sales.head()"
      ]
    },
    {
      "cell_type": "markdown",
      "id": "25420c8a-1fcd-4a89-bc57-5755e956c70d",
      "metadata": {},
      "source": [
        "### 서울시 상권 유동인구"
      ],
      "outputs": [],
      "execution_count": null
    },
    {
      "cell_type": "code",
      "execution_count": null,
      "id": "562b1f7a-f23b-4b1e-a2d0-ed0ef6b4d6f8",
      "metadata": {},
      "outputs": [],
      "source": [
        "seoul_street_people=pd.read_csv(\"../data/서울시 상권분석서비스(길단위인구-상권).csv\", encoding=\"cp949\")\n",
        "seoul_street_people.shape"
      ]
    },
    {
      "cell_type": "code",
      "execution_count": null,
      "id": "c7948592-0614-496b-8831-5b76a1b06fd2",
      "metadata": {},
      "outputs": [],
      "source": [
        "seoul_street_people.info()"
      ]
    },
    {
      "cell_type": "code",
      "execution_count": null,
      "id": "57dda022-af72-4fc5-808e-7c18adb98f9d",
      "metadata": {},
      "outputs": [],
      "source": [
        "seoul_street_people.head()"
      ]
    },
    {
      "cell_type": "markdown",
      "id": "0fb2e8b7-0886-4c50-a435-a932031b9a80",
      "metadata": {},
      "source": [
        "### 서울시 상권 직장인구"
      ],
      "outputs": [],
      "execution_count": null
    },
    {
      "cell_type": "code",
      "execution_count": null,
      "id": "9dab5857-355c-4652-976b-07eda0da79f3",
      "metadata": {},
      "outputs": [],
      "source": [
        "seoul_working_people=pd.read_csv(\"../data/서울시 상권분석서비스(직장인구-상권).csv\", encoding=\"cp949\")\n",
        "seoul_working_people.shape"
      ]
    },
    {
      "cell_type": "code",
      "execution_count": null,
      "id": "c3845ae1-5174-44d1-a0f4-f69d01254ac3",
      "metadata": {},
      "outputs": [],
      "source": [
        "seoul_working_people.info()"
      ]
    },
    {
      "cell_type": "code",
      "execution_count": null,
      "id": "8a96ae77-d5d7-4f71-b544-ac11ce341c43",
      "metadata": {},
      "outputs": [],
      "source": [
        "seoul_working_people.head()"
      ]
    },
    {
      "cell_type": "markdown",
      "id": "971c1085-2d4a-466c-99a2-e597a947c8a5",
      "metadata": {},
      "source": [
        "### 데이터 병합\n",
        "> 서울시 추정매출: 서비스 업종 별로 나누기 -> 상권별로 서비스 업종의 매출관련 정보  \n",
        "> 서울시 유동인구 및 직장인구: 상권별로 인구관련 정보  "
      ],
      "outputs": [],
      "execution_count": null
    },
    {
      "cell_type": "code",
      "execution_count": null,
      "id": "82b763d3-c102-493b-8b69-aed69a0d68e4",
      "metadata": {},
      "outputs": [],
      "source": [
        "seoul_restaurant_sales[\"서비스_업종_코드_명\"].unique()"
      ]
    },
    {
      "cell_type": "code",
      "execution_count": null,
      "id": "c76da472-9aac-4355-9aa0-ac2e56ac1d94",
      "metadata": {},
      "outputs": [],
      "source": [
        "seoul_restaurant_list = seoul_restaurant_sales[\"서비스_업종_코드_명\"].unique()\n",
        "\n",
        "results_with_working_population = {}\n",
        "\n",
        "for restaurant in seoul_restaurant_list:\n",
        "    temp_df = seoul_restaurant_sales[seoul_restaurant_sales[\"서비스_업종_코드_명\"] == restaurant]\n",
        "    \n",
        "    # 평균매출\n",
        "    mean_sales = temp_df.groupby([\"상권_코드_명\", \"기준_년분기_코드\"])[[\"당월_매출_금액\", \"월요일_매출_금액\", \"화요일_매출_금액\", \"수요일_매출_금액\",\n",
        "                                                            \"목요일_매출_금액\", \"금요일_매출_금액\", \"토요일_매출_금액\", \"일요일_매출_금액\"]].mean().reset_index()\n",
        "    mean_sales.rename(columns={\"당월_매출_금액\": \"평균매출\"}, inplace=True)\n",
        "    \n",
        "    # 유동인구 데이터와 병합\n",
        "    merged = pd.merge(mean_sales, seoul_street_people, on=[\"상권_코드_명\", \"기준_년분기_코드\"], how=\"left\")\n",
        "    # 직장인구 데이터와 병합\n",
        "    merged_with_working = pd.merge(merged, seoul_working_people, on=[\"상권_코드_명\", \"기준_년분기_코드\"], how=\"left\")\n",
        "    \n",
        "    # 음식점별로 묶기 (한식음식점 데이터프레임, 중식음식점 데이터프레임, ... )\n",
        "    results_with_working_population[restaurant] = merged_with_working"
      ]
    },
    {
      "cell_type": "code",
      "execution_count": null,
      "id": "b90c8d9a-2d15-46fb-a9f4-530419d9139e",
      "metadata": {},
      "outputs": [],
      "source": [
        "results_with_working_population"
      ]
    },
    {
      "cell_type": "code",
      "execution_count": null,
      "id": "bd7d78a2-57b0-48eb-af3c-9510b32406ed",
      "metadata": {},
      "outputs": [],
      "source": [
        "keys=results_with_working_population.keys()\n",
        "keys"
      ]
    },
    {
      "cell_type": "code",
      "execution_count": null,
      "id": "c85adda8-5962-47c9-93e3-fd580c1f96a2",
      "metadata": {},
      "outputs": [],
      "source": [
        "values=results_with_working_population.values()\n",
        "values"
      ]
    },
    {
      "cell_type": "code",
      "execution_count": null,
      "id": "ed29d94a-389b-4d6b-b36a-dccbf47ba372",
      "metadata": {},
      "outputs": [],
      "source": [
        "items=results_with_working_population.items()\n",
        "items"
      ]
    },
    {
      "cell_type": "code",
      "execution_count": null,
      "id": "b1553978-e2f3-45e2-8535-01e5c2a57bca",
      "metadata": {},
      "outputs": [],
      "source": [
        "# 음식점 이름을 인덱스로 설정\n",
        "for restaurant, df in results_with_working_population.items():\n",
        "    df[\"음식점\"] = restaurant\n",
        "\n",
        "seoul_restaurants = pd.concat(results_with_working_population.values(), ignore_index=True)\n",
        "seoul_restaurants"
      ]
    },
    {
      "cell_type": "markdown",
      "id": "1741f425-cb98-4853-8547-5be5ac3bfdad",
      "metadata": {},
      "source": [
        "### 1차 컬럼 정리"
      ],
      "outputs": [],
      "execution_count": null
    },
    {
      "cell_type": "code",
      "execution_count": null,
      "id": "bce5d073-ed02-4811-ab5b-0c97be9a2faf",
      "metadata": {},
      "outputs": [],
      "source": [
        "seoul_restaurants.columns"
      ]
    },
    {
      "cell_type": "code",
      "execution_count": null,
      "id": "afd1ea19-329f-423c-b1b4-c06c68475a77",
      "metadata": {},
      "outputs": [],
      "source": [
        "seoul_restaurants[\"초년_유동인구_수\"] = (seoul_restaurants[\"연령대_10_유동인구_수\"] + seoul_restaurants[\"연령대_20_유동인구_수\"])\n",
        "seoul_restaurants[\"중년_유동인구_수\"] = (seoul_restaurants[\"연령대_30_유동인구_수\"] + seoul_restaurants[\"연령대_40_유동인구_수\"])\n",
        "seoul_restaurants[\"노년_유동인구_수\"] = (seoul_restaurants[\"연령대_50_유동인구_수\"] + seoul_restaurants[\"연령대_60_이상_유동인구_수\"])\n",
        "\n",
        "seoul_restaurants[\"초년_직장_인구_수\"] = (seoul_restaurants[\"연령대_10_직장_인구_수\"] + seoul_restaurants[\"연령대_20_직장_인구_수\"])\n",
        "seoul_restaurants[\"중년_직장_인구_수\"] = (seoul_restaurants[\"연령대_30_직장_인구_수\"] + seoul_restaurants[\"연령대_40_직장_인구_수\"])\n",
        "seoul_restaurants[\"노년_직장_인구_수\"] = (seoul_restaurants[\"연령대_50_직장_인구_수\"] + seoul_restaurants[\"연령대_60_이상_직장_인구_수\"])\n",
        "\n",
        "columns_to_drop=[\"상권_구분_코드_y\", \"상권_구분_코드_명_y\", \"상권_코드_y\", \n",
        "                 \"상권_구분_코드_x\", \"상권_코드_x\", \n",
        "                 \"월요일_유동인구_수\", \"화요일_유동인구_수\", \"수요일_유동인구_수\", \"목요일_유동인구_수\", \n",
        "                 \"금요일_유동인구_수\", \"토요일_유동인구_수\", \"일요일_유동인구_수\", \n",
        "                 \"연령대_10_유동인구_수\", \"연령대_20_유동인구_수\", \"연령대_30_유동인구_수\", \n",
        "                 \"연령대_40_유동인구_수\", \"연령대_50_유동인구_수\", \"연령대_60_이상_유동인구_수\", \n",
        "                 \"연령대_10_직장_인구_수\", \"연령대_20_직장_인구_수\", \"연령대_30_직장_인구_수\", \n",
        "                 \"연령대_40_직장_인구_수\", \"연령대_50_직장_인구_수\", \"연령대_60_이상_직장_인구_수\", \n",
        "                 \"시간대_00_06_유동인구_수\", \"시간대_06_11_유동인구_수\", \"시간대_11_14_유동인구_수\", \n",
        "                 \"시간대_14_17_유동인구_수\", \"시간대_17_21_유동인구_수\", \"시간대_21_24_유동인구_수\", \n",
        "                 \"남성연령대_10_직장_인구_수\", \"남성연령대_20_직장_인구_수\", \"남성연령대_30_직장_인구_수\", \n",
        "                 \"남성연령대_40_직장_인구_수\", \"남성연령대_50_직장_인구_수\", \"남성연령대_60_이상_직장_인구_수\", \n",
        "                 \"여성연령대_10_직장_인구_수\", \"여성연령대_20_직장_인구_수\", \"여성연령대_30_직장_인구_수\", \n",
        "                 \"여성연령대_40_직장_인구_수\", \"여성연령대_50_직장_인구_수\", \"여성연령대_60_이상_직장_인구_수\"]\n",
        "\n",
        "seoul_restaurants_drop = seoul_restaurants.drop(columns=columns_to_drop)\n",
        "seoul_restaurants_drop.columns = seoul_restaurants_drop.columns.str.replace(\"_x\", \"\")\n",
        "seoul_restaurants_drop.info()"
      ]
    },
    {
      "cell_type": "code",
      "execution_count": null,
      "id": "5f1efbb0-dcdb-404a-bd0a-d365b131e7ff",
      "metadata": {},
      "outputs": [],
      "source": [
        "missing_rows = seoul_restaurants_drop[seoul_restaurants_drop.isnull().any(axis=1)]\n",
        "missing_rows"
      ]
    },
    {
      "cell_type": "markdown",
      "id": "d212b0c1-52a4-4218-836d-97341c407ffa",
      "metadata": {},
      "source": [
        "결측치들 확인해보니 유동인구, 직장인구 등이 없는 부분이 있어서 결측치 존재했음  \n",
        "제거하기  "
      ],
      "outputs": [],
      "execution_count": null
    },
    {
      "cell_type": "code",
      "execution_count": null,
      "id": "ea8028fb-a1b4-4357-9f1a-d509844860d4",
      "metadata": {},
      "outputs": [],
      "source": [
        "final_seoul_restaurants=seoul_restaurants_drop.copy()"
      ]
    },
    {
      "cell_type": "code",
      "execution_count": null,
      "id": "1520d6d8-02bd-4abe-b71b-656bb4ebe4cc",
      "metadata": {},
      "outputs": [],
      "source": [
        "final_seoul_restaurants=final_seoul_restaurants.dropna()\n",
        "final_seoul_restaurants.info()"
      ]
    },
    {
      "cell_type": "markdown",
      "id": "43069230-475b-4913-a916-7b995c1487eb",
      "metadata": {},
      "source": [
        "> 2차 column 정리"
      ],
      "outputs": [],
      "execution_count": null
    },
    {
      "cell_type": "code",
      "execution_count": null,
      "id": "be9268d3-ec35-4c2d-a442-703450cccea4",
      "metadata": {},
      "outputs": [],
      "source": [
        "final_seoul_restaurants.columns"
      ]
    },
    {
      "cell_type": "code",
      "execution_count": null,
      "id": "0950be58-9375-4602-8e85-136c15d5bfc9",
      "metadata": {},
      "outputs": [],
      "source": [
        "final_seoul_restaurants = final_seoul_restaurants[[\"기준_년분기_코드\", \"상권_구분_코드_명\", \"상권_코드_명\", \"음식점\", \"평균매출\",\n",
        "                                                   \"월요일_매출_금액\", \"화요일_매출_금액\", \"수요일_매출_금액\", \"목요일_매출_금액\",\n",
        "                                                   \"금요일_매출_금액\", \"토요일_매출_금액\", \"일요일_매출_금액\",\n",
        "                                                   \"총_유동인구_수\", \"남성_유동인구_수\", \"여성_유동인구_수\", \n",
        "                                                   \"초년_유동인구_수\", \"중년_유동인구_수\", \"노년_유동인구_수\", \n",
        "                                                   \"총_직장_인구_수\", \"남성_직장_인구_수\", \"여성_직장_인구_수\",\n",
        "                                                   \"초년_직장_인구_수\", \"중년_직장_인구_수\", \"노년_직장_인구_수\"]]"
      ]
    },
    {
      "cell_type": "code",
      "execution_count": null,
      "id": "b4f43df0-aa15-4475-85ff-6373094aa070",
      "metadata": {},
      "outputs": [],
      "source": [
        "final_seoul_restaurants"
      ]
    },
    {
      "cell_type": "code",
      "execution_count": null,
      "id": "fd80998e-66a4-4a5a-bb02-550464ad022b",
      "metadata": {},
      "outputs": [],
      "source": [
        "final_seoul_restaurants.info()"
      ]
    },
    {
      "cell_type": "markdown",
      "id": "21a9f648-4d41-4e04-8352-4b436778fe7e",
      "metadata": {},
      "source": [
        "음식점 -> 원핫인코딩"
      ],
      "outputs": [],
      "execution_count": null
    },
    {
      "cell_type": "code",
      "execution_count": null,
      "id": "d1f194ba-989a-41c0-aa9e-a8deeccc783d",
      "metadata": {},
      "outputs": [],
      "source": [
        "final_seoul_restaurants.columns"
      ]
    },
    {
      "cell_type": "code",
      "execution_count": null,
      "id": "cc4ba0d6-bcbc-4215-9fe5-ee313028332e",
      "metadata": {},
      "outputs": [],
      "source": [
        "final_seoul_restaurants = pd.get_dummies(final_seoul_restaurants, columns=[\"음식점\"], drop_first=False)\n",
        "final_seoul_restaurants = pd.get_dummies(final_seoul_restaurants, columns=[\"상권_구분_코드_명\"], drop_first=False)\n",
        "final_seoul_restaurants.info()"
      ]
    },
    {
      "cell_type": "code",
      "execution_count": null,
      "id": "cdb202c6-d11c-44cb-bd76-1b718a15c7dc",
      "metadata": {},
      "outputs": [],
      "source": [
        "final_seoul_restaurants_copy=final_seoul_restaurants.copy()"
      ]
    },
    {
      "cell_type": "code",
      "execution_count": null,
      "id": "d7b53d4a-ca62-4733-8c24-b6288bac2aac",
      "metadata": {},
      "outputs": [],
      "source": [
        "restaurants_final_numeric = final_seoul_restaurants_copy.select_dtypes(include=[\"float64\", \"int64\", \"bool\"])\n",
        "corr_matrix = restaurants_final_numeric.corr()\n",
        "corr_matrix"
      ]
    },
    {
      "cell_type": "code",
      "execution_count": null,
      "id": "c59cf9cf-0b67-4a5c-9a80-332d86d70a00",
      "metadata": {},
      "outputs": [],
      "source": [
        "plt.figure(figsize=(18, 12))\n",
        "sns.heatmap(corr_matrix, annot=True)\n",
        "plt.show()"
      ]
    },
    {
      "cell_type": "code",
      "execution_count": null,
      "id": "9d575fed-b962-4b81-86d5-8491af49f97f",
      "metadata": {},
      "outputs": [],
      "source": [
        "correlation_matrix = corr_matrix.corr()[\"평균매출\"]\n",
        "correlation_matrix_sorted = correlation_matrix.sort_values(ascending=False)\n",
        "correlation_matrix_sorted"
      ]
    },
    {
      "cell_type": "code",
      "execution_count": null,
      "id": "f8b71669-30ec-4cc0-a6d4-affd3b2e5d61",
      "metadata": {},
      "outputs": [],
      "source": [
        "final_seoul_restaurants_copy.to_csv(\"../data/seoul_sales_data.csv\", index=False)"
      ]
    },
    {
      "cell_type": "markdown",
      "id": "2188e36e-0392-423a-ba51-b88829cc8647",
      "metadata": {},
      "source": [
        "## 시각화 및 분석"
      ],
      "outputs": [],
      "execution_count": null
    },
    {
      "cell_type": "code",
      "execution_count": null,
      "id": "e8472276-b6fd-4464-8a58-8ae07dc7d0ba",
      "metadata": {},
      "outputs": [],
      "source": [
        "# seoul_sales_data.csv 파일을 읽어서 데이터프레임으로 저장\n",
        "csv_path = \"../data/seoul_sales_data.csv\"\n",
        "df_seoul = pd.read_csv(csv_path)"
      ]
    },
    {
      "cell_type": "markdown",
      "id": "eb288808-efc7-4823-9360-d8cd690059cb",
      "metadata": {},
      "source": [
        "### 주요 변수 간 상관관계 히트맵"
      ],
      "outputs": [],
      "execution_count": null
    },
    {
      "cell_type": "code",
      "execution_count": null,
      "id": "123afca9-a582-40c7-a7ee-954d4ec5647a",
      "metadata": {},
      "outputs": [],
      "source": [
        "# 평균매출과 유동인구/직장인구/연령대별 인구 간의 상관관계를 분석하고 시각화\n",
        "# 수치형 변수 중 주요 변수만 추려서\n",
        "corr = df_seoul[[\"평균매출\", \"총_유동인구_수\", \"총_직장_인구_수\", \"남성_유동인구_수\", \"여성_유동인구_수\", \"초년_유동인구_수\", \"중년_유동인구_수\", \"노년_유동인구_수\"]].corr()\n",
        "\n",
        "plt.figure(figsize=(10, 8))\n",
        "sns.heatmap(corr, annot=True, cmap=\"Reds\", fmt=\".2f\", square=True)\n",
        "plt.title(\"주요 변수 간 상관관계 히트맵\")\n",
        "plt.show()"
      ]
    },
    {
      "cell_type": "markdown",
      "id": "f20b38b0-5c25-4de5-8f08-2d76be963f13",
      "metadata": {},
      "source": [
        "- 분석 목적 : 평균매출과 유동/직장/성별/연령별 인구 변수들 간의 관계를 파악하기 위해\n",
        "- 분석 결과 : 요일별 매출 금액과의 상관관계가 가장 높으며, 총직장인구, 성별 직장인구와도 중간 정도의 양의 상관관계를 보임"
      ],
      "outputs": [],
      "execution_count": null
    },
    {
      "cell_type": "markdown",
      "id": "6d922907-20b7-40fe-a967-6b2a9811a93d",
      "metadata": {},
      "source": [
        "### 평균 매출 기준 시각화"
      ],
      "outputs": [],
      "execution_count": null
    },
    {
      "cell_type": "markdown",
      "id": "4135e877-bf0f-4791-beac-d500fe69dcee",
      "metadata": {},
      "source": [
        "#### 요일별 평균 매출\n",
        "- **분석 목적:** 어떤 요일에 매출이 높은지를 파악하기 위해.\n",
        "- **분석 결과:** 금~토요일 매출이 높으며, 주말 매출이 평일보다 더 큼."
      ],
      "outputs": [],
      "execution_count": null
    },
    {
      "cell_type": "code",
      "execution_count": null,
      "id": "92ed9a0f-6fdd-4bb2-9b6f-4625bf3cdb9a",
      "metadata": {},
      "outputs": [],
      "source": [
        "# 각 요일별 매출 평균을 계산한 후, 매출이 높은 순서대로 막대그래프로 시각화\n",
        "weekday_sales = df_seoul[[\n",
        "    \"월요일_매출_금액\", \"화요일_매출_금액\", \"수요일_매출_금액\",\n",
        "    \"목요일_매출_금액\", \"금요일_매출_금액\", \"토요일_매출_금액\", \"일요일_매출_금액\"\n",
        "]].mean()\n",
        "\n",
        "# 내림차순 정렬\n",
        "weekday_sales_sorted = weekday_sales.sort_values(ascending=False)\n",
        "\n",
        "weekday_sales_sorted.plot(kind=\"bar\")\n",
        "plt.title(\"요일별 평균 매출 (내림차순)\")\n",
        "plt.ylabel(\"매출 금액\")\n",
        "plt.xticks(rotation=45)\n",
        "plt.grid(axis='y')\n",
        "plt.show()"
      ]
    },
    {
      "cell_type": "markdown",
      "id": "f08b61e9-91ce-4c26-919b-e46c09e67d36",
      "metadata": {},
      "source": [
        "#### 음식점 유형별 평균 매출\n",
        "- **분석 목적:** 업종별로 매출이 얼마나 차이 나는지 확인하기 위해.\n",
        "- **분석 결과:** 한식, 양식, 호프/간이주점 업종의 매출이 상대적으로 높게 나타남."
      ],
      "outputs": [],
      "execution_count": null
    },
    {
      "cell_type": "code",
      "execution_count": null,
      "id": "3f1cf95e-b5b9-42c7-878c-7ec8618210d6",
      "metadata": {},
      "outputs": [],
      "source": [
        "# '음식점_'으로 시작하는 컬럼명을 찾아서 각 업종에 해당하는 평균 매출 계산\n",
        "음식점_컬럼들 = [col for col in df_seoul.columns if col.startswith(\"음식점_\")]\n",
        "\n",
        "음식점_매출 = {\n",
        "    col.replace(\"음식점_\", \"\"): df_seoul.loc[df_seoul[col] == True, \"평균매출\"].mean()\n",
        "    for col in 음식점_컬럼들\n",
        "}\n",
        "\n",
        "# 내림차순 정렬\n",
        "정렬된_음식점 = sorted(음식점_매출.items(), key=lambda x: x[1], reverse=True)\n",
        "\n",
        "sns.barplot(\n",
        "    x=[x[1] for x in 정렬된_음식점],\n",
        "    y=[x[0] for x in 정렬된_음식점]\n",
        ")\n",
        "plt.title(\"음식점 유형별 평균 매출 (내림차순)\")\n",
        "plt.xlabel(\"평균 매출\")\n",
        "plt.ylabel(\"음식점 유형\")\n",
        "plt.show()"
      ]
    },
    {
      "cell_type": "markdown",
      "id": "919328c7-4ff7-417c-81cc-4bb30d3fe422",
      "metadata": {},
      "source": [
        "#### 상권 유형별 평균 매출\n",
        "- **분석 목적:** 상권의 종류에 따라 매출이 어떻게 달라지는지 확인.\n",
        "- **분석 결과:** 관광특구, 발달상권의 매출이 높고, 골목상권이 가장 낮음."
      ],
      "outputs": [],
      "execution_count": null
    },
    {
      "cell_type": "code",
      "execution_count": null,
      "id": "e30cd810-6052-405f-8139-917bcac1b0ac",
      "metadata": {},
      "outputs": [],
      "source": [
        "# 상권 구분 코드명에 따른 매출 평균을 계산\n",
        "상권_컬럼들 = [col for col in df_seoul.columns if col.startswith(\"상권_구분_코드_명_\")]\n",
        "\n",
        "상권_매출 = {\n",
        "    col.replace(\"상권_구분_코드_명_\", \"\"): df_seoul.loc[df_seoul[col] == True, \"평균매출\"].mean()\n",
        "    for col in 상권_컬럼들\n",
        "}\n",
        "\n",
        "# 내림차순 정렬\n",
        "정렬된_상권 = sorted(상권_매출.items(), key=lambda x: x[1], reverse=True)\n",
        "\n",
        "sns.barplot(\n",
        "    x=[x[0] for x in 정렬된_상권],\n",
        "    y=[x[1] for x in 정렬된_상권]\n",
        ")\n",
        "plt.title(\"상권 유형별 평균 매출 (내림차순)\")\n",
        "plt.ylabel(\"평균 매출\")\n",
        "plt.xlabel(\"상권 유형\")\n",
        "plt.show()"
      ]
    },
    {
      "cell_type": "markdown",
      "id": "62423c45-0883-4b7d-a445-b14761e62061",
      "metadata": {},
      "source": [
        "#### 유동인구별 평균 매출\n",
        "- **분석 목적:** 상권에 유입되는 전체 인구 수가 매출에 미치는 영향 확인.\n",
        "- **분석 결과:** 약한 양의 상관관계가 존재하지만, 완전히 선형적이지는 않음."
      ],
      "outputs": [],
      "execution_count": null
    },
    {
      "cell_type": "code",
      "execution_count": null,
      "id": "0077d6ef-f8b8-4aa2-bde2-209f85e9f3f1",
      "metadata": {},
      "outputs": [],
      "source": [
        "# 총 유동인구 수와 평균 매출 간의 관계를 시각화\n",
        "plt.scatter(df_seoul[\"총_유동인구_수\"], df_seoul[\"평균매출\"])\n",
        "plt.title(\"총 유동인구 vs 평균 매출\")\n",
        "plt.xlabel(\"총 유동인구 수\")\n",
        "plt.ylabel(\"평균 매출\")\n",
        "plt.grid(True)\n",
        "plt.show()"
      ]
    },
    {
      "cell_type": "markdown",
      "id": "1cf9f1db-ed8e-460e-a83d-4599cf69517c",
      "metadata": {},
      "source": [
        "#### 연령대 + 유동인구별 평균 매출\n",
        "- **분석 목적:** 연령대에 따른 유동인구 수가 매출에 미치는 영향 분석.\n",
        "- **분석 결과:** 중년층(30대)의 유동인구가 많을수록 매출이 높은 경향이 있음."
      ],
      "outputs": [],
      "execution_count": null
    },
    {
      "cell_type": "code",
      "execution_count": null,
      "id": "16d5d371-7a29-4b37-8771-edbdddf74f37",
      "metadata": {},
      "outputs": [],
      "source": [
        "# 연령대별 유동인구(초년, 중년, 노년)와 평균 매출의 관계를 산점도로 시각화\n",
        "plt.scatter(df_seoul[\"초년_유동인구_수\"], df_seoul[\"평균매출\"], alpha=0.4, label=\"10대\", s=10)\n",
        "plt.scatter(df_seoul[\"중년_유동인구_수\"], df_seoul[\"평균매출\"], alpha=0.4, label=\"30대\", s=10)\n",
        "plt.scatter(df_seoul[\"노년_유동인구_수\"], df_seoul[\"평균매출\"], alpha=0.4, label=\"50대+\", s=10)\n",
        "plt.title(\"연령대별 유동인구 vs 평균 매출\")\n",
        "plt.xlabel(\"유동인구 수\")\n",
        "plt.ylabel(\"평균 매출\")\n",
        "plt.legend()\n",
        "plt.grid(True)\n",
        "plt.show()"
      ]
    },
    {
      "cell_type": "markdown",
      "id": "7c73795d-f356-46cc-82f3-d5e7bb00b842",
      "metadata": {},
      "source": [
        "#### 총 직장인구별 평균 매출 \n",
        "- **분석 목적:** 직장인 수가 많은 지역이 매출에도 영향을 미치는지 확인.\n",
        "- **분석 결과:** 유동인구보다 직장인구와 매출 간 상관관계가 조금 더 강하게 나타남.\n"
      ],
      "outputs": [],
      "execution_count": null
    },
    {
      "cell_type": "code",
      "execution_count": null,
      "id": "164a3785-ee89-4c17-92af-7df5164e8947",
      "metadata": {},
      "outputs": [],
      "source": [
        "# 총 직장인구 수와 평균 매출 간의 관계를 시각화\n",
        "plt.scatter(df_seoul[\"총_직장_인구_수\"], df_seoul[\"평균매출\"], alpha=0.4)\n",
        "plt.title(\"총 직장인구 vs 평균 매출\")\n",
        "plt.xlabel(\"총 직장인구 수\")\n",
        "plt.ylabel(\"평균 매출\")\n",
        "plt.grid(True)\n",
        "plt.show()"
      ]
    },
    {
      "cell_type": "markdown",
      "id": "fefba237-c121-4273-a77c-59c635974f62",
      "metadata": {},
      "source": [
        "#### 성별 유동인구별 평균 매출\n",
        "- **분석 목적** : 남성/여성 유동인구 수가 매출에 어떤 영향을 주는지 확인하기 위해\n",
        "- **분석 결과** : 여성 유동인구가 많은 지역에서 평균 매출이 더 높은 경향을 보임"
      ],
      "outputs": [],
      "execution_count": null
    },
    {
      "cell_type": "code",
      "execution_count": null,
      "id": "17a969b3-b037-4a51-be03-c257af7fe7ca",
      "metadata": {},
      "outputs": [],
      "source": [
        "# 남성과 여성 유동인구 수와 평균 매출 간의 관계를 각각 시각화\n",
        "plt.scatter(df_seoul[\"남성_유동인구_수\"], df_seoul[\"평균매출\"], alpha=0.4, label=\"남성\")\n",
        "plt.scatter(df_seoul[\"여성_유동인구_수\"], df_seoul[\"평균매출\"], alpha=0.2, color=\"hotpink\", label=\"여성\")\n",
        "plt.title(\"성별 유동인구 vs 평균 매출\")\n",
        "plt.xlabel(\"유동인구 수\")\n",
        "plt.ylabel(\"평균 매출\")\n",
        "plt.legend()\n",
        "plt.grid(True)\n",
        "plt.show()"
      ]
    },
    {
      "cell_type": "markdown",
      "id": "828c23f7-3cc5-49f5-aa32-2199c100460e",
      "metadata": {},
      "source": [
        "### 변수 중심 관계 분석"
      ],
      "outputs": [],
      "execution_count": null
    },
    {
      "cell_type": "code",
      "execution_count": null,
      "id": "ba44120d-b879-4ca7-81fb-f41c9d8c557f",
      "metadata": {},
      "outputs": [],
      "source": [
        "print(df_seoul.columns.tolist())"
      ]
    },
    {
      "cell_type": "markdown",
      "id": "17f8e16a-1085-4066-9866-86af6a3d0fed",
      "metadata": {},
      "source": [
        "#### 상권별 매출 분포"
      ],
      "outputs": [],
      "execution_count": null
    },
    {
      "cell_type": "code",
      "execution_count": null,
      "id": "a9cee3e0-4482-456b-aada-82e6b0f86003",
      "metadata": {},
      "outputs": [],
      "source": [
        "# melt로 긴 형식으로 바꿔주기\n",
        "temp_df = pd.DataFrame()\n",
        "\n",
        "for col in [c for c in df_seoul.columns if c.startswith(\"상권_구분_코드_명_\")]:\n",
        "    상권명 = col.replace(\"상권_구분_코드_명_\", \"\")\n",
        "    temp = df_seoul[df_seoul[col] == True].copy()\n",
        "    temp[\"상권유형\"] = 상권명\n",
        "    temp_df = pd.concat([temp_df, temp])\n",
        "\n",
        "sns.boxplot(x=\"상권유형\", y=\"평균매출\", data=temp_df)\n",
        "plt.title(\"상권 유형별 평균 매출 분포\")\n",
        "plt.xticks(rotation=30)\n",
        "plt.show()"
      ]
    },
    {
      "cell_type": "markdown",
      "id": "f1383f6f-3275-4f0e-9ff1-119850fa9e7e",
      "metadata": {},
      "source": [
        "#### 연령대별 유동인구 평균값\n",
        "- **분석 목적:** 연령대에 따른 유동인구 수가 매출에 미치는 영향 분석.\n",
        "- **분석 결과:** 중년층(30대)의 유동인구가 많을수록 매출이 높은 경향이 있음."
      ],
      "outputs": [],
      "execution_count": null
    },
    {
      "cell_type": "code",
      "execution_count": null,
      "id": "4a60deab-888a-45ee-b90a-4cbe9a8065ed",
      "metadata": {},
      "outputs": [],
      "source": [
        "# 연령대별 유동인구 평균값을 구하고, 내림차순으로 막대그래프로 시각화\n",
        "연령대_유동인구 = {\n",
        "    \"10대\": df_seoul[\"초년_유동인구_수\"].mean(),\n",
        "    \"30대\": df_seoul[\"중년_유동인구_수\"].mean(),\n",
        "    \"50대+\": df_seoul[\"노년_유동인구_수\"].mean()\n",
        "}\n",
        "\n",
        "# 내림차순 정렬\n",
        "정렬된_연령대 = dict(sorted(연령대_유동인구.items(), key=lambda x: x[1], reverse=True))\n",
        "\n",
        "plt.bar(정렬된_연령대.keys(), 정렬된_연령대.values(), color=[\"darkorange\", \"darkgreen\", \"darkblue\"])\n",
        "plt.title(\"연령대별 유동인구 평균 (내림차순)\")\n",
        "plt.ylabel(\"유동인구 수\")\n",
        "plt.show()"
      ]
    },
    {
      "cell_type": "markdown",
      "id": "d8c7a6fe-ff9d-45f4-9a71-2cef31f6560b",
      "metadata": {},
      "source": [
        "#### 성별 유동인구 평균값\n",
        "- **분석 목적:** 남성/여성 유동인구 수와 매출 간 관계를 확인.\n",
        "- **분석 결과:** 여성 유동인구가 많은 지역에서 매출이 다소 높은 경향을 보임."
      ],
      "outputs": [],
      "execution_count": null
    },
    {
      "cell_type": "code",
      "execution_count": null,
      "id": "d1c8c405-e8c1-4636-93cf-0f1dce57f8d1",
      "metadata": {},
      "outputs": [],
      "source": [
        "# 남성과 여성의 유동인구 평균값을 비교하고 시각화\n",
        "성별_유동인구 = {\n",
        "    \"남성\": df_seoul[\"남성_유동인구_수\"].mean(),\n",
        "    \"여성\": df_seoul[\"여성_유동인구_수\"].mean()\n",
        "}\n",
        "\n",
        "정렬된_성별 = dict(sorted(성별_유동인구.items(), key=lambda x: x[1], reverse=True))\n",
        "\n",
        "plt.bar(정렬된_성별.keys(), 정렬된_성별.values(), color=[\"hotpink\", \"darkblue\"])\n",
        "plt.title(\"성별 유동인구 평균 (내림차순)\")\n",
        "plt.ylabel(\"유동인구 수\")\n",
        "plt.show()"
      ]
    },
    {
      "cell_type": "code",
      "execution_count": null,
      "id": "2b74a6ef-94e8-4f5d-8b3a-5bc6097c48f6",
      "metadata": {},
      "outputs": [],
      "source": []
    }
  ],
  "metadata": {},
  "nbformat": 4,
  "nbformat_minor": 5
}
