{
 "cells": [
  {
   "cell_type": "markdown",
   "id": "7a2442a7-4630-4815-b756-a9f31fd5b05b",
   "metadata": {},
   "source": [
    "# TEST\n",
    "\n",
    "## Test"
   ]
  },
  {
   "cell_type": "markdown",
   "id": "f8d4a2ef-8ae1-487e-b5ee-378b45697b78",
   "metadata": {},
   "source": [
    "test part"
   ]
  },
  {
   "cell_type": "code",
   "execution_count": 1,
   "id": "c444bbe7-4e9c-4d3c-bc18-f430e89639b5",
   "metadata": {},
   "outputs": [],
   "source": [
    "# Library setting part"
   ]
  }
 ],
 "metadata": {
  "kernelspec": {
   "display_name": "Python (thirdENV)",
   "language": "python",
   "name": "thirdenv"
  },
  "language_info": {
   "codemirror_mode": {
    "name": "ipython",
    "version": 3
   },
   "file_extension": ".py",
   "mimetype": "text/x-python",
   "name": "python",
   "nbconvert_exporter": "python",
   "pygments_lexer": "ipython3",
   "version": "3.10.16"
  }
 },
 "nbformat": 4,
 "nbformat_minor": 5
}
