{
  "cells": [
    {
      "cell_type": "code",
      "execution_count": null,
      "metadata": {},
      "outputs": [],
      "source": [
        "# 기본적인 부분\n",
        "import numpy as np\n",
        "import pandas as pd\n",
        "import seaborn as sns\n",
        "import matplotlib.pyplot as plt\n",
        "import matplotlib as mpl\n",
        "mpl.rc(\"font\", family=\"Malgun Gothic\")\n",
        "plt.rcParams[\"axes.unicode_minus\"]=False\n",
        "\n",
        "# 데이터 전처리\n",
        "from sklearn.model_selection import train_test_split\n",
        "from sklearn.preprocessing import StandardScaler\n",
        "from sklearn.preprocessing import PolynomialFeatures\n",
        "\n",
        "# 학습 알고리즘\n",
        "from sklearn.neighbors import KNeighborsRegressor\n",
        "from sklearn.neighbors import KNeighborsClassifier\n",
        "\n",
        "from sklearn.linear_model import LinearRegression\n",
        "from sklearn.linear_model import LogisticRegression\n",
        "from sklearn.linear_model import Ridge, Lasso, ElasticNet\n",
        "\n",
        "from sklearn.metrics import r2_score, mean_squared_error, root_mean_squared_error, mean_absolute_error\n",
        "from sklearn.metrics import classification_report\n",
        "from scipy.special import expit, softmax\n",
        "\n",
        "from sklearn.tree import DecisionTreeClassifier\n",
        "from sklearn.tree import DecisionTreeRegressor\n",
        "from sklearn.tree import plot_tree\n",
        "\n",
        "from sklearn.model_selection import cross_validate\n",
        "from sklearn.model_selection import GridSearchCV\n",
        "\n",
        "from sklearn.model_selection import RandomizedSearchCV\n",
        "from scipy.stats import uniform, randint\n",
        "\n",
        "from sklearn.ensemble import RandomForestClassifier"
      ]
    },
    {
      "cell_type": "code",
      "execution_count": null,
      "metadata": {},
      "outputs": [],
      "source": [
        "sales_df = pd.read_csv(\"../data/서울시 상권분석서비스(추정매출-상권).csv\", encoding=\"cp949\")\n",
        "work_df = pd.read_csv(\"../data/서울시 상권분석서비스(직장인구-상권).csv\", encoding=\"cp949\")\n",
        "street_df = pd.read_csv(\"../data/서울시 상권분석서비스(길단위인구-상권).csv\", encoding=\"cp949\")"
      ]
    },
    {
      "cell_type": "code",
      "execution_count": null,
      "metadata": {},
      "outputs": [],
      "source": [
        "seoul_restaurant_sales = sales_df[sales_df[\"서비스_업종_코드\"].str.startswith(\"CS1\")].copy()  # 요식업\n",
        "seoul_etc_sales = sales_df[sales_df[\"서비스_업종_코드\"].str.startswith(\"CS2\")].copy()  # 기타서비스업\n",
        "seoul_retail_sales = sales_df[sales_df[\"서비스_업종_코드\"].str.startswith(\"CS3\")].copy()  # 소매업"
      ]
    },
    {
      "cell_type": "code",
      "execution_count": null,
      "metadata": {},
      "outputs": [],
      "source": [
        "# 평균 매출 + 인구 병합 함수\n",
        "def process_sales_data(df, category_name):\n",
        "    df['서비스업종'] = category_name\n",
        "    mean_sales = df.groupby(['상권_코드_명', '기준_년분기_코드'])[\n",
        "        ['당월_매출_금액', '월요일_매출_금액', '화요일_매출_금액', '수요일_매출_금액',\n",
        "         '목요일_매출_금액', '금요일_매출_금액', '토요일_매출_금액', '일요일_매출_금액']\n",
        "    ].mean().reset_index()\n",
        "    mean_sales.rename(columns={'당월_매출_금액': '평균매출'}, inplace=True)\n",
        "    merged = pd.merge(mean_sales, street_df, on=['상권_코드_명', '기준_년분기_코드'], how='left')\n",
        "    merged = pd.merge(merged, work_df, on=['상권_코드_명', '기준_년분기_코드'], how='left')\n",
        "    merged['서비스업종'] = category_name\n",
        "    return merged\n",
        "\n",
        "# 각 대분류별 데이터 병합\n",
        "restaurant_merged = process_sales_data(seoul_restaurant_sales, '요식업')\n",
        "etc_merged = process_sales_data(seoul_etc_sales, '기타서비스업')\n",
        "retail_merged = process_sales_data(seoul_retail_sales, '소매업')\n",
        "\n",
        "# 전체 통합\n",
        "final_df = pd.concat([restaurant_merged, etc_merged, retail_merged], ignore_index=True)"
      ]
    },
    {
      "cell_type": "code",
      "execution_count": null,
      "metadata": {},
      "outputs": [],
      "source": [
        "# 상권 구분 코드명 병합 전 중복 제거\n",
        "if '상권_구분_코드_명' in final_df.columns:\n",
        "    final_df = final_df.drop(columns=['상권_구분_코드_명'])\n",
        "\n",
        "# 병합할 상권-구분 매핑 정보 추출\n",
        "area_code_map = sales_df[['상권_코드_명', '상권_구분_코드_명']].drop_duplicates()\n",
        "\n",
        "# 병합 수행\n",
        "final_df = pd.merge(final_df, area_code_map, on='상권_코드_명', how='left')\n",
        "\n",
        "# 컬럼 정리\n",
        "base_cols = ['기준_년분기_코드', '상권_구분_코드_명', '상권_코드_명', '서비스업종', '평균매출']\n",
        "weekday_cols = ['월요일_매출_금액', '화요일_매출_금액', '수요일_매출_금액',\n",
        "                '목요일_매출_금액', '금요일_매출_금액', '토요일_매출_금액', '일요일_매출_금액']\n",
        "population_cols = [col for col in final_df.columns\n",
        "                   if col not in base_cols + weekday_cols\n",
        "                   and '매출' not in col and '코드' not in col]\n",
        "\n",
        "final_df = final_df[base_cols + weekday_cols + population_cols]"
      ]
    },
    {
      "cell_type": "code",
      "execution_count": null,
      "metadata": {},
      "outputs": [],
      "source": [
        "final_df.info()"
      ]
    },
    {
      "cell_type": "code",
      "execution_count": null,
      "metadata": {},
      "outputs": [],
      "source": [
        "final_df.to_csv(\"최종_상권_업종_인구_통합.csv\", index=False, encoding=\"cp949\")"
      ]
    },
    {
      "cell_type": "code",
      "execution_count": null,
      "metadata": {},
      "outputs": [],
      "source": [
        "final_df.columns"
      ]
    },
    {
      "cell_type": "code",
      "execution_count": null,
      "metadata": {},
      "outputs": [],
      "source": [
        "final_df_copy=final_df.copy()"
      ]
    },
    {
      "cell_type": "code",
      "execution_count": null,
      "metadata": {},
      "outputs": [],
      "source": [
        "final_df_copy.columns"
      ]
    },
    {
      "cell_type": "code",
      "execution_count": null,
      "metadata": {},
      "outputs": [],
      "source": [
        "final_df_copy"
      ]
    },
    {
      "cell_type": "code",
      "execution_count": null,
      "metadata": {},
      "outputs": [],
      "source": [
        "final_df_copy[\"초년_유동인구_수\"] = (final_df_copy[\"연령대_10_유동인구_수\"] + final_df_copy[\"연령대_20_유동인구_수\"])\n",
        "final_df_copy[\"중년_유동인구_수\"] = (final_df_copy[\"연령대_30_유동인구_수\"] + final_df_copy[\"연령대_40_유동인구_수\"])\n",
        "final_df_copy[\"노년_유동인구_수\"] = (final_df_copy[\"연령대_50_유동인구_수\"] + final_df_copy[\"연령대_60_이상_유동인구_수\"])\n",
        "\n",
        "final_df_copy[\"초년_직장_인구_수\"] = (final_df_copy[\"연령대_10_직장_인구_수\"] + final_df_copy[\"연령대_20_직장_인구_수\"])\n",
        "final_df_copy[\"중년_직장_인구_수\"] = (final_df_copy[\"연령대_30_직장_인구_수\"] + final_df_copy[\"연령대_40_직장_인구_수\"])\n",
        "final_df_copy[\"노년_직장_인구_수\"] = (final_df_copy[\"연령대_50_직장_인구_수\"] + final_df_copy[\"연령대_60_이상_직장_인구_수\"])\n",
        "\n",
        "#\"상권_구분_코드_x\", \"상권_구분_코드_y\", \"상권_코드_x\", \"상권_코드_y\", \"상권_구분_코드_명_y\",\n",
        "\n",
        "columns_to_drop=[\"월요일_유동인구_수\", \"화요일_유동인구_수\", \"수요일_유동인구_수\", \"목요일_유동인구_수\", \n",
        "                 \"금요일_유동인구_수\", \"토요일_유동인구_수\", \"일요일_유동인구_수\", \n",
        "                 \"연령대_10_유동인구_수\", \"연령대_20_유동인구_수\", \"연령대_30_유동인구_수\", \n",
        "                 \"연령대_40_유동인구_수\", \"연령대_50_유동인구_수\", \"연령대_60_이상_유동인구_수\", \n",
        "                 \"연령대_10_직장_인구_수\", \"연령대_20_직장_인구_수\", \"연령대_30_직장_인구_수\", \n",
        "                 \"연령대_40_직장_인구_수\", \"연령대_50_직장_인구_수\", \"연령대_60_이상_직장_인구_수\", \n",
        "                 \"시간대_00_06_유동인구_수\", \"시간대_06_11_유동인구_수\", \"시간대_11_14_유동인구_수\", \n",
        "                 \"시간대_14_17_유동인구_수\", \"시간대_17_21_유동인구_수\", \"시간대_21_24_유동인구_수\", \n",
        "                 \"남성연령대_10_직장_인구_수\", \"남성연령대_20_직장_인구_수\", \"남성연령대_30_직장_인구_수\", \n",
        "                 \"남성연령대_40_직장_인구_수\", \"남성연령대_50_직장_인구_수\", \"남성연령대_60_이상_직장_인구_수\", \n",
        "                 \"여성연령대_10_직장_인구_수\", \"여성연령대_20_직장_인구_수\", \"여성연령대_30_직장_인구_수\", \n",
        "                 \"여성연령대_40_직장_인구_수\", \"여성연령대_50_직장_인구_수\", \"여성연령대_60_이상_직장_인구_수\"]\n",
        "\n",
        "final_df_copy_drop = final_df_copy.drop(columns=columns_to_drop)\n",
        "#final_df_copy_drop.columns = final_df_copy_drop.columns.str.replace(\"_x\", \"\")\n",
        "final_df_copy_drop.info()"
      ]
    },
    {
      "cell_type": "code",
      "execution_count": null,
      "metadata": {},
      "outputs": [],
      "source": [
        "final_df_copy_drop.columns"
      ]
    },
    {
      "cell_type": "code",
      "execution_count": null,
      "metadata": {},
      "outputs": [],
      "source": [
        "# final_df_copy_drop=final_df_copy_drop[[\"기준_년분기_코드\", \"상권_구분_코드_명\", \"상권_코드_명\",\"서비스업종\",\"평균매출\",\n",
        "#                                         \"월요일_매출_금액\", \"화요일_매출_금액\", \"수요일_매출_금액\", \"목요일_매출_금액\",\n",
        "#                                         \"금요일_매출_금액\", \"토요일_매출_금액\", \"일요일_매출_금액\",\n",
        "#                                         \"총_유동인구_수\", \"남성_유동인구_수\", \"여성_유동인구_수\", \n",
        "#                                         \"초년_유동인구_수\", \"중년_유동인구_수\", \"노년_유동인구_수\", \n",
        "#                                         \"총_직장_인구_수\", \"남성_직장_인구_수\", \"여성_직장_인구_수\",\n",
        "#                                         \"초년_직장_인구_수\", \"중년_직장_인구_수\", \"노년_직장_인구_수\"]]"
      ]
    },
    {
      "cell_type": "code",
      "execution_count": null,
      "metadata": {},
      "outputs": [],
      "source": [
        "final_df_copy_drop.head()"
      ]
    },
    {
      "cell_type": "code",
      "execution_count": null,
      "metadata": {},
      "outputs": [],
      "source": [
        "missing_rows = final_df_copy_drop[final_df_copy_drop.isnull().any(axis=1)]\n",
        "missing_rows"
      ]
    },
    {
      "cell_type": "code",
      "execution_count": null,
      "metadata": {},
      "outputs": [],
      "source": [
        "final_df_copy_drop_copy=final_df_copy_drop.copy()"
      ]
    },
    {
      "cell_type": "code",
      "execution_count": null,
      "metadata": {},
      "outputs": [],
      "source": [
        "# 유동인구, 직장인구 컬럼만 따로 선택\n",
        "cols_to_fill = final_df_copy_drop_copy.columns[final_df_copy_drop_copy.isnull().any()]\n",
        "\n",
        "# 중간값으로 결측치 대체\n",
        "for col in cols_to_fill:\n",
        "    median_value = final_df_copy_drop_copy[col].median()\n",
        "    final_df_copy_drop_copy[col] = final_df_copy_drop_copy[col].fillna(median_value)\n",
        "\n",
        "# 저장\n",
        "final_df_copy_drop_copy.to_csv(\"최종_상권_업종_인구_통합_결측처리.csv\", index=False, encoding=\"cp949\")"
      ]
    },
    {
      "cell_type": "code",
      "execution_count": null,
      "metadata": {},
      "outputs": [],
      "source": [
        "final_df_copy_drop_copy.info()"
      ]
    },
    {
      "cell_type": "code",
      "execution_count": null,
      "metadata": {},
      "outputs": [],
      "source": [
        "final_df_copy_drop_copy.columns"
      ]
    },
    {
      "cell_type": "code",
      "execution_count": null,
      "metadata": {},
      "outputs": [],
      "source": [
        "final_df_copy_drop_copy.isna().sum()"
      ]
    },
    {
      "cell_type": "code",
      "execution_count": null,
      "metadata": {},
      "outputs": [],
      "source": [
        "final_df_copy_drop_copy = pd.get_dummies(final_df_copy_drop_copy, columns=[\"상권_구분_코드_명\"], drop_first=False)\n",
        "#final_df_copy_drop_copy = pd.get_dummies(final_df_copy_drop_copy, columns=[\"서비스업종\"], drop_first=False)\n",
        "final_df_copy_drop_copy.info()"
      ]
    },
    {
      "cell_type": "code",
      "execution_count": null,
      "metadata": {},
      "outputs": [],
      "source": [
        "seoul_final_df=final_df_copy_drop_copy.copy()"
      ]
    },
    {
      "cell_type": "code",
      "execution_count": null,
      "metadata": {},
      "outputs": [],
      "source": [
        "seoul_final_df"
      ]
    },
    {
      "cell_type": "code",
      "execution_count": null,
      "metadata": {},
      "outputs": [],
      "source": [
        "restaurant_filtered_data = seoul_final_df[seoul_final_df['서비스업종'] == '요식업']\n",
        "etc_filtered_data = seoul_final_df[seoul_final_df['서비스업종'] == '기타서비스업']\n",
        "retail_filtered_data = seoul_final_df[seoul_final_df['서비스업종'] == '소매업']"
      ]
    },
    {
      "cell_type": "code",
      "execution_count": null,
      "metadata": {},
      "outputs": [],
      "source": [
        "restaurant_numeric = restaurant_filtered_data.select_dtypes(include=[\"float64\", \"int64\", \"bool\"])\n",
        "restaurant_correlation_matrix = restaurant_numeric.corr().abs()\n",
        "restaurant_correlation_matrix"
      ]
    },
    {
      "cell_type": "code",
      "execution_count": null,
      "metadata": {},
      "outputs": [],
      "source": [
        "restaurant_correlation_mat = restaurant_numeric.corr()[\"평균매출\"].abs()\n",
        "restaurant_correlation_mat_sorted = restaurant_correlation_mat.sort_values(ascending=False)\n",
        "restaurant_correlation_mat_sorted"
      ]
    },
    {
      "cell_type": "code",
      "execution_count": null,
      "metadata": {},
      "outputs": [],
      "source": [
        "etc_numeric = etc_filtered_data.select_dtypes(include=[\"float64\", \"int64\", \"bool\"])\n",
        "etc_correlation_matrix = etc_numeric.corr().abs()\n",
        "etc_correlation_matrix"
      ]
    },
    {
      "cell_type": "code",
      "execution_count": null,
      "metadata": {},
      "outputs": [],
      "source": [
        "etc_correlation_mat = etc_numeric.corr()[\"평균매출\"].abs()\n",
        "etc_correlation_mat_sorted = etc_correlation_mat.sort_values(ascending=False)\n",
        "etc_correlation_mat_sorted"
      ]
    },
    {
      "cell_type": "code",
      "execution_count": null,
      "metadata": {},
      "outputs": [],
      "source": [
        "retail_numeric = retail_filtered_data.select_dtypes(include=[\"float64\", \"int64\", \"bool\"])\n",
        "retail_correlation_matrix = retail_numeric.corr().abs()\n",
        "retail_correlation_matrix"
      ]
    },
    {
      "cell_type": "code",
      "execution_count": null,
      "metadata": {},
      "outputs": [],
      "source": [
        "retail_correlation_mat = retail_numeric.corr()[\"평균매출\"].abs()\n",
        "retail_correlation_mat_sorted = retail_correlation_mat.sort_values(ascending=False)\n",
        "retail_correlation_mat_sorted"
      ]
    },
    {
      "cell_type": "markdown",
      "metadata": {},
      "source": [
        "각 서비스업종별로 확인해보니, 요식업만 상관관계가 좀 있다.  \n",
        "heatmap으로 보면,  "
      ],
      "outputs": [],
      "execution_count": null
    },
    {
      "cell_type": "code",
      "execution_count": null,
      "metadata": {},
      "outputs": [],
      "source": [
        "plt.figure(figsize=(18, 12))\n",
        "sns.heatmap(restaurant_correlation_matrix, annot=True)\n",
        "plt.show()"
      ]
    },
    {
      "cell_type": "code",
      "execution_count": null,
      "metadata": {},
      "outputs": [],
      "source": [
        "restaurant_filtered_data.to_csv(\"서울시_요식업_데이터.csv\", encoding=\"cp949\", index=False)"
      ]
    },
    {
      "cell_type": "markdown",
      "metadata": {},
      "source": [
        "## 시각화 및 분석"
      ],
      "outputs": [],
      "execution_count": null
    },
    {
      "cell_type": "code",
      "execution_count": null,
      "metadata": {},
      "outputs": [],
      "source": [
        "seoul_df=pd.read_csv(\"서울시_요식업_데이터.csv\", encoding=\"cp949\")\n",
        "seoul_df"
      ]
    },
    {
      "cell_type": "code",
      "execution_count": null,
      "metadata": {},
      "outputs": [],
      "source": [
        "seoul_df.info()"
      ]
    },
    {
      "cell_type": "code",
      "execution_count": null,
      "metadata": {},
      "outputs": [],
      "source": [
        "seoul_df.describe().T"
      ]
    },
    {
      "cell_type": "code",
      "execution_count": null,
      "metadata": {},
      "outputs": [],
      "source": [
        "seoul_df_corr=seoul_df.select_dtypes([\"float64\", \"int64\", \"bool\"]).corr()\n",
        "seoul_df_corr[\"평균매출\"].abs().sort_values(ascending=False)"
      ]
    },
    {
      "cell_type": "code",
      "execution_count": null,
      "metadata": {},
      "outputs": [],
      "source": [
        "idx=seoul_df_corr[0:23].index\n",
        "idx"
      ]
    },
    {
      "cell_type": "code",
      "execution_count": null,
      "metadata": {},
      "outputs": [],
      "source": [
        "seoul_corr=seoul_df[idx]\n",
        "seoul_corr.info()"
      ]
    },
    {
      "cell_type": "code",
      "execution_count": null,
      "metadata": {},
      "outputs": [],
      "source": [
        "seoul_corr.describe().T.astype(int)"
      ]
    },
    {
      "cell_type": "code",
      "execution_count": null,
      "metadata": {},
      "outputs": [],
      "source": [
        "seoul_corr.columns"
      ]
    },
    {
      "cell_type": "code",
      "execution_count": null,
      "metadata": {},
      "outputs": [],
      "source": [
        "col=['금요일_매출_금액', '수요일_매출_금액', '목요일_매출_금액', '월요일_매출_금액', '화요일_매출_금액',\n",
        "       '토요일_매출_금액', '일요일_매출_금액', '총_직장_인구_수', '음식점_한식음식점', '총_유동인구_수',\n",
        "       '상권_구분_코드_명_발달상권', '상권_구분_코드_명_골목상권', '상권_구분_코드_명_관광특구']"
      ]
    }
  ],
  "metadata": {},
  "nbformat": 4,
  "nbformat_minor": 4
}
