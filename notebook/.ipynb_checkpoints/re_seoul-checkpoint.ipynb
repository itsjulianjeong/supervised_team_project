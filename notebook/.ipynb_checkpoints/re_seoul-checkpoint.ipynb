{
  "cells": [
    {
      "cell_type": "code",
      "execution_count": null,
      "id": "89671ff6-7090-422b-90f1-bd1a5db6c70f",
      "metadata": {},
      "outputs": [],
      "source": [
        "# 기본적인 부분\n",
        "import numpy as np\n",
        "import pandas as pd\n",
        "import seaborn as sns\n",
        "import matplotlib.pyplot as plt\n",
        "import matplotlib as mpl\n",
        "mpl.rc(\"font\", family=\"Malgun Gothic\")\n",
        "plt.rcParams[\"axes.unicode_minus\"]=False\n",
        "\n",
        "# 데이터 전처리\n",
        "from sklearn.model_selection import train_test_split\n",
        "from sklearn.preprocessing import StandardScaler\n",
        "from sklearn.preprocessing import PolynomialFeatures\n",
        "\n",
        "# 학습 알고리즘\n",
        "from sklearn.neighbors import KNeighborsRegressor\n",
        "from sklearn.neighbors import KNeighborsClassifier\n",
        "\n",
        "from sklearn.linear_model import LinearRegression\n",
        "from sklearn.linear_model import LogisticRegression\n",
        "from sklearn.linear_model import Ridge, Lasso, ElasticNet\n",
        "\n",
        "from sklearn.metrics import r2_score, mean_squared_error, root_mean_squared_error, mean_absolute_error\n",
        "from sklearn.metrics import classification_report\n",
        "from scipy.special import expit, softmax\n",
        "\n",
        "from sklearn.tree import DecisionTreeClassifier\n",
        "from sklearn.tree import DecisionTreeRegressor\n",
        "from sklearn.tree import plot_tree\n",
        "\n",
        "from sklearn.model_selection import cross_validate\n",
        "from sklearn.model_selection import GridSearchCV\n",
        "\n",
        "from sklearn.model_selection import RandomizedSearchCV\n",
        "from scipy.stats import uniform, randint\n",
        "\n",
        "from sklearn.ensemble import RandomForestClassifier"
      ]
    },
    {
      "cell_type": "code",
      "execution_count": null,
      "id": "9c548712-3e95-4ffb-a145-cf0855f5020a",
      "metadata": {},
      "outputs": [],
      "source": [
        "seoul_sales=pd.read_csv(\"../data/서울시 상권분석서비스(추정매출-상권).csv\", encoding=\"cp949\")\n",
        "seoul_sales.shape"
      ]
    },
    {
      "cell_type": "code",
      "execution_count": null,
      "id": "9e96fed0-2b54-417a-981c-9545f7d4adb1",
      "metadata": {},
      "outputs": [],
      "source": [
        "seoul_sales.head()"
      ]
    },
    {
      "cell_type": "code",
      "execution_count": null,
      "id": "b9ccfad7-72e9-43a9-839d-b90591a8b329",
      "metadata": {},
      "outputs": [],
      "source": [
        "seoul_sales_copy=seoul_sales.copy()"
      ]
    },
    {
      "cell_type": "code",
      "execution_count": null,
      "id": "7fe36d38-b930-4dc9-863e-c5074aad1e4b",
      "metadata": {},
      "outputs": [],
      "source": [
        "seoul_restaurant_sales = seoul_sales_copy[seoul_sales_copy[\"서비스_업종_코드\"].str.startswith(\"CS1\")]\n",
        "seoul_restaurant_sales.head()"
      ]
    },
    {
      "cell_type": "code",
      "execution_count": null,
      "id": "562b1f7a-f23b-4b1e-a2d0-ed0ef6b4d6f8",
      "metadata": {},
      "outputs": [],
      "source": [
        "seoul_street_people=pd.read_csv(\"../data/서울시 상권분석서비스(길단위인구-상권).csv\", encoding=\"cp949\")\n",
        "seoul_street_people.shape"
      ]
    },
    {
      "cell_type": "code",
      "execution_count": null,
      "id": "57dda022-af72-4fc5-808e-7c18adb98f9d",
      "metadata": {},
      "outputs": [],
      "source": [
        "seoul_street_people.head()"
      ]
    },
    {
      "cell_type": "code",
      "execution_count": null,
      "id": "9dab5857-355c-4652-976b-07eda0da79f3",
      "metadata": {},
      "outputs": [],
      "source": [
        "seoul_working_people=pd.read_csv(\"../data/서울시 상권분석서비스(직장인구-상권).csv\", encoding=\"cp949\")\n",
        "seoul_working_people.shape"
      ]
    },
    {
      "cell_type": "code",
      "execution_count": null,
      "id": "8a96ae77-d5d7-4f71-b544-ac11ce341c43",
      "metadata": {},
      "outputs": [],
      "source": [
        "seoul_working_people.head()"
      ]
    },
    {
      "cell_type": "code",
      "execution_count": null,
      "id": "82b763d3-c102-493b-8b69-aed69a0d68e4",
      "metadata": {},
      "outputs": [],
      "source": [
        "seoul_restaurant_sales[\"서비스_업종_코드_명\"].unique()"
      ]
    },
    {
      "cell_type": "code",
      "execution_count": null,
      "id": "c76da472-9aac-4355-9aa0-ac2e56ac1d94",
      "metadata": {},
      "outputs": [],
      "source": [
        "seoul_restaurant_list = seoul_restaurant_sales[\"서비스_업종_코드_명\"].unique()\n",
        "\n",
        "results_with_working_population = {}\n",
        "\n",
        "for restaurant in seoul_restaurant_list:\n",
        "    temp_df = seoul_restaurant_sales[seoul_restaurant_sales[\"서비스_업종_코드_명\"] == restaurant]\n",
        "    \n",
        "    # 평균매출\n",
        "    mean_sales = temp_df.groupby([\"상권_코드_명\", \"기준_년분기_코드\"])[[\"당월_매출_금액\", \"월요일_매출_금액\", \"화요일_매출_금액\", \"수요일_매출_금액\",\n",
        "                                                            \"목요일_매출_금액\", \"금요일_매출_금액\", \"토요일_매출_금액\", \"일요일_매출_금액\"]].mean().reset_index()\n",
        "    mean_sales.rename(columns={\"당월_매출_금액\": \"평균매출\"}, inplace=True)\n",
        "    \n",
        "    # 유동인구 데이터와 병합\n",
        "    merged = pd.merge(mean_sales, seoul_street_people, on=[\"상권_코드_명\", \"기준_년분기_코드\"], how=\"left\")\n",
        "    # 직장인구 데이터와 병합\n",
        "    merged_with_working = pd.merge(merged, seoul_working_people, on=[\"상권_코드_명\", \"기준_년분기_코드\"], how=\"left\")\n",
        "    \n",
        "    # 음식점별로 묶기 (한식음식점 데이터프레임, 중식음식점 데이터프레임, ... )\n",
        "    results_with_working_population[restaurant] = merged_with_working"
      ]
    },
    {
      "cell_type": "code",
      "execution_count": null,
      "id": "b90c8d9a-2d15-46fb-a9f4-530419d9139e",
      "metadata": {},
      "outputs": [],
      "source": [
        "results_with_working_population"
      ]
    },
    {
      "cell_type": "code",
      "execution_count": null,
      "id": "ed29d94a-389b-4d6b-b36a-dccbf47ba372",
      "metadata": {},
      "outputs": [],
      "source": [
        "items=results_with_working_population.items()\n",
        "items"
      ]
    },
    {
      "cell_type": "code",
      "execution_count": null,
      "id": "bd7d78a2-57b0-48eb-af3c-9510b32406ed",
      "metadata": {},
      "outputs": [],
      "source": [
        "keys=results_with_working_population.keys()\n",
        "keys"
      ]
    },
    {
      "cell_type": "code",
      "execution_count": null,
      "id": "c85adda8-5962-47c9-93e3-fd580c1f96a2",
      "metadata": {},
      "outputs": [],
      "source": [
        "values=results_with_working_population.values()\n",
        "values"
      ]
    },
    {
      "cell_type": "code",
      "execution_count": null,
      "id": "b1553978-e2f3-45e2-8535-01e5c2a57bca",
      "metadata": {},
      "outputs": [],
      "source": [
        "# 음식점 이름을 인덱스로 설정\n",
        "for restaurant, df in results_with_working_population.items():\n",
        "    df[\"음식점\"] = restaurant\n",
        "\n",
        "seoul_restaurants = pd.concat(results_with_working_population.values(), ignore_index=True)\n",
        "seoul_restaurants"
      ]
    },
    {
      "cell_type": "code",
      "execution_count": null,
      "id": "497e5437-ecbe-466b-83be-1c3700824a75",
      "metadata": {},
      "outputs": [],
      "source": [
        "seoul_restaurants.info()"
      ]
    },
    {
      "cell_type": "markdown",
      "id": "1741f425-cb98-4853-8547-5be5ac3bfdad",
      "metadata": {},
      "source": [
        "> 1차 컬럼 정리"
      ],
      "outputs": [],
      "execution_count": null
    },
    {
      "cell_type": "code",
      "execution_count": null,
      "id": "afd1ea19-329f-423c-b1b4-c06c68475a77",
      "metadata": {},
      "outputs": [],
      "source": [
        "columns_to_drop=[\"상권_구분_코드_y\", \"상권_구분_코드_명_y\", \"상권_코드_y\",\n",
        "                 \"상권_구분_코드_x\", \"상권_코드_x\",\n",
        "                 \"연령대_10_유동인구_수\", \"연령대_20_유동인구_수\", \"연령대_30_유동인구_수\", \n",
        "                 \"연령대_40_유동인구_수\", \"연령대_50_유동인구_수\", \"연령대_60_이상_유동인구_수\", \n",
        "                 \"시간대_00_06_유동인구_수\", \"시간대_06_11_유동인구_수\", \"시간대_11_14_유동인구_수\", \n",
        "                 \"시간대_14_17_유동인구_수\", \"시간대_17_21_유동인구_수\", \"시간대_21_24_유동인구_수\", \n",
        "                 \"연령대_10_직장_인구_수\", \"연령대_20_직장_인구_수\", \"연령대_30_직장_인구_수\", \n",
        "                 \"연령대_40_직장_인구_수\", \"연령대_50_직장_인구_수\", \"연령대_60_이상_직장_인구_수\", \n",
        "                 \"남성연령대_10_직장_인구_수\", \"남성연령대_20_직장_인구_수\", \"남성연령대_30_직장_인구_수\", \n",
        "                 \"남성연령대_40_직장_인구_수\", \"남성연령대_50_직장_인구_수\", \"남성연령대_60_이상_직장_인구_수\", \n",
        "                 \"여성연령대_10_직장_인구_수\", \"여성연령대_20_직장_인구_수\", \"여성연령대_30_직장_인구_수\", \n",
        "                 \"여성연령대_40_직장_인구_수\", \"여성연령대_50_직장_인구_수\", \"여성연령대_60_이상_직장_인구_수\"]\n",
        "                 \n",
        "seoul_restaurants_drop = seoul_restaurants.drop(columns=columns_to_drop)\n",
        "seoul_restaurants_drop.info()"
      ]
    },
    {
      "cell_type": "code",
      "execution_count": null,
      "id": "a0be523f-3c7b-4864-91ad-3d0b96875020",
      "metadata": {},
      "outputs": [],
      "source": [
        "seoul_restaurants_drop.columns = seoul_restaurants_drop.columns.str.replace(\"_x\",\"\")\n",
        "seoul_restaurants_drop.info()"
      ]
    },
    {
      "cell_type": "code",
      "execution_count": null,
      "id": "5f1efbb0-dcdb-404a-bd0a-d365b131e7ff",
      "metadata": {},
      "outputs": [],
      "source": [
        "missing_rows = seoul_restaurants_drop[seoul_restaurants_drop.isnull().any(axis=1)]\n",
        "missing_rows"
      ]
    },
    {
      "cell_type": "markdown",
      "id": "d212b0c1-52a4-4218-836d-97341c407ffa",
      "metadata": {},
      "source": [
        "결측치들 확인해보니 유동인구, 직장인구 등이 없는 부분이 있어서 결측치 존재했음  \n",
        "제거하기  "
      ],
      "outputs": [],
      "execution_count": null
    },
    {
      "cell_type": "code",
      "execution_count": null,
      "id": "ea8028fb-a1b4-4357-9f1a-d509844860d4",
      "metadata": {},
      "outputs": [],
      "source": [
        "final_seoul_restaurants=seoul_restaurants_drop.copy()"
      ]
    },
    {
      "cell_type": "code",
      "execution_count": null,
      "id": "1520d6d8-02bd-4abe-b71b-656bb4ebe4cc",
      "metadata": {},
      "outputs": [],
      "source": [
        "final_seoul_restaurants=final_seoul_restaurants.dropna()"
      ]
    },
    {
      "cell_type": "code",
      "execution_count": null,
      "id": "d7a89bcd-48d0-4179-8941-385e9d906856",
      "metadata": {},
      "outputs": [],
      "source": [
        "final_seoul_restaurants.info()"
      ]
    },
    {
      "cell_type": "code",
      "execution_count": null,
      "id": "be9268d3-ec35-4c2d-a442-703450cccea4",
      "metadata": {},
      "outputs": [],
      "source": [
        "final_seoul_restaurants.columns"
      ]
    },
    {
      "cell_type": "markdown",
      "id": "43069230-475b-4913-a916-7b995c1487eb",
      "metadata": {},
      "source": [
        "> 2차 column 정리"
      ],
      "outputs": [],
      "execution_count": null
    },
    {
      "cell_type": "code",
      "execution_count": null,
      "id": "0950be58-9375-4602-8e85-136c15d5bfc9",
      "metadata": {},
      "outputs": [],
      "source": [
        "final_seoul_restaurants_drop = final_seoul_restaurants.drop([\"월요일_유동인구_수\", \"화요일_유동인구_수\", \"수요일_유동인구_수\", \"목요일_유동인구_수\",\n",
        "                                                             \"금요일_유동인구_수\", \"토요일_유동인구_수\", \"일요일_유동인구_수\"], axis=1)\n",
        "\n",
        "final_seoul_restaurants_drop = final_seoul_restaurants_drop[[\"기준_년분기_코드\", \"상권_구분_코드_명\", \"상권_코드_명\", \"음식점\", \"평균매출\",\n",
        "                                                             \"월요일_매출_금액\", \"화요일_매출_금액\", \"수요일_매출_금액\", \"목요일_매출_금액\",\n",
        "                                                             \"금요일_매출_금액\", \"토요일_매출_금액\", \"일요일_매출_금액\",\n",
        "                                                             \"총_유동인구_수\", \"남성_유동인구_수\", \"여성_유동인구_수\",\n",
        "                                                             \"총_직장_인구_수\", \"남성_직장_인구_수\", \"여성_직장_인구_수\"]]"
      ]
    },
    {
      "cell_type": "code",
      "execution_count": null,
      "id": "b4f43df0-aa15-4475-85ff-6373094aa070",
      "metadata": {},
      "outputs": [],
      "source": [
        "final_seoul_restaurants_drop"
      ]
    },
    {
      "cell_type": "code",
      "execution_count": null,
      "id": "fd80998e-66a4-4a5a-bb02-550464ad022b",
      "metadata": {},
      "outputs": [],
      "source": [
        "final_seoul_restaurants_drop.info()"
      ]
    },
    {
      "cell_type": "markdown",
      "id": "21a9f648-4d41-4e04-8352-4b436778fe7e",
      "metadata": {},
      "source": [
        "음식점 -> 원핫인코딩"
      ],
      "outputs": [],
      "execution_count": null
    },
    {
      "cell_type": "code",
      "execution_count": null,
      "id": "cc4ba0d6-bcbc-4215-9fe5-ee313028332e",
      "metadata": {},
      "outputs": [],
      "source": [
        "final_seoul_restaurants_drop = pd.get_dummies(final_seoul_restaurants_drop, columns=[\"음식점\"], drop_first=False)\n",
        "final_seoul_restaurants_drop = pd.get_dummies(final_seoul_restaurants_drop, columns=[\"상권_구분_코드_명\"], drop_first=False)\n",
        "final_seoul_restaurants_drop.info()"
      ]
    },
    {
      "cell_type": "code",
      "execution_count": null,
      "id": "cdb202c6-d11c-44cb-bd76-1b718a15c7dc",
      "metadata": {},
      "outputs": [],
      "source": [
        "restaurants_final=final_seoul_restaurants_drop.copy()"
      ]
    },
    {
      "cell_type": "code",
      "execution_count": null,
      "id": "bf88375a-5dd0-4de4-9e79-669f834e6536",
      "metadata": {},
      "outputs": [],
      "source": [
        "#bool_columns = restaurants_final.select_dtypes(include=[\"bool\"]).columns\n",
        "#restaurants_final[bool_columns] = restaurants_final[bool_columns].astype(int)"
      ]
    },
    {
      "cell_type": "code",
      "execution_count": null,
      "id": "d7b53d4a-ca62-4733-8c24-b6288bac2aac",
      "metadata": {},
      "outputs": [],
      "source": [
        "restaurants_final_numeric = restaurants_final.select_dtypes(include=[\"float64\", \"int64\", \"bool\"])"
      ]
    },
    {
      "cell_type": "code",
      "execution_count": null,
      "id": "24cfebc8-b0aa-4006-878a-901f9612dc82",
      "metadata": {},
      "outputs": [],
      "source": [
        "corr_matrix = restaurants_final_numeric.corr()\n",
        "corr_matrix"
      ]
    },
    {
      "cell_type": "code",
      "execution_count": null,
      "id": "c59cf9cf-0b67-4a5c-9a80-332d86d70a00",
      "metadata": {},
      "outputs": [],
      "source": [
        "plt.figure(figsize=(18, 12))\n",
        "sns.heatmap(corr_matrix, annot=True)\n",
        "plt.show()"
      ]
    },
    {
      "cell_type": "code",
      "execution_count": null,
      "id": "9d575fed-b962-4b81-86d5-8491af49f97f",
      "metadata": {},
      "outputs": [],
      "source": [
        "correlation_matrix = corr_matrix.corr()[\"평균매출\"]\n",
        "correlation_matrix_sorted = correlation_matrix.sort_values(ascending=False)\n",
        "correlation_matrix_sorted"
      ]
    },
    {
      "cell_type": "code",
      "execution_count": null,
      "id": "0d1b852b-5b38-4ae5-abdc-3d94e17a16e2",
      "metadata": {},
      "outputs": [],
      "source": [
        "restaurants_final.info()"
      ]
    },
    {
      "cell_type": "markdown",
      "id": "100eaf75-5e47-411d-b153-8e4ff26e9583",
      "metadata": {},
      "source": [
        "---"
      ],
      "outputs": [],
      "execution_count": null
    },
    {
      "cell_type": "code",
      "execution_count": null,
      "id": "f44002b3-356b-4551-9fc0-e66b5bea381a",
      "metadata": {},
      "outputs": [],
      "source": [
        "sns.histplot(restaurants_final[\"평균매출\"], kde=True)"
      ]
    },
    {
      "cell_type": "code",
      "execution_count": null,
      "id": "b2a85d3e-bee1-4eb6-ab2d-516339a375cc",
      "metadata": {},
      "outputs": [],
      "source": [
        "fig, axes = plt.subplots(2, 4, figsize=(18, 10))  # 2행 4열의 서브플롯 (총 8개의 서브플롯)\n",
        "\n",
        "days_of_week = [\"월요일_매출_금액\", \"화요일_매출_금액\", \"수요일_매출_금액\", \n",
        "                \"목요일_매출_금액\", \"금요일_매출_금액\", \"토요일_매출_금액\", \n",
        "                \"일요일_매출_금액\"]\n",
        "\n",
        "for i, day in enumerate(days_of_week):\n",
        "    row = i // 4\n",
        "    col = i % 4\n",
        "    \n",
        "    sns.histplot(restaurants_final[day], kde=True, ax=axes[row, col])\n",
        "    axes[row, col].set_title(f\"Distribution of {day}\")\n",
        "    axes[row, col].set_xlabel(f\"{day}\")\n",
        "    axes[row, col].set_ylabel(\"Frequency\")\n",
        "\n",
        "plt.show()"
      ]
    },
    {
      "cell_type": "code",
      "execution_count": null,
      "id": "4d422c06-03cc-41b4-b9d7-24cce9fa3df5",
      "metadata": {},
      "outputs": [],
      "source": [
        "plt.figure(figsize=(10, 6))\n",
        "sns.boxplot(x=\"상권_구분_코드_명_발달상권\", y=\"평균매출\", data=restaurants_final)\n",
        "plt.title(\"Comparison of 평균매출 by 상권 구분 (발달상권)\")\n",
        "plt.xlabel(\"상권 구분 (발달상권)\")\n",
        "plt.ylabel(\"평균매출\")\n",
        "plt.show()"
      ]
    },
    {
      "cell_type": "code",
      "execution_count": null,
      "id": "9be1a306-6185-4d78-b8f3-d22823a5ecb0",
      "metadata": {},
      "outputs": [],
      "source": [
        "plt.figure(figsize=(12, 8))\n",
        "sns.boxplot(x=\"음식점_한식음식점\", y=\"평균매출\", data=restaurants_final)\n",
        "plt.title(\"Comparison of 평균매출 by 음식점 유형 (한식음식점)\")\n",
        "plt.xlabel(\"음식점 유형 (한식음식점)\")\n",
        "plt.ylabel(\"평균매출\")\n",
        "plt.show()"
      ]
    },
    {
      "cell_type": "code",
      "execution_count": null,
      "id": "fc8dc114-8dc9-4af1-ad15-93572feba7e6",
      "metadata": {},
      "outputs": [],
      "source": [
        "fig, axes = plt.subplots(1, 3, figsize=(18, 6))\n",
        "\n",
        "# 평균매출 분포\n",
        "axes[0].set_title(\"Distribution of 평균매출\")\n",
        "axes[0].set_xlabel(\"평균매출\")\n",
        "axes[0].set_ylabel(\"Frequency\")\n",
        "\n",
        "# 월요일 매출 금액 분포\n",
        "sns.histplot(restaurants_final[\"월요일_매출_금액\"], kde=True, ax=axes[1])\n",
        "axes[1].set_title(\"Distribution of 월요일_매출_금액\")\n",
        "axes[1].set_xlabel(\"월요일_매출_금액\")\n",
        "axes[1].set_ylabel(\"Frequency\")\n",
        "\n",
        "# 금요일 매출 금액 분포\n",
        "sns.histplot(restaurants_final[\"금요일_매출_금액\"], kde=True, ax=axes[2])\n",
        "axes[2].set_title(\"Distribution of 금요일_매출_금액\")\n",
        "axes[2].set_xlabel(\"금요일_매출_금액\")\n",
        "axes[2].set_ylabel(\"Frequency\")\n",
        "\n",
        "# 레이아웃 정리\n",
        "plt.tight_layout()\n",
        "plt.show()"
      ]
    },
    {
      "cell_type": "code",
      "execution_count": null,
      "id": "2bb301af-3574-42d5-b0b4-63df406678cb",
      "metadata": {},
      "outputs": [],
      "source": []
    },
    {
      "cell_type": "markdown",
      "id": "2198d0b1-5ecf-4f69-af39-67e9746ee367",
      "metadata": {},
      "source": [
        "X=서비스업종명, 유동인구수,   \n",
        "Y=당월 매출금액  \n",
        "훈련 -> 예측  \n",
        "\n",
        "업종마다의 금액이 나오니까  \n",
        "\n",
        "X=상권구분, 서비스업종명, 유동인구수  \n",
        "Y=당월 매출금액  "
      ],
      "outputs": [],
      "execution_count": null
    },
    {
      "cell_type": "code",
      "execution_count": null,
      "id": "7252cbcf-ef9b-46f1-8efe-6bbf50e83393",
      "metadata": {},
      "outputs": [],
      "source": []
    }
  ],
  "metadata": {},
  "nbformat": 4,
  "nbformat_minor": 5
}
