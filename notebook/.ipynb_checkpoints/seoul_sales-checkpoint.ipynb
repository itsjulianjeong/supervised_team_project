{
  "cells": [
    {
      "cell_type": "code",
      "execution_count": null,
      "id": "89671ff6-7090-422b-90f1-bd1a5db6c70f",
      "metadata": {},
      "outputs": [],
      "source": [
        "# 기본적인 부분\n",
        "import numpy as np\n",
        "import pandas as pd\n",
        "import seaborn as sns\n",
        "import matplotlib.pyplot as plt\n",
        "import matplotlib as mpl\n",
        "mpl.rc(\"font\", family=\"Malgun Gothic\")\n",
        "plt.rcParams[\"axes.unicode_minus\"]=False\n",
        "\n",
        "# 데이터 전처리\n",
        "from sklearn.model_selection import train_test_split\n",
        "from sklearn.preprocessing import StandardScaler\n",
        "from sklearn.preprocessing import PolynomialFeatures\n",
        "\n",
        "# 학습 알고리즘\n",
        "from sklearn.neighbors import KNeighborsRegressor\n",
        "from sklearn.neighbors import KNeighborsClassifier\n",
        "\n",
        "from sklearn.linear_model import LinearRegression\n",
        "from sklearn.linear_model import LogisticRegression\n",
        "from sklearn.linear_model import Ridge, Lasso, ElasticNet\n",
        "\n",
        "from sklearn.metrics import r2_score, mean_squared_error, root_mean_squared_error, mean_absolute_error\n",
        "from sklearn.metrics import classification_report\n",
        "from scipy.special import expit, softmax\n",
        "\n",
        "from sklearn.tree import DecisionTreeClassifier\n",
        "from sklearn.tree import DecisionTreeRegressor\n",
        "from sklearn.tree import plot_tree\n",
        "\n",
        "from sklearn.model_selection import cross_validate\n",
        "from sklearn.model_selection import GridSearchCV\n",
        "\n",
        "from sklearn.model_selection import RandomizedSearchCV\n",
        "from scipy.stats import uniform, randint\n",
        "\n",
        "from sklearn.ensemble import RandomForestClassifier"
      ]
    },
    {
      "cell_type": "markdown",
      "id": "97d6d5da-2037-4bcf-bb19-f41eaaa1c8be",
      "metadata": {},
      "source": [
        "# 서울시 요식업 매출 예측"
      ],
      "outputs": [],
      "execution_count": null
    },
    {
      "cell_type": "markdown",
      "id": "9d7801b6-d900-4d48-97eb-31e885a7a4b9",
      "metadata": {},
      "source": [
        "## 데이터 불러오기 및 결합"
      ],
      "outputs": [],
      "execution_count": null
    },
    {
      "cell_type": "markdown",
      "id": "be5711b1-149c-464e-9be3-7b19a10c0266",
      "metadata": {},
      "source": [
        "### 서울시 상권 추정매출  "
      ],
      "outputs": [],
      "execution_count": null
    },
    {
      "cell_type": "code",
      "execution_count": null,
      "id": "9c548712-3e95-4ffb-a145-cf0855f5020a",
      "metadata": {},
      "outputs": [],
      "source": [
        "seoul_sales=pd.read_csv(\"../data/서울시 상권분석서비스(추정매출-상권).csv\", encoding=\"cp949\")\n",
        "seoul_sales.shape"
      ]
    },
    {
      "cell_type": "code",
      "execution_count": null,
      "id": "128dd5d0-d0d3-489d-a515-81000ec4cb84",
      "metadata": {},
      "outputs": [],
      "source": [
        "seoul_sales.info()"
      ]
    },
    {
      "cell_type": "code",
      "execution_count": null,
      "id": "9e96fed0-2b54-417a-981c-9545f7d4adb1",
      "metadata": {},
      "outputs": [],
      "source": [
        "seoul_sales"
      ]
    },
    {
      "cell_type": "code",
      "execution_count": null,
      "id": "b9ccfad7-72e9-43a9-839d-b90591a8b329",
      "metadata": {},
      "outputs": [],
      "source": [
        "seoul_sales_copy=seoul_sales.copy()"
      ]
    },
    {
      "cell_type": "code",
      "execution_count": null,
      "id": "7fe36d38-b930-4dc9-863e-c5074aad1e4b",
      "metadata": {},
      "outputs": [],
      "source": [
        "seoul_restaurant_sales = seoul_sales_copy[seoul_sales_copy[\"서비스_업종_코드\"].str.startswith(\"CS1\")]  # 요식업\n",
        "seoul_restaurant_sales.head()"
      ]
    },
    {
      "cell_type": "markdown",
      "id": "25420c8a-1fcd-4a89-bc57-5755e956c70d",
      "metadata": {},
      "source": [
        "### 서울시 상권 유동인구"
      ],
      "outputs": [],
      "execution_count": null
    },
    {
      "cell_type": "code",
      "execution_count": null,
      "id": "562b1f7a-f23b-4b1e-a2d0-ed0ef6b4d6f8",
      "metadata": {},
      "outputs": [],
      "source": [
        "seoul_street_people=pd.read_csv(\"../data/서울시 상권분석서비스(길단위인구-상권).csv\", encoding=\"cp949\")\n",
        "seoul_street_people.shape"
      ]
    },
    {
      "cell_type": "code",
      "execution_count": null,
      "id": "c7948592-0614-496b-8831-5b76a1b06fd2",
      "metadata": {},
      "outputs": [],
      "source": [
        "seoul_street_people.info()"
      ]
    },
    {
      "cell_type": "code",
      "execution_count": null,
      "id": "57dda022-af72-4fc5-808e-7c18adb98f9d",
      "metadata": {},
      "outputs": [],
      "source": [
        "seoul_street_people.head()"
      ]
    },
    {
      "cell_type": "markdown",
      "id": "0fb2e8b7-0886-4c50-a435-a932031b9a80",
      "metadata": {},
      "source": [
        "### 서울시 상권 직장인구"
      ],
      "outputs": [],
      "execution_count": null
    },
    {
      "cell_type": "code",
      "execution_count": null,
      "id": "9dab5857-355c-4652-976b-07eda0da79f3",
      "metadata": {},
      "outputs": [],
      "source": [
        "seoul_working_people=pd.read_csv(\"../data/서울시 상권분석서비스(직장인구-상권).csv\", encoding=\"cp949\")\n",
        "seoul_working_people.shape"
      ]
    },
    {
      "cell_type": "code",
      "execution_count": null,
      "id": "c3845ae1-5174-44d1-a0f4-f69d01254ac3",
      "metadata": {},
      "outputs": [],
      "source": [
        "seoul_working_people.info()"
      ]
    },
    {
      "cell_type": "code",
      "execution_count": null,
      "id": "8a96ae77-d5d7-4f71-b544-ac11ce341c43",
      "metadata": {},
      "outputs": [],
      "source": [
        "seoul_working_people.head()"
      ]
    },
    {
      "cell_type": "markdown",
      "id": "971c1085-2d4a-466c-99a2-e597a947c8a5",
      "metadata": {},
      "source": [
        "### 데이터 병합\n",
        "> 서울시 추정매출: 서비스 업종 별로 나누기 -> 상권별로 서비스 업종의 매출관련 정보  \n",
        "> 서울시 유동인구 및 직장인구: 상권별로 인구관련 정보  "
      ],
      "outputs": [],
      "execution_count": null
    },
    {
      "cell_type": "code",
      "execution_count": null,
      "id": "82b763d3-c102-493b-8b69-aed69a0d68e4",
      "metadata": {},
      "outputs": [],
      "source": [
        "seoul_restaurant_sales[\"서비스_업종_코드_명\"].unique()"
      ]
    },
    {
      "cell_type": "code",
      "execution_count": null,
      "id": "c76da472-9aac-4355-9aa0-ac2e56ac1d94",
      "metadata": {},
      "outputs": [],
      "source": [
        "seoul_restaurant_list = seoul_restaurant_sales[\"서비스_업종_코드_명\"].unique()\n",
        "\n",
        "results_with_working_population = {}\n",
        "\n",
        "for restaurant in seoul_restaurant_list:\n",
        "    temp_df = seoul_restaurant_sales[seoul_restaurant_sales[\"서비스_업종_코드_명\"] == restaurant]\n",
        "    \n",
        "    # 평균매출\n",
        "    mean_sales = temp_df.groupby([\"상권_코드_명\", \"기준_년분기_코드\"])[[\"당월_매출_금액\", \"월요일_매출_금액\", \"화요일_매출_금액\", \"수요일_매출_금액\",\n",
        "                                                            \"목요일_매출_금액\", \"금요일_매출_금액\", \"토요일_매출_금액\", \"일요일_매출_금액\"]].mean().reset_index()\n",
        "    mean_sales.rename(columns={\"당월_매출_금액\": \"평균매출\"}, inplace=True)\n",
        "    \n",
        "    # 유동인구 데이터와 병합\n",
        "    merged = pd.merge(mean_sales, seoul_street_people, on=[\"상권_코드_명\", \"기준_년분기_코드\"], how=\"left\")\n",
        "    # 직장인구 데이터와 병합\n",
        "    merged_with_working = pd.merge(merged, seoul_working_people, on=[\"상권_코드_명\", \"기준_년분기_코드\"], how=\"left\")\n",
        "    \n",
        "    # 음식점별로 묶기 (한식음식점 데이터프레임, 중식음식점 데이터프레임, ... )\n",
        "    results_with_working_population[restaurant] = merged_with_working"
      ]
    },
    {
      "cell_type": "code",
      "execution_count": null,
      "id": "b90c8d9a-2d15-46fb-a9f4-530419d9139e",
      "metadata": {},
      "outputs": [],
      "source": [
        "results_with_working_population"
      ]
    },
    {
      "cell_type": "code",
      "execution_count": null,
      "id": "bd7d78a2-57b0-48eb-af3c-9510b32406ed",
      "metadata": {},
      "outputs": [],
      "source": [
        "keys=results_with_working_population.keys()\n",
        "keys"
      ]
    },
    {
      "cell_type": "code",
      "execution_count": null,
      "id": "c85adda8-5962-47c9-93e3-fd580c1f96a2",
      "metadata": {},
      "outputs": [],
      "source": [
        "values=results_with_working_population.values()\n",
        "values"
      ]
    },
    {
      "cell_type": "code",
      "execution_count": null,
      "id": "ed29d94a-389b-4d6b-b36a-dccbf47ba372",
      "metadata": {},
      "outputs": [],
      "source": [
        "items=results_with_working_population.items()\n",
        "items"
      ]
    },
    {
      "cell_type": "code",
      "execution_count": null,
      "id": "b1553978-e2f3-45e2-8535-01e5c2a57bca",
      "metadata": {},
      "outputs": [],
      "source": [
        "# 음식점 이름을 인덱스로 설정\n",
        "for restaurant, df in results_with_working_population.items():\n",
        "    df[\"음식점\"] = restaurant\n",
        "\n",
        "seoul_restaurants = pd.concat(results_with_working_population.values(), ignore_index=True)\n",
        "seoul_restaurants"
      ]
    },
    {
      "cell_type": "markdown",
      "id": "1741f425-cb98-4853-8547-5be5ac3bfdad",
      "metadata": {},
      "source": [
        "### 1차 컬럼 정리"
      ],
      "outputs": [],
      "execution_count": null
    },
    {
      "cell_type": "code",
      "execution_count": null,
      "id": "bce5d073-ed02-4811-ab5b-0c97be9a2faf",
      "metadata": {},
      "outputs": [],
      "source": [
        "seoul_restaurants.columns"
      ]
    },
    {
      "cell_type": "code",
      "execution_count": null,
      "id": "afd1ea19-329f-423c-b1b4-c06c68475a77",
      "metadata": {},
      "outputs": [],
      "source": [
        "seoul_restaurants[\"초년_유동인구_수\"] = (seoul_restaurants[\"연령대_10_유동인구_수\"] + seoul_restaurants[\"연령대_20_유동인구_수\"])\n",
        "seoul_restaurants[\"중년_유동인구_수\"] = (seoul_restaurants[\"연령대_30_유동인구_수\"] + seoul_restaurants[\"연령대_40_유동인구_수\"])\n",
        "seoul_restaurants[\"노년_유동인구_수\"] = (seoul_restaurants[\"연령대_50_유동인구_수\"] + seoul_restaurants[\"연령대_60_이상_유동인구_수\"])\n",
        "\n",
        "seoul_restaurants[\"초년_직장_인구_수\"] = (seoul_restaurants[\"연령대_10_직장_인구_수\"] + seoul_restaurants[\"연령대_20_직장_인구_수\"])\n",
        "seoul_restaurants[\"중년_직장_인구_수\"] = (seoul_restaurants[\"연령대_30_직장_인구_수\"] + seoul_restaurants[\"연령대_40_직장_인구_수\"])\n",
        "seoul_restaurants[\"노년_직장_인구_수\"] = (seoul_restaurants[\"연령대_50_직장_인구_수\"] + seoul_restaurants[\"연령대_60_이상_직장_인구_수\"])\n",
        "\n",
        "columns_to_drop=[\"상권_구분_코드_y\", \"상권_구분_코드_명_y\", \"상권_코드_y\", \n",
        "                 \"상권_구분_코드_x\", \"상권_코드_x\", \n",
        "                 \"월요일_유동인구_수\", \"화요일_유동인구_수\", \"수요일_유동인구_수\", \"목요일_유동인구_수\", \n",
        "                 \"금요일_유동인구_수\", \"토요일_유동인구_수\", \"일요일_유동인구_수\", \n",
        "                 \"연령대_10_유동인구_수\", \"연령대_20_유동인구_수\", \"연령대_30_유동인구_수\", \n",
        "                 \"연령대_40_유동인구_수\", \"연령대_50_유동인구_수\", \"연령대_60_이상_유동인구_수\", \n",
        "                 \"연령대_10_직장_인구_수\", \"연령대_20_직장_인구_수\", \"연령대_30_직장_인구_수\", \n",
        "                 \"연령대_40_직장_인구_수\", \"연령대_50_직장_인구_수\", \"연령대_60_이상_직장_인구_수\", \n",
        "                 \"시간대_00_06_유동인구_수\", \"시간대_06_11_유동인구_수\", \"시간대_11_14_유동인구_수\", \n",
        "                 \"시간대_14_17_유동인구_수\", \"시간대_17_21_유동인구_수\", \"시간대_21_24_유동인구_수\", \n",
        "                 \"남성연령대_10_직장_인구_수\", \"남성연령대_20_직장_인구_수\", \"남성연령대_30_직장_인구_수\", \n",
        "                 \"남성연령대_40_직장_인구_수\", \"남성연령대_50_직장_인구_수\", \"남성연령대_60_이상_직장_인구_수\", \n",
        "                 \"여성연령대_10_직장_인구_수\", \"여성연령대_20_직장_인구_수\", \"여성연령대_30_직장_인구_수\", \n",
        "                 \"여성연령대_40_직장_인구_수\", \"여성연령대_50_직장_인구_수\", \"여성연령대_60_이상_직장_인구_수\"]\n",
        "\n",
        "seoul_restaurants_drop = seoul_restaurants.drop(columns=columns_to_drop)\n",
        "seoul_restaurants_drop.columns = seoul_restaurants_drop.columns.str.replace(\"_x\", \"\")\n",
        "seoul_restaurants_drop.info()"
      ]
    },
    {
      "cell_type": "code",
      "execution_count": null,
      "id": "5f1efbb0-dcdb-404a-bd0a-d365b131e7ff",
      "metadata": {},
      "outputs": [],
      "source": [
        "missing_rows = seoul_restaurants_drop[seoul_restaurants_drop.isnull().any(axis=1)]\n",
        "missing_rows"
      ]
    },
    {
      "cell_type": "markdown",
      "id": "d212b0c1-52a4-4218-836d-97341c407ffa",
      "metadata": {},
      "source": [
        "결측치들 확인해보니 유동인구, 직장인구 등이 없는 부분이 있어서 결측치 존재했음  \n",
        "제거하기  "
      ],
      "outputs": [],
      "execution_count": null
    },
    {
      "cell_type": "code",
      "execution_count": null,
      "id": "ea8028fb-a1b4-4357-9f1a-d509844860d4",
      "metadata": {},
      "outputs": [],
      "source": [
        "final_seoul_restaurants=seoul_restaurants_drop.copy()"
      ]
    },
    {
      "cell_type": "code",
      "execution_count": null,
      "id": "1520d6d8-02bd-4abe-b71b-656bb4ebe4cc",
      "metadata": {},
      "outputs": [],
      "source": [
        "final_seoul_restaurants=final_seoul_restaurants.dropna()\n",
        "final_seoul_restaurants.info()"
      ]
    },
    {
      "cell_type": "markdown",
      "id": "43069230-475b-4913-a916-7b995c1487eb",
      "metadata": {},
      "source": [
        "> 2차 column 정리"
      ],
      "outputs": [],
      "execution_count": null
    },
    {
      "cell_type": "code",
      "execution_count": null,
      "id": "be9268d3-ec35-4c2d-a442-703450cccea4",
      "metadata": {},
      "outputs": [],
      "source": [
        "final_seoul_restaurants.columns"
      ]
    },
    {
      "cell_type": "code",
      "execution_count": null,
      "id": "0950be58-9375-4602-8e85-136c15d5bfc9",
      "metadata": {},
      "outputs": [],
      "source": [
        "final_seoul_restaurants = final_seoul_restaurants[[\"기준_년분기_코드\", \"상권_구분_코드_명\", \"상권_코드_명\", \"음식점\", \"평균매출\",\n",
        "                                                   \"월요일_매출_금액\", \"화요일_매출_금액\", \"수요일_매출_금액\", \"목요일_매출_금액\",\n",
        "                                                   \"금요일_매출_금액\", \"토요일_매출_금액\", \"일요일_매출_금액\",\n",
        "                                                   \"총_유동인구_수\", \"남성_유동인구_수\", \"여성_유동인구_수\", \n",
        "                                                   \"초년_유동인구_수\", \"중년_유동인구_수\", \"노년_유동인구_수\", \n",
        "                                                   \"총_직장_인구_수\", \"남성_직장_인구_수\", \"여성_직장_인구_수\",\n",
        "                                                   \"초년_직장_인구_수\", \"중년_직장_인구_수\", \"노년_직장_인구_수\"]]"
      ]
    },
    {
      "cell_type": "code",
      "execution_count": null,
      "id": "b4f43df0-aa15-4475-85ff-6373094aa070",
      "metadata": {},
      "outputs": [],
      "source": [
        "final_seoul_restaurants"
      ]
    },
    {
      "cell_type": "code",
      "execution_count": null,
      "id": "fd80998e-66a4-4a5a-bb02-550464ad022b",
      "metadata": {},
      "outputs": [],
      "source": [
        "final_seoul_restaurants.info()"
      ]
    },
    {
      "cell_type": "markdown",
      "id": "21a9f648-4d41-4e04-8352-4b436778fe7e",
      "metadata": {},
      "source": [
        "음식점 -> 원핫인코딩"
      ],
      "outputs": [],
      "execution_count": null
    },
    {
      "cell_type": "code",
      "execution_count": null,
      "id": "d1f194ba-989a-41c0-aa9e-a8deeccc783d",
      "metadata": {},
      "outputs": [],
      "source": [
        "final_seoul_restaurants.columns"
      ]
    },
    {
      "cell_type": "code",
      "execution_count": null,
      "id": "cc4ba0d6-bcbc-4215-9fe5-ee313028332e",
      "metadata": {},
      "outputs": [],
      "source": [
        "final_seoul_restaurants = pd.get_dummies(final_seoul_restaurants, columns=[\"음식점\"], drop_first=False)\n",
        "final_seoul_restaurants = pd.get_dummies(final_seoul_restaurants, columns=[\"상권_구분_코드_명\"], drop_first=False)\n",
        "final_seoul_restaurants.info()"
      ]
    },
    {
      "cell_type": "code",
      "execution_count": null,
      "id": "cdb202c6-d11c-44cb-bd76-1b718a15c7dc",
      "metadata": {},
      "outputs": [],
      "source": [
        "final_seoul_restaurants_copy=final_seoul_restaurants.copy()"
      ]
    },
    {
      "cell_type": "code",
      "execution_count": null,
      "id": "d7b53d4a-ca62-4733-8c24-b6288bac2aac",
      "metadata": {},
      "outputs": [],
      "source": [
        "restaurants_final_numeric = final_seoul_restaurants_copy.select_dtypes(include=[\"float64\", \"int64\", \"bool\"])\n",
        "corr_matrix = restaurants_final_numeric.corr()\n",
        "corr_matrix"
      ]
    },
    {
      "cell_type": "code",
      "execution_count": null,
      "id": "c59cf9cf-0b67-4a5c-9a80-332d86d70a00",
      "metadata": {},
      "outputs": [],
      "source": [
        "plt.figure(figsize=(18, 12))\n",
        "sns.heatmap(corr_matrix, annot=True)\n",
        "plt.show()"
      ]
    },
    {
      "cell_type": "code",
      "execution_count": null,
      "id": "9d575fed-b962-4b81-86d5-8491af49f97f",
      "metadata": {},
      "outputs": [],
      "source": [
        "correlation_matrix = corr_matrix.corr()[\"평균매출\"].abs()\n",
        "correlation_matrix_sorted = correlation_matrix.sort_values(ascending=False)\n",
        "correlation_matrix_sorted"
      ]
    },
    {
      "cell_type": "code",
      "execution_count": null,
      "id": "f8b71669-30ec-4cc0-a6d4-affd3b2e5d61",
      "metadata": {},
      "outputs": [],
      "source": [
        "final_seoul_restaurants_copy.to_csv(\"../data/seoul_sales_data.csv\", index=False)"
      ]
    },
    {
      "cell_type": "markdown",
      "id": "2188e36e-0392-423a-ba51-b88829cc8647",
      "metadata": {},
      "source": [
        "## 시각화 및 분석"
      ],
      "outputs": [],
      "execution_count": null
    },
    {
      "cell_type": "code",
      "execution_count": null,
      "id": "9ab0a071-7ca9-4865-b0cc-53344bb5e9b4",
      "metadata": {},
      "outputs": [],
      "source": [
        "seoul=pd.read_csv(\"../data/seoul_sales_data.csv\")\n",
        "seoul"
      ]
    },
    {
      "cell_type": "code",
      "execution_count": null,
      "id": "de98e63d-0d57-46b3-953b-83c200f184ed",
      "metadata": {},
      "outputs": [],
      "source": [
        "seoul.describe().T"
      ]
    },
    {
      "cell_type": "code",
      "execution_count": null,
      "id": "00bc7db1",
      "metadata": {},
      "outputs": [],
      "source": [
        "correlation_matrix_sorted"
      ]
    },
    {
      "cell_type": "code",
      "execution_count": null,
      "id": "89b6039a",
      "metadata": {},
      "outputs": [],
      "source": [
        "seoul.columns"
      ]
    },
    {
      "cell_type": "code",
      "execution_count": null,
      "id": "814564ef",
      "metadata": {},
      "outputs": [],
      "source": [
        "seoul_copy=seoul.copy()"
      ]
    },
    {
      "cell_type": "code",
      "execution_count": null,
      "id": "2814648f",
      "metadata": {},
      "outputs": [],
      "source": [
        "columns_to_drop=['기준_년분기_코드', '상권_코드_명', \n",
        "                 '남성_유동인구_수', '여성_유동인구_수',\n",
        "                 '초년_유동인구_수', '중년_유동인구_수', '노년_유동인구_수',\n",
        "                 '남성_직장_인구_수', '여성_직장_인구_수', \n",
        "                 '초년_직장_인구_수', '중년_직장_인구_수', '노년_직장_인구_수']\n",
        "\n",
        "seoul_copy = seoul_copy.drop(columns=columns_to_drop)"
      ]
    },
    {
      "cell_type": "code",
      "execution_count": null,
      "id": "49117298",
      "metadata": {},
      "outputs": [],
      "source": [
        "seoul_copy.info()"
      ]
    },
    {
      "cell_type": "code",
      "execution_count": null,
      "id": "163e0ebb",
      "metadata": {},
      "outputs": [],
      "source": [
        "corr_mat=seoul_copy.corr()\n",
        "correlation_mat = corr_mat.corr()[\"평균매출\"].abs()\n",
        "correlation_mat_sorted = correlation_mat.sort_values(ascending=False)\n",
        "correlation_mat_sorted"
      ]
    },
    {
      "cell_type": "code",
      "execution_count": null,
      "id": "6656ccb7",
      "metadata": {},
      "outputs": [],
      "source": [
        "idx=correlation_mat_sorted[0:14].index\n",
        "idx"
      ]
    },
    {
      "cell_type": "code",
      "execution_count": null,
      "id": "85a0aba7",
      "metadata": {},
      "outputs": [],
      "source": [
        "seoul_corr=seoul[idx]\n",
        "seoul_corr.info()"
      ]
    },
    {
      "cell_type": "code",
      "execution_count": null,
      "id": "07b20567",
      "metadata": {},
      "outputs": [],
      "source": [
        "seoul_corr.describe().T.astype(int)"
      ]
    },
    {
      "cell_type": "code",
      "execution_count": null,
      "id": "fbb7355e",
      "metadata": {},
      "outputs": [],
      "source": [
        "seoul_corr.columns"
      ]
    },
    {
      "cell_type": "code",
      "execution_count": null,
      "id": "a7dab317",
      "metadata": {},
      "outputs": [],
      "source": [
        "col=['금요일_매출_금액', '수요일_매출_금액', '목요일_매출_금액', '월요일_매출_금액', '화요일_매출_금액',\n",
        "       '토요일_매출_금액', '일요일_매출_금액', '총_직장_인구_수', '음식점_한식음식점', '총_유동인구_수',\n",
        "       '상권_구분_코드_명_발달상권', '상권_구분_코드_명_골목상권', '상권_구분_코드_명_관광특구']"
      ]
    },
    {
      "cell_type": "code",
      "execution_count": null,
      "id": "da06de53",
      "metadata": {},
      "outputs": [],
      "source": [
        "sns.pairplot(data=seoul_corr, x_vars=col, y_vars=\"평균매출\")"
      ]
    },
    {
      "cell_type": "code",
      "execution_count": null,
      "id": "589d163c",
      "metadata": {},
      "outputs": [],
      "source": [
        "sns.scatterplot(data=seoul_corr, x=\"상권_구분_코드_명_발달상권\", y=\"평균매출\", label=\"상권_구분_코드_명_발달상권\")\n",
        "sns.scatterplot(data=seoul_corr, x=\"상권_구분_코드_명_골목상권\", y=\"평균매출\", label=\"상권_구분_코드_명_골목상권\")\n",
        "sns.scatterplot(data=seoul_corr, x=\"상권_구분_코드_명_관광특구\", y=\"평균매출\", label=\"상권_구분_코드_명_관광특구\")\n",
        "plt.xlabel(\" \")\n",
        "plt.ylabel(\"평균매출\")"
      ]
    },
    {
      "cell_type": "markdown",
      "id": "63b21802",
      "metadata": {},
      "source": [
        "## 모델 훈련 및 평가"
      ],
      "outputs": [],
      "execution_count": null
    },
    {
      "cell_type": "code",
      "execution_count": null,
      "id": "a3f27652",
      "metadata": {},
      "outputs": [],
      "source": [
        "X=seoul_corr[col]\n",
        "Y=seoul_corr[\"평균매출\"]\n",
        "print(X.shape, type(X))\n",
        "print(Y.shape, type(Y))"
      ]
    },
    {
      "cell_type": "code",
      "execution_count": null,
      "id": "ce525ea3",
      "metadata": {},
      "outputs": [],
      "source": [
        "X_train, X_test, Y_train, Y_test=train_test_split(X, Y, random_state=42)"
      ]
    },
    {
      "cell_type": "code",
      "execution_count": null,
      "id": "2a2e85fc",
      "metadata": {},
      "outputs": [],
      "source": [
        "lr=LinearRegression()\n",
        "lr.fit(X_train, Y_train)"
      ]
    },
    {
      "cell_type": "code",
      "execution_count": null,
      "id": "4a99c835",
      "metadata": {},
      "outputs": [],
      "source": [
        "print(\"학습: \", lr.score(X_train, Y_train))\n",
        "print(\"일반화: \", lr.score(X_test, Y_test))"
      ]
    },
    {
      "cell_type": "markdown",
      "id": "6e1a66be",
      "metadata": {},
      "source": [
        "> Polynomial"
      ],
      "outputs": [],
      "execution_count": null
    },
    {
      "cell_type": "code",
      "execution_count": null,
      "id": "0dbf2c0c",
      "metadata": {},
      "outputs": [],
      "source": [
        "poly=PolynomialFeatures(include_bias=False)\n",
        "poly.fit(X_train)"
      ]
    },
    {
      "cell_type": "code",
      "execution_count": null,
      "id": "f55ea3b5",
      "metadata": {},
      "outputs": [],
      "source": [
        "X_train_poly=poly.transform(X_train)\n",
        "X_test_poly=poly.transform(X_test)\n",
        "X_test_poly.shape"
      ]
    },
    {
      "cell_type": "code",
      "execution_count": null,
      "id": "65baa177",
      "metadata": {},
      "outputs": [],
      "source": [
        "scaler=StandardScaler()\n",
        "scaler.fit(X_train_poly)\n",
        "\n",
        "X_train_scaled=scaler.transform(X_train_poly)\n",
        "X_test_scaled=scaler.transform(X_test_poly)"
      ]
    },
    {
      "cell_type": "code",
      "execution_count": null,
      "id": "ad2e81d3",
      "metadata": {},
      "outputs": [],
      "source": [
        "lr=LinearRegression()\n",
        "lr.fit(X_train_scaled, Y_train)"
      ]
    },
    {
      "cell_type": "code",
      "execution_count": null,
      "id": "a1aa36da",
      "metadata": {},
      "outputs": [],
      "source": [
        "print(\"학습: \", lr.score(X_train_scaled, Y_train))\n",
        "print(\"일반화: \", lr.score(X_test_scaled, Y_test))"
      ]
    },
    {
      "cell_type": "code",
      "execution_count": null,
      "id": "c06e5abb",
      "metadata": {},
      "outputs": [],
      "source": [
        "print(lr.coef_, lr.intercept_)"
      ]
    },
    {
      "cell_type": "code",
      "execution_count": null,
      "id": "2bb59af0",
      "metadata": {},
      "outputs": [],
      "source": [
        "X_train, X_test, Y_train, Y_test=train_test_split(X, Y, random_state=42)\n",
        "poly=PolynomialFeatures(include_bias=False, degree=5)  # 5차 다항식\n",
        "poly.fit(X_train)\n",
        "X_train_poly=poly.transform(X_train)\n",
        "X_test_poly=poly.transform(X_test)\n",
        "X_train_poly.shape,  X_test_poly.shape"
      ]
    },
    {
      "cell_type": "code",
      "execution_count": null,
      "id": "22b140bd",
      "metadata": {},
      "outputs": [],
      "source": [
        "scaler=StandardScaler()\n",
        "scaler.fit(X_train_poly)\n",
        "\n",
        "X_train_scaled=scaler.transform(X_train_poly)\n",
        "X_test_scaled=scaler.transform(X_test_poly)"
      ]
    },
    {
      "cell_type": "code",
      "execution_count": null,
      "id": "9d3aa72c",
      "metadata": {},
      "outputs": [],
      "source": [
        "lr=LinearRegression()\n",
        "lr.fit(X_train_scaled, Y_train)"
      ]
    },
    {
      "cell_type": "code",
      "execution_count": null,
      "id": "21b63ff6",
      "metadata": {},
      "outputs": [],
      "source": [
        "print(\"학습: \", lr.score(X_train_scaled, Y_train))\n",
        "print(\"일반화: \", lr.score(X_test_scaled, Y_test))"
      ]
    },
    {
      "cell_type": "markdown",
      "id": "c8fe557e",
      "metadata": {},
      "source": [
        "> 릿지"
      ],
      "outputs": [],
      "execution_count": null
    },
    {
      "cell_type": "code",
      "execution_count": null,
      "id": "6ab6f0a8",
      "metadata": {},
      "outputs": [],
      "source": [
        "from sklearn.linear_model import Ridge\n",
        "\n",
        "ridg=Ridge()  # 규제값 default: 1.0\n",
        "ridg.fit(X_train_scaled, Y_train)\n",
        "\n",
        "print(\"학습: \", ridg.score(X_train_scaled, Y_train))\n",
        "print(\"일반화: \", ridg.score(X_test_scaled, Y_test))"
      ]
    },
    {
      "cell_type": "markdown",
      "id": "b629d0d2",
      "metadata": {},
      "source": [
        "하이퍼파리미터"
      ],
      "outputs": [],
      "execution_count": null
    },
    {
      "cell_type": "code",
      "execution_count": null,
      "id": "d1e251e6",
      "metadata": {},
      "outputs": [],
      "source": [
        "alpha_list=[0.001, 0.01, 0.1, 1, 10, 100]\n",
        "\n",
        "for i in alpha_list:\n",
        "    ridg=Ridge(alpha=i)\n",
        "    ridg.fit(X_train_scaled, Y_train)\n",
        "    print(f\"{i} 의 경우\")\n",
        "    print(\"학습: \", ridg.score(X_train_scaled, Y_train))\n",
        "    print(\"일반화: \", ridg.score(X_test_scaled, Y_test), \"\\n\")"
      ]
    },
    {
      "cell_type": "markdown",
      "id": "f3fb894d",
      "metadata": {},
      "source": [
        "> 라쏘"
      ],
      "outputs": [],
      "execution_count": null
    },
    {
      "cell_type": "code",
      "execution_count": null,
      "id": "053e65d3",
      "metadata": {},
      "outputs": [],
      "source": [
        "lasso=Lasso()  # 규제값(alpha) default: 1.0\n",
        "lasso.fit(X_train_scaled, Y_train)\n",
        "\n",
        "print(\"학습: \", lasso.score(X_train_scaled, Y_train))\n",
        "print(\"일반화: \", lasso.score(X_test_scaled, Y_test))"
      ]
    },
    {
      "cell_type": "markdown",
      "id": "86015aca",
      "metadata": {},
      "source": [
        "하이퍼파리미터"
      ],
      "outputs": [],
      "execution_count": null
    },
    {
      "cell_type": "code",
      "execution_count": null,
      "id": "a84dfa0a",
      "metadata": {},
      "outputs": [],
      "source": [
        "alpha_list=[0.001, 0.01, 0.1, 1, 10, 100]\n",
        "\n",
        "for i in alpha_list:\n",
        "    lasso=Lasso(alpha=i)\n",
        "    lasso.fit(X_train_scaled, Y_train)\n",
        "    print(f\"{i} 의 경우\")\n",
        "    print(\"학습: \", lasso.score(X_train_scaled, Y_train))\n",
        "    print(\"일반화: \", lasso.score(X_test_scaled, Y_test), \"\\n\")"
      ]
    },
    {
      "cell_type": "markdown",
      "id": "6cb0a0ab",
      "metadata": {},
      "source": [
        "tol 값은 알고리즘이 반복을 멈출 기준을 설정하는 숫자로,  \n",
        "작은 tol(0.0001)은 더 정확한 결과를 원한다면, 반복을 더 많이 해야 하므로 시간이 오래 걸린다.  \n",
        "큰 tol(0.01) 더 빠르게 멈추지만, 결과가 덜 정확할 수 있다.  \n",
        "따라서 tol은 정확도와 속도를 조절하는 역할을 한다.  \n",
        "\n",
        "default값인 0.0001이기에 너무 작아서 모델이 잘 학습하지 못하는 경우가 있기 때문에\n",
        "tol 값을 조금 높여서 지정해주면 된다.  "
      ],
      "outputs": [],
      "execution_count": null
    },
    {
      "cell_type": "code",
      "execution_count": null,
      "id": "d0478fde",
      "metadata": {},
      "outputs": [],
      "source": [
        "alpha_list=[0.001, 0.01, 0.1, 1, 10, 100]\n",
        "\n",
        "for i in alpha_list:\n",
        "    lasso=Lasso(alpha=i, tol=0.01)\n",
        "    lasso.fit(X_train_scaled, Y_train)\n",
        "    print(f\"{i} 의 경우\")\n",
        "    print(\"학습: \", lasso.score(X_train_scaled, Y_train))\n",
        "    print(\"일반화: \", lasso.score(X_test_scaled, Y_test), \"\\n\")"
      ]
    },
    {
      "cell_type": "markdown",
      "id": "8940ccf7",
      "metadata": {},
      "source": [
        "> 엘라스틱"
      ],
      "outputs": [],
      "execution_count": null
    },
    {
      "cell_type": "code",
      "execution_count": null,
      "id": "16135ca0",
      "metadata": {},
      "outputs": [],
      "source": [
        "from sklearn.linear_model import ElasticNet\n",
        "\n",
        "elastic_net=ElasticNet()  \n",
        "elastic_net.fit(X_train_scaled, Y_train)\n",
        "\n",
        "print(\"학습: \", elastic_net.score(X_train_scaled, Y_train))\n",
        "print(\"일반화: \", elastic_net.score(X_test_scaled, Y_test))"
      ]
    },
    {
      "cell_type": "code",
      "execution_count": null,
      "id": "a07f4e4f",
      "metadata": {},
      "outputs": [],
      "source": [
        "alpha_list=[0.001, 0.01, 0.1, 1, 10, 100]\n",
        "\n",
        "for i in alpha_list:\n",
        "    elastic_net=ElasticNet(alpha=i, tol=0.01)\n",
        "    elastic_net.fit(X_train_scaled, Y_train)\n",
        "    print(f\"{i} 의 경우\")\n",
        "    print(\"학습: \", elastic_net.score(X_train_scaled, Y_train))\n",
        "    print(\"일반화: \", elastic_net.score(X_test_scaled, Y_test), \"\\n\")"
      ]
    },
    {
      "cell_type": "markdown",
      "id": "100eaf75-5e47-411d-b153-8e4ff26e9583",
      "metadata": {},
      "source": [
        "---"
      ],
      "outputs": [],
      "execution_count": null
    },
    {
      "cell_type": "code",
      "execution_count": null,
      "id": "f44002b3-356b-4551-9fc0-e66b5bea381a",
      "metadata": {},
      "outputs": [],
      "source": [
        "sns.histplot(restaurants_final[\"평균매출\"], kde=True)"
      ]
    },
    {
      "cell_type": "code",
      "execution_count": null,
      "id": "b2a85d3e-bee1-4eb6-ab2d-516339a375cc",
      "metadata": {},
      "outputs": [],
      "source": [
        "fig, axes = plt.subplots(2, 4, figsize=(18, 10))  # 2행 4열의 서브플롯 (총 8개의 서브플롯)\n",
        "\n",
        "days_of_week = [\"월요일_매출_금액\", \"화요일_매출_금액\", \"수요일_매출_금액\", \n",
        "                \"목요일_매출_금액\", \"금요일_매출_금액\", \"토요일_매출_금액\", \n",
        "                \"일요일_매출_금액\"]\n",
        "\n",
        "for i, day in enumerate(days_of_week):\n",
        "    row = i // 4\n",
        "    col = i % 4\n",
        "    \n",
        "    sns.histplot(restaurants_final[day], kde=True, ax=axes[row, col])\n",
        "    axes[row, col].set_title(f\"Distribution of {day}\")\n",
        "    axes[row, col].set_xlabel(f\"{day}\")\n",
        "    axes[row, col].set_ylabel(\"Frequency\")\n",
        "\n",
        "plt.show()"
      ]
    },
    {
      "cell_type": "code",
      "execution_count": null,
      "id": "4d422c06-03cc-41b4-b9d7-24cce9fa3df5",
      "metadata": {},
      "outputs": [],
      "source": [
        "plt.figure(figsize=(10, 6))\n",
        "sns.boxplot(x=\"상권_구분_코드_명_발달상권\", y=\"평균매출\", data=restaurants_final)\n",
        "plt.title(\"Comparison of 평균매출 by 상권 구분 (발달상권)\")\n",
        "plt.xlabel(\"상권 구분 (발달상권)\")\n",
        "plt.ylabel(\"평균매출\")\n",
        "plt.show()"
      ]
    },
    {
      "cell_type": "code",
      "execution_count": null,
      "id": "9be1a306-6185-4d78-b8f3-d22823a5ecb0",
      "metadata": {},
      "outputs": [],
      "source": [
        "plt.figure(figsize=(12, 8))\n",
        "sns.boxplot(x=\"음식점_한식음식점\", y=\"평균매출\", data=restaurants_final)\n",
        "plt.title(\"Comparison of 평균매출 by 음식점 유형 (한식음식점)\")\n",
        "plt.xlabel(\"음식점 유형 (한식음식점)\")\n",
        "plt.ylabel(\"평균매출\")\n",
        "plt.show()"
      ]
    },
    {
      "cell_type": "code",
      "execution_count": null,
      "id": "fc8dc114-8dc9-4af1-ad15-93572feba7e6",
      "metadata": {},
      "outputs": [],
      "source": [
        "fig, axes = plt.subplots(1, 3, figsize=(18, 6))\n",
        "\n",
        "# 평균매출 분포\n",
        "axes[0].set_title(\"Distribution of 평균매출\")\n",
        "axes[0].set_xlabel(\"평균매출\")\n",
        "axes[0].set_ylabel(\"Frequency\")\n",
        "\n",
        "# 월요일 매출 금액 분포\n",
        "sns.histplot(restaurants_final[\"월요일_매출_금액\"], kde=True, ax=axes[1])\n",
        "axes[1].set_title(\"Distribution of 월요일_매출_금액\")\n",
        "axes[1].set_xlabel(\"월요일_매출_금액\")\n",
        "axes[1].set_ylabel(\"Frequency\")\n",
        "\n",
        "# 금요일 매출 금액 분포\n",
        "sns.histplot(restaurants_final[\"금요일_매출_금액\"], kde=True, ax=axes[2])\n",
        "axes[2].set_title(\"Distribution of 금요일_매출_금액\")\n",
        "axes[2].set_xlabel(\"금요일_매출_금액\")\n",
        "axes[2].set_ylabel(\"Frequency\")\n",
        "\n",
        "# 레이아웃 정리\n",
        "plt.tight_layout()\n",
        "plt.show()"
      ]
    },
    {
      "cell_type": "code",
      "execution_count": null,
      "id": "2bb301af-3574-42d5-b0b4-63df406678cb",
      "metadata": {},
      "outputs": [],
      "source": []
    },
    {
      "cell_type": "code",
      "execution_count": null,
      "id": "41a9d865-7fbc-486f-a94a-0f4bebfa3015",
      "metadata": {},
      "outputs": [],
      "source": [
        "seoul_restaurants.columns"
      ]
    },
    {
      "cell_type": "code",
      "execution_count": null,
      "id": "497e5437-ecbe-466b-83be-1c3700824a75",
      "metadata": {},
      "outputs": [],
      "source": [
        "seoul_restaurants.info()"
      ]
    },
    {
      "cell_type": "code",
      "execution_count": null,
      "id": "acbe0222-bbf3-49a8-956d-62f46049b018",
      "metadata": {},
      "outputs": [],
      "source": [
        "columns_to_drop=[\"상권_구분_코드_y\", \"상권_구분_코드_명_y\", \"상권_코드_y\"]  \n",
        "seoul_restaurants_drop = seoul_restaurants.drop(columns=columns_to_drop)\n",
        "seoul_restaurants_drop.info()"
      ]
    },
    {
      "cell_type": "code",
      "execution_count": null,
      "id": "727c22cb-a909-4c68-b817-62a908429443",
      "metadata": {},
      "outputs": [],
      "source": [
        "seoul_restaurants_drop.columns = seoul_restaurants_drop.columns.str.replace(\"_x\",\"\")\n",
        "seoul_restaurants_drop.info()"
      ]
    },
    {
      "cell_type": "code",
      "execution_count": null,
      "id": "dc4da9b1-0b6d-4ca3-9b16-d607be6b5676",
      "metadata": {},
      "outputs": [],
      "source": [
        "restaurants_final_numeric = seoul_restaurants_drop.select_dtypes(include=[\"float64\", \"int64\", \"bool\"])\n",
        "\n",
        "correlation_matrix = restaurants_final_numeric.corr()[\"평균매출\"]\n",
        "correlation_matrix_sorted = correlation_matrix.sort_values(ascending=False)\n",
        "pd.set_option('display.max_rows', None)\n",
        "correlation_matrix_sorted"
      ]
    },
    {
      "cell_type": "markdown",
      "id": "2198d0b1-5ecf-4f69-af39-67e9746ee367",
      "metadata": {},
      "source": [
        "X=서비스업종명, 유동인구수,   \n",
        "Y=당월 매출금액  \n",
        "훈련 -> 예측  \n",
        "\n",
        "업종마다의 금액이 나오니까  \n",
        "\n",
        "X=상권구분, 서비스업종명, 유동인구수  \n",
        "Y=당월 매출금액  "
      ],
      "outputs": [],
      "execution_count": null
    },
    {
      "cell_type": "code",
      "execution_count": null,
      "id": "44f6f443-2f74-44fc-a130-5c2b52687ffe",
      "metadata": {},
      "outputs": [],
      "source": []
    },
    {
      "cell_type": "code",
      "execution_count": null,
      "id": "7252cbcf-ef9b-46f1-8efe-6bbf50e83393",
      "metadata": {},
      "outputs": [],
      "source": [
        "X =  '상권코드명', '서비스업종코드명',  '총 유동인구',  '요일_월', ... '요일_일'\n",
        "Y = '당월 매출금액'"
      ]
    }
  ],
  "metadata": {},
  "nbformat": 4,
  "nbformat_minor": 5
}
